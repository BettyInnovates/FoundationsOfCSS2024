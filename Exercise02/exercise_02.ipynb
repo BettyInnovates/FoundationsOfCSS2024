{
 "cells": [
  {
   "cell_type": "markdown",
   "metadata": {},
   "source": [
    "# Social Impact Theory with Twitter Data\n",
    "## Tasks\n",
    "In this assignment you will do the following tasks:\n",
    "\n",
    "1. Construct the timelines of Twitter users\n",
    "2. Visualize distributions and scatter plots\n",
    "3. Fit and visualize a regression model\n",
    "4. Bootstrapping"
   ]
  },
  {
   "cell_type": "markdown",
   "metadata": {},
   "source": [
    "### Install requirements. \n",
    "\n",
    "The following cell contains all the necessary dependencies needed for this task. If you run the cell everything will be installed.  \n",
    "* [`pandas`](https://pandas.pydata.org/docs/index.html) is a Python package for creating and working with tabular data. [Here](https://pandas.pydata.org/docs/reference/index.html) is the documentation of `pandas`.\n",
    "* [`numpy`](https://numpy.org/) is a Python package for mathematical functions. [Here](https://numpy.org/doc/stable/reference/index.html) is the documentation of `numpy`.\n",
    "* [`matplotlib`](https://matplotlib.org/) is a Python package for creating plots. [Here](https://matplotlib.org/stable/api/index.html) is the documentation of `matplotlib`.\n",
    "* [`scikit-learn`](https://scikit-learn.org/stable/) is a Python package with different machinelearning algorithms. [Here](https://scikit-learn.org/stable/modules/classes.html) is the documentation of `sklearn`."
   ]
  },
  {
   "cell_type": "code",
   "execution_count": 2,
   "metadata": {},
   "outputs": [
    {
     "name": "stdout",
     "output_type": "stream",
     "text": [
      "Requirement already satisfied: pandas in c:\\users\\betty\\appdata\\local\\programs\\python\\python312\\lib\\site-packages (2.2.3)\n",
      "Requirement already satisfied: numpy>=1.26.0 in c:\\users\\betty\\appdata\\local\\programs\\python\\python312\\lib\\site-packages (from pandas) (2.1.3)\n",
      "Requirement already satisfied: python-dateutil>=2.8.2 in c:\\users\\betty\\appdata\\local\\programs\\python\\python312\\lib\\site-packages (from pandas) (2.9.0.post0)\n",
      "Requirement already satisfied: pytz>=2020.1 in c:\\users\\betty\\appdata\\local\\programs\\python\\python312\\lib\\site-packages (from pandas) (2024.2)\n",
      "Requirement already satisfied: tzdata>=2022.7 in c:\\users\\betty\\appdata\\local\\programs\\python\\python312\\lib\\site-packages (from pandas) (2024.2)\n",
      "Requirement already satisfied: six>=1.5 in c:\\users\\betty\\appdata\\local\\programs\\python\\python312\\lib\\site-packages (from python-dateutil>=2.8.2->pandas) (1.16.0)\n"
     ]
    },
    {
     "name": "stderr",
     "output_type": "stream",
     "text": [
      "\n",
      "[notice] A new release of pip is available: 24.2 -> 24.3.1\n",
      "[notice] To update, run: python.exe -m pip install --upgrade pip\n"
     ]
    },
    {
     "name": "stdout",
     "output_type": "stream",
     "text": [
      "Requirement already satisfied: numpy in c:\\users\\betty\\appdata\\local\\programs\\python\\python312\\lib\\site-packages (2.1.3)\n"
     ]
    },
    {
     "name": "stderr",
     "output_type": "stream",
     "text": [
      "\n",
      "[notice] A new release of pip is available: 24.2 -> 24.3.1\n",
      "[notice] To update, run: python.exe -m pip install --upgrade pip\n"
     ]
    },
    {
     "name": "stdout",
     "output_type": "stream",
     "text": [
      "Requirement already satisfied: matplotlib in c:\\users\\betty\\appdata\\local\\programs\\python\\python312\\lib\\site-packages (3.9.2)\n",
      "Requirement already satisfied: contourpy>=1.0.1 in c:\\users\\betty\\appdata\\local\\programs\\python\\python312\\lib\\site-packages (from matplotlib) (1.3.0)\n",
      "Requirement already satisfied: cycler>=0.10 in c:\\users\\betty\\appdata\\local\\programs\\python\\python312\\lib\\site-packages (from matplotlib) (0.12.1)\n",
      "Requirement already satisfied: fonttools>=4.22.0 in c:\\users\\betty\\appdata\\local\\programs\\python\\python312\\lib\\site-packages (from matplotlib) (4.54.1)\n",
      "Requirement already satisfied: kiwisolver>=1.3.1 in c:\\users\\betty\\appdata\\local\\programs\\python\\python312\\lib\\site-packages (from matplotlib) (1.4.7)\n",
      "Requirement already satisfied: numpy>=1.23 in c:\\users\\betty\\appdata\\local\\programs\\python\\python312\\lib\\site-packages (from matplotlib) (2.1.3)\n",
      "Requirement already satisfied: packaging>=20.0 in c:\\users\\betty\\appdata\\local\\programs\\python\\python312\\lib\\site-packages (from matplotlib) (24.1)\n",
      "Requirement already satisfied: pillow>=8 in c:\\users\\betty\\appdata\\local\\programs\\python\\python312\\lib\\site-packages (from matplotlib) (11.0.0)\n",
      "Requirement already satisfied: pyparsing>=2.3.1 in c:\\users\\betty\\appdata\\local\\programs\\python\\python312\\lib\\site-packages (from matplotlib) (3.2.0)\n",
      "Requirement already satisfied: python-dateutil>=2.7 in c:\\users\\betty\\appdata\\local\\programs\\python\\python312\\lib\\site-packages (from matplotlib) (2.9.0.post0)\n",
      "Requirement already satisfied: six>=1.5 in c:\\users\\betty\\appdata\\local\\programs\\python\\python312\\lib\\site-packages (from python-dateutil>=2.7->matplotlib) (1.16.0)\n"
     ]
    },
    {
     "name": "stderr",
     "output_type": "stream",
     "text": [
      "\n",
      "[notice] A new release of pip is available: 24.2 -> 24.3.1\n",
      "[notice] To update, run: python.exe -m pip install --upgrade pip\n"
     ]
    },
    {
     "name": "stdout",
     "output_type": "stream",
     "text": [
      "Collecting scikit-learn\n",
      "  Downloading scikit_learn-1.5.2-cp312-cp312-win_amd64.whl.metadata (13 kB)\n",
      "Requirement already satisfied: numpy>=1.19.5 in c:\\users\\betty\\appdata\\local\\programs\\python\\python312\\lib\\site-packages (from scikit-learn) (2.1.3)\n",
      "Requirement already satisfied: scipy>=1.6.0 in c:\\users\\betty\\appdata\\local\\programs\\python\\python312\\lib\\site-packages (from scikit-learn) (1.14.1)\n",
      "Collecting joblib>=1.2.0 (from scikit-learn)\n",
      "  Downloading joblib-1.4.2-py3-none-any.whl.metadata (5.4 kB)\n",
      "Collecting threadpoolctl>=3.1.0 (from scikit-learn)\n",
      "  Downloading threadpoolctl-3.5.0-py3-none-any.whl.metadata (13 kB)\n",
      "Downloading scikit_learn-1.5.2-cp312-cp312-win_amd64.whl (11.0 MB)\n",
      "   ---------------------------------------- 0.0/11.0 MB ? eta -:--:--\n",
      "   - -------------------------------------- 0.5/11.0 MB 8.2 MB/s eta 0:00:02\n",
      "   ------ --------------------------------- 1.8/11.0 MB 6.3 MB/s eta 0:00:02\n",
      "   ------------ --------------------------- 3.4/11.0 MB 7.2 MB/s eta 0:00:02\n",
      "   -------------------- ------------------- 5.8/11.0 MB 8.6 MB/s eta 0:00:01\n",
      "   ------------------------------ --------- 8.4/11.0 MB 9.4 MB/s eta 0:00:01\n",
      "   ---------------------------------------  10.7/11.0 MB 10.0 MB/s eta 0:00:01\n",
      "   ---------------------------------------- 11.0/11.0 MB 9.5 MB/s eta 0:00:00\n",
      "Downloading joblib-1.4.2-py3-none-any.whl (301 kB)\n",
      "Downloading threadpoolctl-3.5.0-py3-none-any.whl (18 kB)\n",
      "Installing collected packages: threadpoolctl, joblib, scikit-learn\n",
      "Successfully installed joblib-1.4.2 scikit-learn-1.5.2 threadpoolctl-3.5.0\n"
     ]
    },
    {
     "name": "stderr",
     "output_type": "stream",
     "text": [
      "\n",
      "[notice] A new release of pip is available: 24.2 -> 24.3.1\n",
      "[notice] To update, run: python.exe -m pip install --upgrade pip\n"
     ]
    }
   ],
   "source": [
    "! pip install pandas\n",
    "! pip install numpy\n",
    "! pip install matplotlib\n",
    "! pip install scikit-learn"
   ]
  },
  {
   "cell_type": "markdown",
   "metadata": {},
   "source": [
    "### Import requirements\n",
    "The cell below imports all necessary dependancies. Make sure they are installed (see cell above)."
   ]
  },
  {
   "cell_type": "code",
   "execution_count": 3,
   "metadata": {
    "tags": []
   },
   "outputs": [],
   "source": [
    "import pandas as pd\n",
    "import matplotlib.pyplot as plt\n",
    "import numpy as np\n",
    "from sklearn.linear_model import LinearRegression"
   ]
  },
  {
   "cell_type": "markdown",
   "metadata": {},
   "source": [
    "# 1 Construct the timelines of Twitter users\n",
    "\n",
    "## 1.1 Getting a list of users\n",
    "In this Task choose a list with a few hundred Twitter users, [here](https://docs.google.com/spreadsheets/d/1tcNy1q_eQH3HXGt-0hkmSNEGbcOUiC5si3kZ6-F0pB8/) you can find some example ids of such lists.  \n",
    "Retrieve all user informations of every user in the list from 'the users.csv' file and save them in a pandas Dataframe. \n"
   ]
  },
  {
   "cell_type": "code",
   "execution_count": 7,
   "metadata": {
    "tags": []
   },
   "outputs": [
    {
     "data": {
      "text/html": [
       "<div>\n",
       "<style scoped>\n",
       "    .dataframe tbody tr th:only-of-type {\n",
       "        vertical-align: middle;\n",
       "    }\n",
       "\n",
       "    .dataframe tbody tr th {\n",
       "        vertical-align: top;\n",
       "    }\n",
       "\n",
       "    .dataframe thead th {\n",
       "        text-align: right;\n",
       "    }\n",
       "</style>\n",
       "<table border=\"1\" class=\"dataframe\">\n",
       "  <thead>\n",
       "    <tr style=\"text-align: right;\">\n",
       "      <th></th>\n",
       "      <th>username</th>\n",
       "      <th>id</th>\n",
       "      <th>created_at</th>\n",
       "      <th>name</th>\n",
       "      <th>verified</th>\n",
       "      <th>profile_image_url</th>\n",
       "      <th>description</th>\n",
       "      <th>protected</th>\n",
       "      <th>location</th>\n",
       "      <th>url</th>\n",
       "      <th>public_metrics.followers_count</th>\n",
       "      <th>public_metrics.following_count</th>\n",
       "      <th>public_metrics.tweet_count</th>\n",
       "      <th>public_metrics.listed_count</th>\n",
       "      <th>entities.url.urls</th>\n",
       "      <th>entities.description.hashtags</th>\n",
       "      <th>entities.description.urls</th>\n",
       "      <th>pinned_tweet_id</th>\n",
       "      <th>entities.description.mentions</th>\n",
       "    </tr>\n",
       "  </thead>\n",
       "  <tbody>\n",
       "    <tr>\n",
       "      <th>0</th>\n",
       "      <td>RepConnieConway</td>\n",
       "      <td>1544718378987933703</td>\n",
       "      <td>2022-07-06T16:24:50.000Z</td>\n",
       "      <td>Connie Conway</td>\n",
       "      <td>True</td>\n",
       "      <td>https://pbs.twimg.com/profile_images/155671548...</td>\n",
       "      <td>Mom, grandmom, wife, daughter of the Central V...</td>\n",
       "      <td>False</td>\n",
       "      <td>Tulare, CA / Washington, D.C.</td>\n",
       "      <td>https://t.co/Iw5uKMYU4t</td>\n",
       "      <td>220</td>\n",
       "      <td>5</td>\n",
       "      <td>60</td>\n",
       "      <td>7</td>\n",
       "      <td>[{'start': 0, 'end': 23, 'url': 'https://t.co/...</td>\n",
       "      <td>[{'start': 131, 'end': 136, 'tag': 'CA22'}]</td>\n",
       "      <td>NaN</td>\n",
       "      <td>NaN</td>\n",
       "      <td>NaN</td>\n",
       "    </tr>\n",
       "    <tr>\n",
       "      <th>1</th>\n",
       "      <td>repmayraflores</td>\n",
       "      <td>1538990997769707523</td>\n",
       "      <td>2022-06-20T21:07:08.000Z</td>\n",
       "      <td>Congresswoman Mayra Flores</td>\n",
       "      <td>True</td>\n",
       "      <td>https://pbs.twimg.com/profile_images/153941811...</td>\n",
       "      <td>Proudly representing Texas's 34th District in ...</td>\n",
       "      <td>False</td>\n",
       "      <td>NaN</td>\n",
       "      <td>NaN</td>\n",
       "      <td>27800</td>\n",
       "      <td>55</td>\n",
       "      <td>277</td>\n",
       "      <td>48</td>\n",
       "      <td>NaN</td>\n",
       "      <td>NaN</td>\n",
       "      <td>NaN</td>\n",
       "      <td>NaN</td>\n",
       "      <td>NaN</td>\n",
       "    </tr>\n",
       "    <tr>\n",
       "      <th>2</th>\n",
       "      <td>CongresswomanSC</td>\n",
       "      <td>1484252226646421505</td>\n",
       "      <td>2022-01-20T19:53:08.000Z</td>\n",
       "      <td>Congresswoman Sheila Cherfilus-McCormick</td>\n",
       "      <td>False</td>\n",
       "      <td>https://pbs.twimg.com/profile_images/149180185...</td>\n",
       "      <td>Congresswoman Sheila Cherfilus-McCormick 📍Prou...</td>\n",
       "      <td>False</td>\n",
       "      <td>Miramar, FL</td>\n",
       "      <td>https://t.co/wE6d2R5SXn</td>\n",
       "      <td>1005</td>\n",
       "      <td>25</td>\n",
       "      <td>284</td>\n",
       "      <td>36</td>\n",
       "      <td>[{'start': 0, 'end': 23, 'url': 'https://t.co/...</td>\n",
       "      <td>[{'start': 130, 'end': 150, 'tag': 'workingfor...</td>\n",
       "      <td>NaN</td>\n",
       "      <td>NaN</td>\n",
       "      <td>NaN</td>\n",
       "    </tr>\n",
       "    <tr>\n",
       "      <th>3</th>\n",
       "      <td>RepMikeCarey</td>\n",
       "      <td>1457745193197780993</td>\n",
       "      <td>2021-11-08T16:21:58.000Z</td>\n",
       "      <td>Congressman Mike Carey</td>\n",
       "      <td>True</td>\n",
       "      <td>https://pbs.twimg.com/profile_images/146027559...</td>\n",
       "      <td>Congressman Mike Carey. Proudly serving Ohio's...</td>\n",
       "      <td>False</td>\n",
       "      <td>NaN</td>\n",
       "      <td>https://t.co/CnOlkJTpaX</td>\n",
       "      <td>1075</td>\n",
       "      <td>283</td>\n",
       "      <td>907</td>\n",
       "      <td>43</td>\n",
       "      <td>[{'start': 0, 'end': 23, 'url': 'https://t.co/...</td>\n",
       "      <td>NaN</td>\n",
       "      <td>[{'start': 76, 'end': 99, 'url': 'https://t.co...</td>\n",
       "      <td>NaN</td>\n",
       "      <td>NaN</td>\n",
       "    </tr>\n",
       "    <tr>\n",
       "      <th>4</th>\n",
       "      <td>RepShontelBrown</td>\n",
       "      <td>1456381091598700556</td>\n",
       "      <td>2021-11-04T22:01:33.000Z</td>\n",
       "      <td>Rep. Shontel Brown</td>\n",
       "      <td>True</td>\n",
       "      <td>https://pbs.twimg.com/profile_images/147075892...</td>\n",
       "      <td>Representative for Ohio’s Eleventh Congression...</td>\n",
       "      <td>False</td>\n",
       "      <td>NaN</td>\n",
       "      <td>https://t.co/v695zCnmxN</td>\n",
       "      <td>32924</td>\n",
       "      <td>348</td>\n",
       "      <td>911</td>\n",
       "      <td>163</td>\n",
       "      <td>[{'start': 0, 'end': 23, 'url': 'https://t.co/...</td>\n",
       "      <td>NaN</td>\n",
       "      <td>NaN</td>\n",
       "      <td>1.463532e+18</td>\n",
       "      <td>NaN</td>\n",
       "    </tr>\n",
       "    <tr>\n",
       "      <th>...</th>\n",
       "      <td>...</td>\n",
       "      <td>...</td>\n",
       "      <td>...</td>\n",
       "      <td>...</td>\n",
       "      <td>...</td>\n",
       "      <td>...</td>\n",
       "      <td>...</td>\n",
       "      <td>...</td>\n",
       "      <td>...</td>\n",
       "      <td>...</td>\n",
       "      <td>...</td>\n",
       "      <td>...</td>\n",
       "      <td>...</td>\n",
       "      <td>...</td>\n",
       "      <td>...</td>\n",
       "      <td>...</td>\n",
       "      <td>...</td>\n",
       "      <td>...</td>\n",
       "      <td>...</td>\n",
       "    </tr>\n",
       "    <tr>\n",
       "      <th>549</th>\n",
       "      <td>SteveDaines</td>\n",
       "      <td>11651202</td>\n",
       "      <td>2007-12-30T05:52:03.000Z</td>\n",
       "      <td>Steve Daines</td>\n",
       "      <td>True</td>\n",
       "      <td>https://pbs.twimg.com/profile_images/146907311...</td>\n",
       "      <td>Serving the people of Montana in the U.S. Sena...</td>\n",
       "      <td>False</td>\n",
       "      <td>Bozeman, MT</td>\n",
       "      <td>NaN</td>\n",
       "      <td>81287</td>\n",
       "      <td>661</td>\n",
       "      <td>8865</td>\n",
       "      <td>1729</td>\n",
       "      <td>NaN</td>\n",
       "      <td>NaN</td>\n",
       "      <td>NaN</td>\n",
       "      <td>NaN</td>\n",
       "      <td>NaN</td>\n",
       "    </tr>\n",
       "    <tr>\n",
       "      <th>550</th>\n",
       "      <td>ChuckGrassley</td>\n",
       "      <td>10615232</td>\n",
       "      <td>2007-11-26T15:17:02.000Z</td>\n",
       "      <td>Chuck Grassley</td>\n",
       "      <td>True</td>\n",
       "      <td>https://pbs.twimg.com/profile_images/921098191...</td>\n",
       "      <td>U.S. Senator. Family farmer. Lifetime resident...</td>\n",
       "      <td>False</td>\n",
       "      <td>Iowa</td>\n",
       "      <td>https://t.co/gGaOVfn75R</td>\n",
       "      <td>742952</td>\n",
       "      <td>12701</td>\n",
       "      <td>11666</td>\n",
       "      <td>6273</td>\n",
       "      <td>[{'start': 0, 'end': 23, 'url': 'https://t.co/...</td>\n",
       "      <td>NaN</td>\n",
       "      <td>NaN</td>\n",
       "      <td>NaN</td>\n",
       "      <td>[{'start': 80, 'end': 94, 'username': 'Grassle...</td>\n",
       "    </tr>\n",
       "    <tr>\n",
       "      <th>551</th>\n",
       "      <td>MarkWarner</td>\n",
       "      <td>7429102</td>\n",
       "      <td>2007-07-12T14:03:33.000Z</td>\n",
       "      <td>Mark Warner</td>\n",
       "      <td>True</td>\n",
       "      <td>https://pbs.twimg.com/profile_images/139693385...</td>\n",
       "      <td>U.S. Senator from Virginia. \\nChairman, Senate...</td>\n",
       "      <td>False</td>\n",
       "      <td>Virginia</td>\n",
       "      <td>https://t.co/sIM9jRW0rP</td>\n",
       "      <td>509595</td>\n",
       "      <td>22966</td>\n",
       "      <td>12925</td>\n",
       "      <td>4931</td>\n",
       "      <td>[{'start': 0, 'end': 23, 'url': 'https://t.co/...</td>\n",
       "      <td>NaN</td>\n",
       "      <td>NaN</td>\n",
       "      <td>NaN</td>\n",
       "      <td>NaN</td>\n",
       "    </tr>\n",
       "    <tr>\n",
       "      <th>552</th>\n",
       "      <td>JimInhofe</td>\n",
       "      <td>7270292</td>\n",
       "      <td>2007-07-05T14:39:13.000Z</td>\n",
       "      <td>Sen. Jim Inhofe</td>\n",
       "      <td>True</td>\n",
       "      <td>https://pbs.twimg.com/profile_images/124393715...</td>\n",
       "      <td>United States Senator from the great state of ...</td>\n",
       "      <td>False</td>\n",
       "      <td>Oklahoma</td>\n",
       "      <td>https://t.co/qvRXqSkqYw</td>\n",
       "      <td>96383</td>\n",
       "      <td>343</td>\n",
       "      <td>5408</td>\n",
       "      <td>2428</td>\n",
       "      <td>[{'start': 0, 'end': 23, 'url': 'https://t.co/...</td>\n",
       "      <td>NaN</td>\n",
       "      <td>NaN</td>\n",
       "      <td>NaN</td>\n",
       "      <td>NaN</td>\n",
       "    </tr>\n",
       "    <tr>\n",
       "      <th>553</th>\n",
       "      <td>JohnBoozman</td>\n",
       "      <td>5558312</td>\n",
       "      <td>2007-04-27T16:05:52.000Z</td>\n",
       "      <td>Senator John Boozman</td>\n",
       "      <td>True</td>\n",
       "      <td>https://pbs.twimg.com/profile_images/970776346...</td>\n",
       "      <td>U.S. Senator for Arkansas serving as @SenateAg...</td>\n",
       "      <td>False</td>\n",
       "      <td>Arkansas</td>\n",
       "      <td>https://t.co/pghdotWL5q</td>\n",
       "      <td>106204</td>\n",
       "      <td>789</td>\n",
       "      <td>9305</td>\n",
       "      <td>2586</td>\n",
       "      <td>[{'start': 0, 'end': 23, 'url': 'https://t.co/...</td>\n",
       "      <td>[{'start': 119, 'end': 129, 'tag': 'ServingAR'...</td>\n",
       "      <td>NaN</td>\n",
       "      <td>1.555574e+18</td>\n",
       "      <td>[{'start': 37, 'end': 49, 'username': 'SenateA...</td>\n",
       "    </tr>\n",
       "  </tbody>\n",
       "</table>\n",
       "<p>554 rows × 19 columns</p>\n",
       "</div>"
      ],
      "text/plain": [
       "            username                   id                created_at  \\\n",
       "0    RepConnieConway  1544718378987933703  2022-07-06T16:24:50.000Z   \n",
       "1     repmayraflores  1538990997769707523  2022-06-20T21:07:08.000Z   \n",
       "2    CongresswomanSC  1484252226646421505  2022-01-20T19:53:08.000Z   \n",
       "3       RepMikeCarey  1457745193197780993  2021-11-08T16:21:58.000Z   \n",
       "4    RepShontelBrown  1456381091598700556  2021-11-04T22:01:33.000Z   \n",
       "..               ...                  ...                       ...   \n",
       "549      SteveDaines             11651202  2007-12-30T05:52:03.000Z   \n",
       "550    ChuckGrassley             10615232  2007-11-26T15:17:02.000Z   \n",
       "551       MarkWarner              7429102  2007-07-12T14:03:33.000Z   \n",
       "552        JimInhofe              7270292  2007-07-05T14:39:13.000Z   \n",
       "553      JohnBoozman              5558312  2007-04-27T16:05:52.000Z   \n",
       "\n",
       "                                         name  verified  \\\n",
       "0                               Connie Conway      True   \n",
       "1                  Congresswoman Mayra Flores      True   \n",
       "2    Congresswoman Sheila Cherfilus-McCormick     False   \n",
       "3                      Congressman Mike Carey      True   \n",
       "4                          Rep. Shontel Brown      True   \n",
       "..                                        ...       ...   \n",
       "549                              Steve Daines      True   \n",
       "550                            Chuck Grassley      True   \n",
       "551                               Mark Warner      True   \n",
       "552                           Sen. Jim Inhofe      True   \n",
       "553                      Senator John Boozman      True   \n",
       "\n",
       "                                     profile_image_url  \\\n",
       "0    https://pbs.twimg.com/profile_images/155671548...   \n",
       "1    https://pbs.twimg.com/profile_images/153941811...   \n",
       "2    https://pbs.twimg.com/profile_images/149180185...   \n",
       "3    https://pbs.twimg.com/profile_images/146027559...   \n",
       "4    https://pbs.twimg.com/profile_images/147075892...   \n",
       "..                                                 ...   \n",
       "549  https://pbs.twimg.com/profile_images/146907311...   \n",
       "550  https://pbs.twimg.com/profile_images/921098191...   \n",
       "551  https://pbs.twimg.com/profile_images/139693385...   \n",
       "552  https://pbs.twimg.com/profile_images/124393715...   \n",
       "553  https://pbs.twimg.com/profile_images/970776346...   \n",
       "\n",
       "                                           description  protected  \\\n",
       "0    Mom, grandmom, wife, daughter of the Central V...      False   \n",
       "1    Proudly representing Texas's 34th District in ...      False   \n",
       "2    Congresswoman Sheila Cherfilus-McCormick 📍Prou...      False   \n",
       "3    Congressman Mike Carey. Proudly serving Ohio's...      False   \n",
       "4    Representative for Ohio’s Eleventh Congression...      False   \n",
       "..                                                 ...        ...   \n",
       "549  Serving the people of Montana in the U.S. Sena...      False   \n",
       "550  U.S. Senator. Family farmer. Lifetime resident...      False   \n",
       "551  U.S. Senator from Virginia. \\nChairman, Senate...      False   \n",
       "552  United States Senator from the great state of ...      False   \n",
       "553  U.S. Senator for Arkansas serving as @SenateAg...      False   \n",
       "\n",
       "                          location                      url  \\\n",
       "0    Tulare, CA / Washington, D.C.  https://t.co/Iw5uKMYU4t   \n",
       "1                              NaN                      NaN   \n",
       "2                      Miramar, FL  https://t.co/wE6d2R5SXn   \n",
       "3                              NaN  https://t.co/CnOlkJTpaX   \n",
       "4                              NaN  https://t.co/v695zCnmxN   \n",
       "..                             ...                      ...   \n",
       "549                    Bozeman, MT                      NaN   \n",
       "550                           Iowa  https://t.co/gGaOVfn75R   \n",
       "551                       Virginia  https://t.co/sIM9jRW0rP   \n",
       "552                       Oklahoma  https://t.co/qvRXqSkqYw   \n",
       "553                       Arkansas  https://t.co/pghdotWL5q   \n",
       "\n",
       "     public_metrics.followers_count  public_metrics.following_count  \\\n",
       "0                               220                               5   \n",
       "1                             27800                              55   \n",
       "2                              1005                              25   \n",
       "3                              1075                             283   \n",
       "4                             32924                             348   \n",
       "..                              ...                             ...   \n",
       "549                           81287                             661   \n",
       "550                          742952                           12701   \n",
       "551                          509595                           22966   \n",
       "552                           96383                             343   \n",
       "553                          106204                             789   \n",
       "\n",
       "     public_metrics.tweet_count  public_metrics.listed_count  \\\n",
       "0                            60                            7   \n",
       "1                           277                           48   \n",
       "2                           284                           36   \n",
       "3                           907                           43   \n",
       "4                           911                          163   \n",
       "..                          ...                          ...   \n",
       "549                        8865                         1729   \n",
       "550                       11666                         6273   \n",
       "551                       12925                         4931   \n",
       "552                        5408                         2428   \n",
       "553                        9305                         2586   \n",
       "\n",
       "                                     entities.url.urls  \\\n",
       "0    [{'start': 0, 'end': 23, 'url': 'https://t.co/...   \n",
       "1                                                  NaN   \n",
       "2    [{'start': 0, 'end': 23, 'url': 'https://t.co/...   \n",
       "3    [{'start': 0, 'end': 23, 'url': 'https://t.co/...   \n",
       "4    [{'start': 0, 'end': 23, 'url': 'https://t.co/...   \n",
       "..                                                 ...   \n",
       "549                                                NaN   \n",
       "550  [{'start': 0, 'end': 23, 'url': 'https://t.co/...   \n",
       "551  [{'start': 0, 'end': 23, 'url': 'https://t.co/...   \n",
       "552  [{'start': 0, 'end': 23, 'url': 'https://t.co/...   \n",
       "553  [{'start': 0, 'end': 23, 'url': 'https://t.co/...   \n",
       "\n",
       "                         entities.description.hashtags  \\\n",
       "0          [{'start': 131, 'end': 136, 'tag': 'CA22'}]   \n",
       "1                                                  NaN   \n",
       "2    [{'start': 130, 'end': 150, 'tag': 'workingfor...   \n",
       "3                                                  NaN   \n",
       "4                                                  NaN   \n",
       "..                                                 ...   \n",
       "549                                                NaN   \n",
       "550                                                NaN   \n",
       "551                                                NaN   \n",
       "552                                                NaN   \n",
       "553  [{'start': 119, 'end': 129, 'tag': 'ServingAR'...   \n",
       "\n",
       "                             entities.description.urls  pinned_tweet_id  \\\n",
       "0                                                  NaN              NaN   \n",
       "1                                                  NaN              NaN   \n",
       "2                                                  NaN              NaN   \n",
       "3    [{'start': 76, 'end': 99, 'url': 'https://t.co...              NaN   \n",
       "4                                                  NaN     1.463532e+18   \n",
       "..                                                 ...              ...   \n",
       "549                                                NaN              NaN   \n",
       "550                                                NaN              NaN   \n",
       "551                                                NaN              NaN   \n",
       "552                                                NaN              NaN   \n",
       "553                                                NaN     1.555574e+18   \n",
       "\n",
       "                         entities.description.mentions  \n",
       "0                                                  NaN  \n",
       "1                                                  NaN  \n",
       "2                                                  NaN  \n",
       "3                                                  NaN  \n",
       "4                                                  NaN  \n",
       "..                                                 ...  \n",
       "549                                                NaN  \n",
       "550  [{'start': 80, 'end': 94, 'username': 'Grassle...  \n",
       "551                                                NaN  \n",
       "552                                                NaN  \n",
       "553  [{'start': 37, 'end': 49, 'username': 'SenateA...  \n",
       "\n",
       "[554 rows x 19 columns]"
      ]
     },
     "execution_count": 7,
     "metadata": {},
     "output_type": "execute_result"
    }
   ],
   "source": [
    "# Your Code goes here!\n",
    "users_list = pd.read_csv(\"users.csv\")\n",
    "users_list\n"
   ]
  },
  {
   "cell_type": "markdown",
   "metadata": {},
   "source": [
    "From those users we are interested on those who have written at least 100 tweets and that have at least 100 followers. From the remaining set sample 500 at random. Check out pandas conditional indexing [here](https://pandas.pydata.org/pandas-docs/dev/user_guide/indexing.html#boolean-indexing). To randomly get 500 users you can use pandas [`sample`](https://pandas.pydata.org/docs/reference/api/pandas.DataFrame.sample.html) method."
   ]
  },
  {
   "cell_type": "code",
   "execution_count": null,
   "metadata": {
    "tags": []
   },
   "outputs": [],
   "source": [
    "# Your Code goes here!\n",
    "\n"
   ]
  },
  {
   "cell_type": "markdown",
   "metadata": {},
   "source": [
    "## 1.2 Loading timelines\n",
    "\n",
    "Load the `timeline.csv` file."
   ]
  },
  {
   "cell_type": "code",
   "execution_count": null,
   "metadata": {
    "tags": []
   },
   "outputs": [],
   "source": [
    "# Your Code goes here!\n",
    "\n"
   ]
  },
  {
   "cell_type": "markdown",
   "metadata": {},
   "source": [
    "## 1.3 Aggregating and arranging data\n",
    "With the timeline retrieved we want to calculate some metrics from the tweets, especially the mean retweet count, which is also often refered as the social impact. For this you can use pandas [`groupby`](https://pandas.pydata.org/docs/reference/api/pandas.DataFrame.groupby.html) method. Group the data by the `author_id` and calculate the mean of the retweet count of each user."
   ]
  },
  {
   "cell_type": "code",
   "execution_count": null,
   "metadata": {
    "tags": []
   },
   "outputs": [],
   "source": [
    "# Your Code goes here!\n",
    "\n"
   ]
  },
  {
   "cell_type": "code",
   "execution_count": null,
   "metadata": {},
   "outputs": [],
   "source": [
    "# Your Code goes here!\n",
    "\n"
   ]
  },
  {
   "cell_type": "markdown",
   "metadata": {},
   "source": [
    "Next we want to merge the users data with the newly created mean retweet informations. For this you have to merge the users dataframe with the just created dataframe with the retweet mean of each user. Use `pandas` [`merge`](https://pandas.pydata.org/docs/reference/api/pandas.DataFrame.merge.html) method.    \n",
    "\n",
    "Afterwards remove all unused columns, at the end the dataframe should contain the author ID, name, the follower count and the mean retweet count. \n",
    "\n",
    "Attention: The user id in the timeline dataframe (and later on the retweet mean dataframe) are in column `author_id` and the user id on the user dataframe (created with `list_members`) are in column `id`. You can use the keyword arguments `left_on` and `right_on` to merge the two dataframes by the different user id columns."
   ]
  },
  {
   "cell_type": "code",
   "execution_count": null,
   "metadata": {},
   "outputs": [],
   "source": [
    "# Your Code goes here!\n",
    "\n"
   ]
  },
  {
   "cell_type": "code",
   "execution_count": null,
   "metadata": {},
   "outputs": [],
   "source": [
    "# Your Code goes here!\n",
    "\n"
   ]
  },
  {
   "cell_type": "markdown",
   "metadata": {},
   "source": [
    "# 3 Visualize distributions and scatter plots\n",
    "\n",
    "## 3.1 Distribution of the number of followers\n",
    "Plot the histogram of the number of followers of each users in your dataset. Repeat this with a logarithmic `y` scale. Which one is more skewed?  \n",
    "\n",
    "You can use pandas [`hist`](https://pandas.pydata.org/docs/reference/api/pandas.DataFrame.hist.html) method with the keyword argumnet `log` for logarithmic scale, or you can use matplotlibs [`hist`](https://matplotlib.org/stable/api/_as_gen/matplotlib.pyplot.hist.html) method (don't forget to first create a figure), again with the keyword argument `log` to plot the data. (use bins=\"xx\" to make the plot look more intuitive) "
   ]
  },
  {
   "cell_type": "code",
   "execution_count": null,
   "metadata": {},
   "outputs": [],
   "source": [
    "# Your Code goes here!\n",
    "\n"
   ]
  },
  {
   "cell_type": "markdown",
   "metadata": {},
   "source": [
    "## 3.2 Distribution of social impact\n",
    "\n",
    "Repeat the above task but for the social impact of your users, also look at the logarithmic scale. Again, which one is more skewed?"
   ]
  },
  {
   "cell_type": "code",
   "execution_count": null,
   "metadata": {},
   "outputs": [],
   "source": [
    "# Your Code goes here!\n",
    "\n"
   ]
  },
  {
   "cell_type": "markdown",
   "metadata": {},
   "source": [
    "## 3.3 Number of followers vs social impact\n",
    "Create a scatter plot with the number of followers of each user on the x axis and the social impact of each user on the y axis. Both axis should be in logarithmic scale. Is there a relationship?  \n",
    "\n",
    "Again you can use pandas [`scatter`](https://pandas.pydata.org/docs/reference/api/pandas.DataFrame.plot.scatter.html) method with `logx` and `logy` set to true or you can use matplotlibs [`scatter`](https://matplotlib.org/stable/api/_as_gen/matplotlib.pyplot.scatter.html) method. Here you can use the `set_yscale` and `set_xscale` method of the axis to set them to `'log'`."
   ]
  },
  {
   "cell_type": "code",
   "execution_count": null,
   "metadata": {},
   "outputs": [],
   "source": [
    "# Your Code goes here!\n",
    "\n"
   ]
  },
  {
   "cell_type": "markdown",
   "metadata": {},
   "source": [
    "# 4. Fit and visualize a regression model\n",
    "\n",
    "## 4.1 Fit a linear model\n",
    "\n",
    "First of all make two new columns on the data frame with the social impact and the follower count. One called `SI` with the logarithm of the amount of retweets, and another called `FC` with the logarithm of the amount of followers. For this you can use numpys log function `np.log(...)`.  \n",
    "\n",
    "Now fit a linear regression model with sklearn. For this use the class [`LinearRegression`](https://scikit-learn.org/stable/modules/generated/sklearn.linear_model.LinearRegression.html) to create a linear regression instance and then call the `fit` method. `SI` is used as the dependent variable (target) and `FC` as the independent variable (features).  \n",
    "\n",
    "Print the model intercept and coefficient. For this you can use the models attributes `coef_` and `intercept_`."
   ]
  },
  {
   "cell_type": "code",
   "execution_count": null,
   "metadata": {},
   "outputs": [],
   "source": [
    "# Your Code goes here!\n",
    "\n"
   ]
  },
  {
   "cell_type": "code",
   "execution_count": null,
   "metadata": {},
   "outputs": [],
   "source": [
    "# Your Code goes here!\n",
    "\n"
   ]
  },
  {
   "cell_type": "markdown",
   "metadata": {},
   "source": [
    "## 4.2 Plot the results\n",
    "Now plot the same scatter plot as in 3.3 additional add a line plot which shows the regression line of the model. For this use the intercept and the coefficient (slope). Does the line fit the data as you expected?  \n",
    "\n",
    "It is easier to use matplotlib here to add the line plot to the scatter plot. For the line plot you can use matplotlibs [`plot`](https://matplotlib.org/stable/api/_as_gen/matplotlib.pyplot.plot.html) method. For the x values you can use numpy's [`np.linspace`](https://numpy.org/doc/stable/reference/generated/numpy.linspace.html#numpy.linspace) method to evenly space x values in a certain range. The y values can be calculated with the intercept and the slope as follows:  \n",
    "$\n",
    "\\begin{align}\n",
    "    y = slope \\cdot x + intercept\n",
    "\\end{align}\n",
    "$"
   ]
  },
  {
   "cell_type": "code",
   "execution_count": 1,
   "metadata": {},
   "outputs": [],
   "source": [
    "# Your Code goes here!\n",
    "\n"
   ]
  },
  {
   "cell_type": "markdown",
   "metadata": {},
   "source": [
    "## 4.3 Calculate quality of the fit\n",
    "Calculate the residuals of the model and save them in a vector. This can be done with following formula:\n",
    "$\n",
    "\\begin{align}\n",
    "residual = y_{true} - y_{pred}\n",
    "\\end{align}\n",
    "$\n",
    "where $y_{true}$ are the true values of the dependent variable (in our case `SI`) and $y_{pred}$ are the predicted values with the model. To get the predicted values of the model you can use the [`predict`](https://scikit-learn.org/stable/modules/generated/sklearn.linear_model.LinearRegression.html) method of the model.  \n",
    "\n",
    "Afterwards calculate the variance of the residuals and the variance of the social impact variable. For this you can use numpy's [`var`](https://numpy.org/doc/stable/reference/generated/numpy.var.html) function. Is the variance of the residuals lower than the variance of the dependent variable? By how much in proportion?"
   ]
  },
  {
   "cell_type": "code",
   "execution_count": null,
   "metadata": {},
   "outputs": [],
   "source": [
    "# Your Code goes here!\n",
    "\n"
   ]
  },
  {
   "cell_type": "markdown",
   "metadata": {},
   "source": [
    "## 4.4 Distribution of residuals\n",
    "Plot the histogram of residuals. Do they look normally distributted?  \n",
    "\n",
    "Again you can use matplotlib as before to plot the histogram."
   ]
  },
  {
   "cell_type": "code",
   "execution_count": null,
   "metadata": {},
   "outputs": [],
   "source": [
    "# Your Code goes here!\n",
    "\n"
   ]
  },
  {
   "cell_type": "markdown",
   "metadata": {},
   "source": [
    "# 5. Bootstrapping\n",
    "\n",
    "## 5.1 One sample\n",
    "For bootsrapping we first look at creating one sample. For this use the follower and social impact dataframe from before and sample random rows with replacement. This again can be done with pandas [`sample`](https://pandas.pydata.org/docs/reference/api/pandas.DataFrame.sample.html) method and the keyword argument `replace` set to `True`.  \n",
    "\n",
    "Fit a new linear regression model with this new dataset. What is the value of the coefficient and the intercept now?"
   ]
  },
  {
   "cell_type": "code",
   "execution_count": null,
   "metadata": {},
   "outputs": [],
   "source": [
    "# Your Code goes here!\n",
    "\n"
   ]
  },
  {
   "cell_type": "markdown",
   "metadata": {},
   "source": [
    "## 5.2 Many bootstrap samples\n",
    "Now repeat this 10000 times, save the resulting coefficient in a vector."
   ]
  },
  {
   "cell_type": "code",
   "execution_count": null,
   "metadata": {},
   "outputs": [],
   "source": [
    "# Your Code goes here!\n",
    "\n"
   ]
  },
  {
   "cell_type": "markdown",
   "metadata": {},
   "source": [
    "## 5.3 Bootstrap histogram\n",
    "\n",
    "Plot a histogram of the values resulting from the permutations and add a vertical line on the value of the coefficient of the original model (from task 4.1). For adding a vertical line to the histogram in matplotlib you can use the [`axvline`](https://matplotlib.org/stable/api/_as_gen/matplotlib.pyplot.axvline.html) method.  \n",
    "\n",
    " How far is the line from the center of the histogram?"
   ]
  },
  {
   "cell_type": "code",
   "execution_count": null,
   "metadata": {},
   "outputs": [],
   "source": [
    "# Your Code goes here!\n",
    "\n"
   ]
  },
  {
   "cell_type": "markdown",
   "metadata": {},
   "source": [
    "# To learn more\n",
    "* Do you find any relationship between social impact and the amount of followers?\n",
    "* How sure are you that it is larger than zero? How sure are you that it is lower than 1?\n",
    "* Is the value of the relationship within the ranges predicted by Social Impact Theory?\n",
    "* Under that relationship, if I have 1000 followers, how many more followers do I need to double my social impact?"
   ]
  },
  {
   "cell_type": "code",
   "execution_count": null,
   "metadata": {},
   "outputs": [],
   "source": []
  }
 ],
 "metadata": {
  "kernelspec": {
   "display_name": "Python 3 (ipykernel)",
   "language": "python",
   "name": "python3"
  },
  "language_info": {
   "codemirror_mode": {
    "name": "ipython",
    "version": 3
   },
   "file_extension": ".py",
   "mimetype": "text/x-python",
   "name": "python",
   "nbconvert_exporter": "python",
   "pygments_lexer": "ipython3",
   "version": "3.10.7"
  },
  "vscode": {
   "interpreter": {
    "hash": "46e2835a142a16ae115bce5fddf19f27ce13b17a4ab8ded638c88ab5ce5171d2"
   }
  }
 },
 "nbformat": 4,
 "nbformat_minor": 4
}
