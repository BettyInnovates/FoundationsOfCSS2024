{
 "cells": [
  {
   "cell_type": "markdown",
   "metadata": {},
   "source": [
    "# Python Tutorial 3 - Pandas, matplotlib, networkx and twarc\n"
   ]
  },
  {
   "cell_type": "markdown",
   "metadata": {},
   "source": [
    "## Import\n",
    "\n",
    "Before we start with todays tutorial, let us talk a little bit about **modules** and what they represent. Imagine you are working on a script which includes a variety of functions to solve common tasks, for instance: functions to perform mathematical matrix operations or functions to visualise huge amounts of data. Wouldn't it be convenient if we could use those functions in another python-script? Well....since we are too lazy to rewrite everything.... Yeah, it would!\n",
    "\n",
    "Modules - it's your time to shine🌞<br>\n",
    "Modules are nothing more than <ins>.py-files</ins> consisting of different kinds of components, i.e. functions, which can be made available in any other python-script using the `import`-statement. And yes, you can import your own python-scripts as well! Besides that, Python comes with a extensive amount of modules, known as <ins>Standard-Library</ins>. You can also include 3rd-party packages (numpy, pandas, scipy, matplotlib,...) but you will have to install them first. \n",
    "\n",
    "To keep the <ins>namespace</ins> clean (and your brain sane), lets have a look on how to use `import`.\n",
    "### How to `import` everything from a module\n",
    "\n",
    "**Python-Syntax:** \n",
    "```python\n",
    "import module_name\n",
    "```\n",
    "\n",
    "It doesn't get easier than that - after the import-statement follows the name of the module. Now you can use all functions from the `pandas` module by prefixing their name with their <ins>namespace</ins> `pandas.` Usually, all import-statements are found at the top of the script to keep the code tidy and clear.\n",
    "\n"
   ]
  },
  {
   "cell_type": "markdown",
   "metadata": {},
   "source": [
    "### How to `import` specific contents `from` a module\n",
    "\n",
    "**Python-Syntax:**\n",
    "```python\n",
    "from module_name import content_name1, content_name2, etc\n",
    "``` \n",
    "\n",
    "Instead of importing everything of a module, we can extract specific contents, i.e. only functions we really need. This allows us, to use functions without the namespace-prefix. Keep in mind, that multiple contents are separated with commas (`,`)."
   ]
  },
  {
   "cell_type": "markdown",
   "metadata": {},
   "source": [
    "**Pitfall:**\n",
    "```python\n",
    "from statistics import mean\n",
    "from numpy import mean\n",
    "```\n",
    "Always keep an eye on which elements you are importing from different modules. In our case, there are two imported functions with the same name (name-collision). Therefore python always uses the last imported function with that name - in our case, the mean-function of the numpy module. <ins>The last import always wins!</ins>\n",
    "\n"
   ]
  },
  {
   "cell_type": "markdown",
   "metadata": {},
   "source": [
    "### How to `import` a module `as` you like\n",
    "\n",
    "**Python-Syntax:** \n",
    "```python\n",
    "import module_name as new_module_name_in_namespace\n",
    "from module_name import component as new_component_name_in_namespace\n",
    "```\n",
    "\n",
    "Modules and packages can be renamed on import to keep code more succinct. Most widely-used packages have an established abbreviation. Stick to it to make your code readable for others! For example pandas established abbrevation is `pd` so you would import it as:\n",
    "```python\n",
    "import pandas as pd\n",
    "```"
   ]
  },
  {
   "cell_type": "markdown",
   "metadata": {},
   "source": [
    "### `Import`ant Information\n",
    "Usually, standard-library-/3rd-party-modules do contain encapsulated structures like functions/objects/... which need to be explicitly accessed for execution. This means, that all contents outside those structures will be immediatelly executed at module-import. \n",
    "\n",
    "If a module (especially your self-made one) has changed while loaded in Jupyter, the imported functions do not update automatically. To force reimporting on every execution, place and execute the two lines below in your .ipynb-file:\n",
    "```python\n",
    "%load_ext autoreload\n",
    "%autoreload 2\n",
    "```"
   ]
  },
  {
   "cell_type": "markdown",
   "metadata": {},
   "source": [
    "## PIP - Installing Python Modules\n",
    "https://docs.python.org/3/installing/index.html\n",
    "\n",
    "While the python standard library is *extensive*, there is an even bigger collection of 3rd-party packages available. `pip` is one of several possibilities to install such additional python packages. It comes with the default python setup, so you can use it right away. Note that pip is a package itself, but is usually used as a command line tool, not within a `.py`-script or `.ipynb`-notebook. You most likely already used pip when installing JupyterLab. Replace `pip` with `pip3` in the following commands, if you are using MACOS or Linux.\n",
    "\n",
    "To install a package with pip, simply open up a terminal and enter\n",
    "> `pip install <package name>`\n",
    "\n",
    "e.g.\n",
    "> `pip install numpy`.\n",
    "\n",
    "Multiple packages can be installed at once by just chaining names (separated with spaces) like this:\n",
    "> `pip install numpy matplotlib pandas scipy`\n",
    "\n",
    "Depending on your computer's settings and environment setup, you might run into permission issues. Usually installing new packages just for the current user (instead of the systemwide default) fixes those:\n",
    "> `pip install --user numpy`\n",
    "\n",
    "Just like python itself, its packages exist in different versions, having different features and dependencies. This often leads to issues when trying to run code one another computer. Best practice would be to create a *virtual environment* ([Docs](https://packaging.python.org/tutorials/installing-packages/#creating-virtual-environments)) for each project, using *requirements files* ([Docs](https://pip.pypa.io/en/latest/user_guide/#requirements-files)) - or using Docker containers. You are welcome to do so, but for now it's sufficient to just install packages globally ;)\n",
    "\n",
    "\n",
    "<center><img src=\"https://hackernoon.com/hn-images/1*ookfwogTLx_1qhHaiFJoJw.png\" width=\"400\" /></center>"
   ]
  },
  {
   "cell_type": "markdown",
   "metadata": {},
   "source": [
    "# Pandas\n",
    "\n",
    "Pandas is a Python package, which provides data structures for working with tabular, labeled data (i.e., data in a table with rows and columns). It is a good tool for real-world data analysis in Python. [Here](https://pandas.pydata.org/docs/) is the documentation of pandas.\n",
    "\n",
    "[Here](https://www.youtube.com/playlist?list=PL-osiE80TeTsWmV9i9c58mdDCSskIFdDS) is an extensive playlist covering all basic pandas operations. The skills required for this exercise are covered in Parts 1 to 6. Feel free to skip around, as the videos cover lots of details :)"
   ]
  },
  {
   "cell_type": "markdown",
   "metadata": {},
   "source": [
    "#### Install and Import\n",
    "\n",
    "In order to get access to the Pandas module, we’ll need to install it: ```pip install pandas ``` (in commandline/terminal)  \n",
    "Or you can execute following cell:"
   ]
  },
  {
   "cell_type": "code",
   "execution_count": 1,
   "metadata": {},
   "outputs": [
    {
     "name": "stdout",
     "output_type": "stream",
     "text": [
      "Requirement already satisfied: pandas in c:\\users\\pavle\\anaconda3\\lib\\site-packages (1.4.4)\n",
      "Requirement already satisfied: python-dateutil>=2.8.1 in c:\\users\\pavle\\anaconda3\\lib\\site-packages (from pandas) (2.8.2)\n",
      "Requirement already satisfied: pytz>=2020.1 in c:\\users\\pavle\\anaconda3\\lib\\site-packages (from pandas) (2022.1)\n",
      "Requirement already satisfied: numpy>=1.18.5 in c:\\users\\pavle\\anaconda3\\lib\\site-packages (from pandas) (1.21.5)\n",
      "Requirement already satisfied: six>=1.5 in c:\\users\\pavle\\anaconda3\\lib\\site-packages (from python-dateutil>=2.8.1->pandas) (1.16.0)\n"
     ]
    },
    {
     "name": "stderr",
     "output_type": "stream",
     "text": [
      "\n",
      "[notice] A new release of pip is available: 23.1.2 -> 24.3.1\n",
      "[notice] To update, run: python.exe -m pip install --upgrade pip\n"
     ]
    }
   ],
   "source": [
    "! pip install pandas"
   ]
  },
  {
   "cell_type": "markdown",
   "metadata": {},
   "source": [
    "The module is usually imported at the top of a file under pd."
   ]
  },
  {
   "cell_type": "code",
   "execution_count": 2,
   "metadata": {},
   "outputs": [],
   "source": [
    "import pandas as pd\n",
    "from datetime import date # This is needed later for some date calculations"
   ]
  },
  {
   "cell_type": "markdown",
   "metadata": {},
   "source": [
    "#### Pandas Data structures\n",
    "\n",
    "Pandas has it's own data structures - ```Series ``` and ``` DataFrames ```.\n",
    "\n",
    "```pd.Series ```: One-dimensional array with axis labels   \n",
    "bsp. ```x = pd.Series([6,3,4,6], index=[‘a’, ‘b’, ‘c’, ‘d’]) ```   \n",
    "This data type is not so important for our usecases in this class.\n",
    "\n",
    "\n",
    "```pd.DataFrames ```: DataFrames can contain many different data types: strings, ints, floats, tuples, ...   \n",
    "They have **rows** and **columns**: Every column has a name/header, every row has an index (integer) and contains values (different data types). So it is very nice to work with a lot of data with a lot of different columns, because they are named.  "
   ]
  },
  {
   "cell_type": "markdown",
   "metadata": {},
   "source": [
    "#### CSV reading and writing with Pandas\n",
    "The most important methods are `.to_csv` and `pd.read_csv`. But what are the methods doing?\n",
    "\n",
    "`.to_csv`: saves pd.DataFrame, pd.Series... as an .csv file\n",
    "\n",
    "`pd.read_csv`: loads the .csv-file in a pd.DataFrame"
   ]
  },
  {
   "cell_type": "code",
   "execution_count": 3,
   "metadata": {},
   "outputs": [],
   "source": [
    "most_streamed_songs = pd.read_csv('most_streamed_songs.csv') #load data to Pandas DataFrame\n",
    "# do something with the DataFrame\n",
    "most_streamed_songs.to_csv('./updated_most_streamed_songs.csv', index = False) #save data to a CSV"
   ]
  },
  {
   "cell_type": "markdown",
   "metadata": {},
   "source": [
    "#### Create a DataFrame"
   ]
  },
  {
   "cell_type": "markdown",
   "metadata": {},
   "source": [
    "Let´s try to pass a dictionary to pd.DataFrame():"
   ]
  },
  {
   "cell_type": "code",
   "execution_count": 4,
   "metadata": {},
   "outputs": [
    {
     "data": {
      "text/html": [
       "<div>\n",
       "<style scoped>\n",
       "    .dataframe tbody tr th:only-of-type {\n",
       "        vertical-align: middle;\n",
       "    }\n",
       "\n",
       "    .dataframe tbody tr th {\n",
       "        vertical-align: top;\n",
       "    }\n",
       "\n",
       "    .dataframe thead th {\n",
       "        text-align: right;\n",
       "    }\n",
       "</style>\n",
       "<table border=\"1\" class=\"dataframe\">\n",
       "  <thead>\n",
       "    <tr style=\"text-align: right;\">\n",
       "      <th></th>\n",
       "      <th>songs</th>\n",
       "      <th>artist</th>\n",
       "      <th>album</th>\n",
       "      <th>streams_in_millions</th>\n",
       "      <th>publish_year</th>\n",
       "    </tr>\n",
       "  </thead>\n",
       "  <tbody>\n",
       "    <tr>\n",
       "      <th>0</th>\n",
       "      <td>Shape of You</td>\n",
       "      <td>Ed Sheeran</td>\n",
       "      <td>Divide</td>\n",
       "      <td>2.960</td>\n",
       "      <td>2017</td>\n",
       "    </tr>\n",
       "    <tr>\n",
       "      <th>1</th>\n",
       "      <td>Blinding Lights</td>\n",
       "      <td>The Weeknd</td>\n",
       "      <td>After Hours</td>\n",
       "      <td>2.613</td>\n",
       "      <td>2019</td>\n",
       "    </tr>\n",
       "    <tr>\n",
       "      <th>2</th>\n",
       "      <td>Dance Monkey</td>\n",
       "      <td>Tones and I</td>\n",
       "      <td>The Kids Are Coming</td>\n",
       "      <td>2.395</td>\n",
       "      <td>2019</td>\n",
       "    </tr>\n",
       "    <tr>\n",
       "      <th>3</th>\n",
       "      <td>Rockstar</td>\n",
       "      <td>Post Malone</td>\n",
       "      <td>Beerbongs &amp; Bentleys</td>\n",
       "      <td>2.291</td>\n",
       "      <td>2017</td>\n",
       "    </tr>\n",
       "    <tr>\n",
       "      <th>4</th>\n",
       "      <td>One Dance</td>\n",
       "      <td>Drake</td>\n",
       "      <td>Views</td>\n",
       "      <td>2.160</td>\n",
       "      <td>2016</td>\n",
       "    </tr>\n",
       "  </tbody>\n",
       "</table>\n",
       "</div>"
      ],
      "text/plain": [
       "             songs       artist                 album  streams_in_millions  \\\n",
       "0     Shape of You   Ed Sheeran                Divide                2.960   \n",
       "1  Blinding Lights   The Weeknd           After Hours                2.613   \n",
       "2     Dance Monkey  Tones and I   The Kids Are Coming                2.395   \n",
       "3         Rockstar  Post Malone  Beerbongs & Bentleys                2.291   \n",
       "4        One Dance        Drake                 Views                2.160   \n",
       "\n",
       "   publish_year  \n",
       "0          2017  \n",
       "1          2019  \n",
       "2          2019  \n",
       "3          2017  \n",
       "4          2016  "
      ]
     },
     "metadata": {},
     "output_type": "display_data"
    }
   ],
   "source": [
    "most_streamed_songs = {\"songs\": [\"Shape of You\",\"Blinding Lights\", \"Dance Monkey\", \"Rockstar\", \"One Dance\"],\n",
    "                       \"artist\": [\"Ed Sheeran\",\"The Weeknd\", \"Tones and I\", \"Post Malone\", \"Drake\"],\n",
    "                       \"album\": [\"Divide\",\"After Hours\",\"The Kids Are Coming\", \"Beerbongs & Bentleys\", \"Views\"],\n",
    "                       \"streams_in_millions\": [2.960, 2.613, 2.395, 2.291, 2.160],\n",
    "                       \"publish_year\": [2017, 2019, 2019, 2017, 2016]}\n",
    "\n",
    "most_streamed_songs = pd.DataFrame(most_streamed_songs)\n",
    "display(most_streamed_songs) #this works only in jupyter"
   ]
  },
  {
   "cell_type": "markdown",
   "metadata": {},
   "source": [
    "It is also possible to take lists and use the keyword argument *columns* to pass a list of column names:"
   ]
  },
  {
   "cell_type": "code",
   "execution_count": 5,
   "metadata": {},
   "outputs": [
    {
     "data": {
      "text/html": [
       "<div>\n",
       "<style scoped>\n",
       "    .dataframe tbody tr th:only-of-type {\n",
       "        vertical-align: middle;\n",
       "    }\n",
       "\n",
       "    .dataframe tbody tr th {\n",
       "        vertical-align: top;\n",
       "    }\n",
       "\n",
       "    .dataframe thead th {\n",
       "        text-align: right;\n",
       "    }\n",
       "</style>\n",
       "<table border=\"1\" class=\"dataframe\">\n",
       "  <thead>\n",
       "    <tr style=\"text-align: right;\">\n",
       "      <th></th>\n",
       "      <th>songs</th>\n",
       "      <th>artist</th>\n",
       "      <th>album</th>\n",
       "      <th>streams_in_millions</th>\n",
       "      <th>publish_year</th>\n",
       "    </tr>\n",
       "  </thead>\n",
       "  <tbody>\n",
       "    <tr>\n",
       "      <th>0</th>\n",
       "      <td>Shape of You</td>\n",
       "      <td>Ed Sheeran</td>\n",
       "      <td>Divide</td>\n",
       "      <td>2.960</td>\n",
       "      <td>2017</td>\n",
       "    </tr>\n",
       "    <tr>\n",
       "      <th>1</th>\n",
       "      <td>Blinding Lights</td>\n",
       "      <td>The Weeknd</td>\n",
       "      <td>After Hours</td>\n",
       "      <td>2.613</td>\n",
       "      <td>2019</td>\n",
       "    </tr>\n",
       "    <tr>\n",
       "      <th>2</th>\n",
       "      <td>Dance Monkey</td>\n",
       "      <td>Tones and I</td>\n",
       "      <td>The Kids Are Coming</td>\n",
       "      <td>2.395</td>\n",
       "      <td>2019</td>\n",
       "    </tr>\n",
       "    <tr>\n",
       "      <th>3</th>\n",
       "      <td>Rockstar</td>\n",
       "      <td>Post Malone</td>\n",
       "      <td>Beerbongs &amp; Bentleys</td>\n",
       "      <td>2.291</td>\n",
       "      <td>2017</td>\n",
       "    </tr>\n",
       "    <tr>\n",
       "      <th>4</th>\n",
       "      <td>One Dance</td>\n",
       "      <td>Drake</td>\n",
       "      <td>Views</td>\n",
       "      <td>2.160</td>\n",
       "      <td>2016</td>\n",
       "    </tr>\n",
       "  </tbody>\n",
       "</table>\n",
       "</div>"
      ],
      "text/plain": [
       "             songs       artist                 album  streams_in_millions  \\\n",
       "0     Shape of You   Ed Sheeran                Divide                2.960   \n",
       "1  Blinding Lights   The Weeknd           After Hours                2.613   \n",
       "2     Dance Monkey  Tones and I   The Kids Are Coming                2.395   \n",
       "3         Rockstar  Post Malone  Beerbongs & Bentleys                2.291   \n",
       "4        One Dance        Drake                 Views                2.160   \n",
       "\n",
       "   publish_year  \n",
       "0          2017  \n",
       "1          2019  \n",
       "2          2019  \n",
       "3          2017  \n",
       "4          2016  "
      ]
     },
     "metadata": {},
     "output_type": "display_data"
    }
   ],
   "source": [
    "most_streamed_songs = [[\"Shape of You\", \"Ed Sheeran\", \"Divide\", 2.960, 2017],\n",
    "                       [\"Blinding Lights\",\"The Weeknd\",\"After Hours\",2.613,2019],\n",
    "                       [\"Dance Monkey\", \"Tones and I\", \"The Kids Are Coming\", 2.395, 2019],\n",
    "                       [\"Rockstar\", \"Post Malone\", \"Beerbongs & Bentleys\", 2.291, 2017],\n",
    "                       [\"One Dance\", \"Drake\", \"Views\", 2.160, 2016]]\n",
    "                       \n",
    "most_streamed_songs = pd.DataFrame(most_streamed_songs, columns =  [\"songs\", \"artist\", \"album\", \"streams_in_millions\", \"publish_year\"])\n",
    "display(most_streamed_songs)  #this works only in jupyter"
   ]
  },
  {
   "cell_type": "markdown",
   "metadata": {},
   "source": [
    "#### Working with DataFrames\n",
    "\n",
    "Now, we want to work with a DataFrame. Therefore, we need to import a module we wrote before:"
   ]
  },
  {
   "cell_type": "code",
   "execution_count": 6,
   "metadata": {},
   "outputs": [],
   "source": [
    "%load_ext autoreload\n",
    "%autoreload 2 "
   ]
  },
  {
   "cell_type": "code",
   "execution_count": 7,
   "metadata": {},
   "outputs": [],
   "source": [
    "def get_covid_data(loc = [\"Austria\", \"Italy\", \"Germany\"], \n",
    "             cols = [\"iso_code\", \"location\", \"date\", \"total_cases\", \"new_cases\", \"total_deaths\", \"new_deaths\", \"population\"],\n",
    "             start_date = \"2021-11-04\"):\n",
    "\n",
    "    data_original = pd.read_csv(\"https://raw.githubusercontent.com/owid/covid-19-data/master/public/data/owid-covid-data.csv\")\n",
    "    data = data_original.copy()\n",
    "    data = data[data.location.isin(loc)]\n",
    "    data = data.loc[(data.date >= start_date) & (data.date <= str(date.today()))][cols]\n",
    "    #data.to_csv(f'COVID-19_AUT_GER_IT_{\"_\".join(start_date.split(\"-\"))}_TO_{\"_\".join(str(date.today()).split(\"-\"))}.csv')\n",
    "    return data.reset_index(drop = True)"
   ]
  },
  {
   "cell_type": "code",
   "execution_count": 8,
   "metadata": {},
   "outputs": [
    {
     "data": {
      "text/html": [
       "<div>\n",
       "<style scoped>\n",
       "    .dataframe tbody tr th:only-of-type {\n",
       "        vertical-align: middle;\n",
       "    }\n",
       "\n",
       "    .dataframe tbody tr th {\n",
       "        vertical-align: top;\n",
       "    }\n",
       "\n",
       "    .dataframe thead th {\n",
       "        text-align: right;\n",
       "    }\n",
       "</style>\n",
       "<table border=\"1\" class=\"dataframe\">\n",
       "  <thead>\n",
       "    <tr style=\"text-align: right;\">\n",
       "      <th></th>\n",
       "      <th>iso_code</th>\n",
       "      <th>location</th>\n",
       "      <th>date</th>\n",
       "      <th>total_cases</th>\n",
       "      <th>new_cases</th>\n",
       "      <th>total_deaths</th>\n",
       "      <th>new_deaths</th>\n",
       "      <th>population</th>\n",
       "    </tr>\n",
       "  </thead>\n",
       "  <tbody>\n",
       "    <tr>\n",
       "      <th>0</th>\n",
       "      <td>AUT</td>\n",
       "      <td>Austria</td>\n",
       "      <td>2021-11-04</td>\n",
       "      <td>816962.0</td>\n",
       "      <td>0.0</td>\n",
       "      <td>13828.0</td>\n",
       "      <td>0.0</td>\n",
       "      <td>8939617</td>\n",
       "    </tr>\n",
       "    <tr>\n",
       "      <th>1</th>\n",
       "      <td>AUT</td>\n",
       "      <td>Austria</td>\n",
       "      <td>2021-11-05</td>\n",
       "      <td>816962.0</td>\n",
       "      <td>0.0</td>\n",
       "      <td>13828.0</td>\n",
       "      <td>0.0</td>\n",
       "      <td>8939617</td>\n",
       "    </tr>\n",
       "    <tr>\n",
       "      <th>2</th>\n",
       "      <td>AUT</td>\n",
       "      <td>Austria</td>\n",
       "      <td>2021-11-06</td>\n",
       "      <td>816962.0</td>\n",
       "      <td>0.0</td>\n",
       "      <td>13828.0</td>\n",
       "      <td>0.0</td>\n",
       "      <td>8939617</td>\n",
       "    </tr>\n",
       "    <tr>\n",
       "      <th>3</th>\n",
       "      <td>AUT</td>\n",
       "      <td>Austria</td>\n",
       "      <td>2021-11-07</td>\n",
       "      <td>867682.0</td>\n",
       "      <td>50720.0</td>\n",
       "      <td>14020.0</td>\n",
       "      <td>192.0</td>\n",
       "      <td>8939617</td>\n",
       "    </tr>\n",
       "    <tr>\n",
       "      <th>4</th>\n",
       "      <td>AUT</td>\n",
       "      <td>Austria</td>\n",
       "      <td>2021-11-08</td>\n",
       "      <td>867682.0</td>\n",
       "      <td>0.0</td>\n",
       "      <td>14020.0</td>\n",
       "      <td>0.0</td>\n",
       "      <td>8939617</td>\n",
       "    </tr>\n",
       "    <tr>\n",
       "      <th>...</th>\n",
       "      <td>...</td>\n",
       "      <td>...</td>\n",
       "      <td>...</td>\n",
       "      <td>...</td>\n",
       "      <td>...</td>\n",
       "      <td>...</td>\n",
       "      <td>...</td>\n",
       "      <td>...</td>\n",
       "    </tr>\n",
       "    <tr>\n",
       "      <th>3013</th>\n",
       "      <td>ITA</td>\n",
       "      <td>Italy</td>\n",
       "      <td>2024-08-03</td>\n",
       "      <td>26774728.0</td>\n",
       "      <td>0.0</td>\n",
       "      <td>197301.0</td>\n",
       "      <td>0.0</td>\n",
       "      <td>59037472</td>\n",
       "    </tr>\n",
       "    <tr>\n",
       "      <th>3014</th>\n",
       "      <td>ITA</td>\n",
       "      <td>Italy</td>\n",
       "      <td>2024-08-04</td>\n",
       "      <td>26781078.0</td>\n",
       "      <td>6350.0</td>\n",
       "      <td>197307.0</td>\n",
       "      <td>6.0</td>\n",
       "      <td>59037472</td>\n",
       "    </tr>\n",
       "    <tr>\n",
       "      <th>3015</th>\n",
       "      <td>ITA</td>\n",
       "      <td>Italy</td>\n",
       "      <td>2024-08-05</td>\n",
       "      <td>NaN</td>\n",
       "      <td>NaN</td>\n",
       "      <td>NaN</td>\n",
       "      <td>NaN</td>\n",
       "      <td>59037472</td>\n",
       "    </tr>\n",
       "    <tr>\n",
       "      <th>3016</th>\n",
       "      <td>ITA</td>\n",
       "      <td>Italy</td>\n",
       "      <td>2024-08-06</td>\n",
       "      <td>NaN</td>\n",
       "      <td>NaN</td>\n",
       "      <td>NaN</td>\n",
       "      <td>NaN</td>\n",
       "      <td>59037472</td>\n",
       "    </tr>\n",
       "    <tr>\n",
       "      <th>3017</th>\n",
       "      <td>ITA</td>\n",
       "      <td>Italy</td>\n",
       "      <td>2024-08-07</td>\n",
       "      <td>NaN</td>\n",
       "      <td>NaN</td>\n",
       "      <td>NaN</td>\n",
       "      <td>NaN</td>\n",
       "      <td>59037472</td>\n",
       "    </tr>\n",
       "  </tbody>\n",
       "</table>\n",
       "<p>3018 rows × 8 columns</p>\n",
       "</div>"
      ],
      "text/plain": [
       "     iso_code location        date  total_cases  new_cases  total_deaths  \\\n",
       "0         AUT  Austria  2021-11-04     816962.0        0.0       13828.0   \n",
       "1         AUT  Austria  2021-11-05     816962.0        0.0       13828.0   \n",
       "2         AUT  Austria  2021-11-06     816962.0        0.0       13828.0   \n",
       "3         AUT  Austria  2021-11-07     867682.0    50720.0       14020.0   \n",
       "4         AUT  Austria  2021-11-08     867682.0        0.0       14020.0   \n",
       "...       ...      ...         ...          ...        ...           ...   \n",
       "3013      ITA    Italy  2024-08-03   26774728.0        0.0      197301.0   \n",
       "3014      ITA    Italy  2024-08-04   26781078.0     6350.0      197307.0   \n",
       "3015      ITA    Italy  2024-08-05          NaN        NaN           NaN   \n",
       "3016      ITA    Italy  2024-08-06          NaN        NaN           NaN   \n",
       "3017      ITA    Italy  2024-08-07          NaN        NaN           NaN   \n",
       "\n",
       "      new_deaths  population  \n",
       "0            0.0     8939617  \n",
       "1            0.0     8939617  \n",
       "2            0.0     8939617  \n",
       "3          192.0     8939617  \n",
       "4            0.0     8939617  \n",
       "...          ...         ...  \n",
       "3013         0.0    59037472  \n",
       "3014         6.0    59037472  \n",
       "3015         NaN    59037472  \n",
       "3016         NaN    59037472  \n",
       "3017         NaN    59037472  \n",
       "\n",
       "[3018 rows x 8 columns]"
      ]
     },
     "execution_count": 8,
     "metadata": {},
     "output_type": "execute_result"
    }
   ],
   "source": [
    "data = get_covid_data() # have a look at the code of get_data -  the variable data is now a pd.DataFrame\n",
    "data"
   ]
  },
  {
   "cell_type": "markdown",
   "metadata": {},
   "source": [
    "#### Inspect DataFrame\n",
    "Now we have a DataFrame and want to have a look at it. If we work with a small DataFrame, we can simply use print(DataFrame) or in jupyter display(DataFrame).  \n",
    "If it's a larger DataFrame, pandas offers some helpfull methodes:\n",
    "\n",
    "`data.head()`- shows the first 5 rows   \n",
    "`data.info()`  -shows a summary of the DataFrame including the index dtype and columns, non-null values and memory usage.   \n",
    "`data.tail()` - shows the last 5 rows   "
   ]
  },
  {
   "cell_type": "code",
   "execution_count": 9,
   "metadata": {},
   "outputs": [
    {
     "name": "stdout",
     "output_type": "stream",
     "text": [
      "<class 'pandas.core.frame.DataFrame'>\n",
      "RangeIndex: 3018 entries, 0 to 3017\n",
      "Data columns (total 8 columns):\n",
      " #   Column        Non-Null Count  Dtype  \n",
      "---  ------        --------------  -----  \n",
      " 0   iso_code      3018 non-null   object \n",
      " 1   location      3018 non-null   object \n",
      " 2   date          3018 non-null   object \n",
      " 3   total_cases   3015 non-null   float64\n",
      " 4   new_cases     2623 non-null   float64\n",
      " 5   total_deaths  3015 non-null   float64\n",
      " 6   new_deaths    2623 non-null   float64\n",
      " 7   population    3018 non-null   int64  \n",
      "dtypes: float64(4), int64(1), object(3)\n",
      "memory usage: 188.8+ KB\n"
     ]
    },
    {
     "data": {
      "text/html": [
       "<div>\n",
       "<style scoped>\n",
       "    .dataframe tbody tr th:only-of-type {\n",
       "        vertical-align: middle;\n",
       "    }\n",
       "\n",
       "    .dataframe tbody tr th {\n",
       "        vertical-align: top;\n",
       "    }\n",
       "\n",
       "    .dataframe thead th {\n",
       "        text-align: right;\n",
       "    }\n",
       "</style>\n",
       "<table border=\"1\" class=\"dataframe\">\n",
       "  <thead>\n",
       "    <tr style=\"text-align: right;\">\n",
       "      <th></th>\n",
       "      <th>iso_code</th>\n",
       "      <th>location</th>\n",
       "      <th>date</th>\n",
       "      <th>total_cases</th>\n",
       "      <th>new_cases</th>\n",
       "      <th>total_deaths</th>\n",
       "      <th>new_deaths</th>\n",
       "      <th>population</th>\n",
       "    </tr>\n",
       "  </thead>\n",
       "  <tbody>\n",
       "    <tr>\n",
       "      <th>3013</th>\n",
       "      <td>ITA</td>\n",
       "      <td>Italy</td>\n",
       "      <td>2024-08-03</td>\n",
       "      <td>26774728.0</td>\n",
       "      <td>0.0</td>\n",
       "      <td>197301.0</td>\n",
       "      <td>0.0</td>\n",
       "      <td>59037472</td>\n",
       "    </tr>\n",
       "    <tr>\n",
       "      <th>3014</th>\n",
       "      <td>ITA</td>\n",
       "      <td>Italy</td>\n",
       "      <td>2024-08-04</td>\n",
       "      <td>26781078.0</td>\n",
       "      <td>6350.0</td>\n",
       "      <td>197307.0</td>\n",
       "      <td>6.0</td>\n",
       "      <td>59037472</td>\n",
       "    </tr>\n",
       "    <tr>\n",
       "      <th>3015</th>\n",
       "      <td>ITA</td>\n",
       "      <td>Italy</td>\n",
       "      <td>2024-08-05</td>\n",
       "      <td>NaN</td>\n",
       "      <td>NaN</td>\n",
       "      <td>NaN</td>\n",
       "      <td>NaN</td>\n",
       "      <td>59037472</td>\n",
       "    </tr>\n",
       "    <tr>\n",
       "      <th>3016</th>\n",
       "      <td>ITA</td>\n",
       "      <td>Italy</td>\n",
       "      <td>2024-08-06</td>\n",
       "      <td>NaN</td>\n",
       "      <td>NaN</td>\n",
       "      <td>NaN</td>\n",
       "      <td>NaN</td>\n",
       "      <td>59037472</td>\n",
       "    </tr>\n",
       "    <tr>\n",
       "      <th>3017</th>\n",
       "      <td>ITA</td>\n",
       "      <td>Italy</td>\n",
       "      <td>2024-08-07</td>\n",
       "      <td>NaN</td>\n",
       "      <td>NaN</td>\n",
       "      <td>NaN</td>\n",
       "      <td>NaN</td>\n",
       "      <td>59037472</td>\n",
       "    </tr>\n",
       "  </tbody>\n",
       "</table>\n",
       "</div>"
      ],
      "text/plain": [
       "     iso_code location        date  total_cases  new_cases  total_deaths  \\\n",
       "3013      ITA    Italy  2024-08-03   26774728.0        0.0      197301.0   \n",
       "3014      ITA    Italy  2024-08-04   26781078.0     6350.0      197307.0   \n",
       "3015      ITA    Italy  2024-08-05          NaN        NaN           NaN   \n",
       "3016      ITA    Italy  2024-08-06          NaN        NaN           NaN   \n",
       "3017      ITA    Italy  2024-08-07          NaN        NaN           NaN   \n",
       "\n",
       "      new_deaths  population  \n",
       "3013         0.0    59037472  \n",
       "3014         6.0    59037472  \n",
       "3015         NaN    59037472  \n",
       "3016         NaN    59037472  \n",
       "3017         NaN    59037472  "
      ]
     },
     "execution_count": 9,
     "metadata": {},
     "output_type": "execute_result"
    }
   ],
   "source": [
    "#display(data.head())  # display just works in Jupyter\n",
    "data.head()\n",
    "# #display(data.info()) # display just works in Jupyter\n",
    "data.info()\n",
    "# #display(data.tail()) # display just works in Jupyter\n",
    "data.tail()"
   ]
  },
  {
   "cell_type": "markdown",
   "metadata": {},
   "source": [
    "With the methods `.head()` and `.tail()` 5 rows will be displayed. But you can change the amount easily when you fill in another number."
   ]
  },
  {
   "cell_type": "code",
   "execution_count": 10,
   "metadata": {},
   "outputs": [
    {
     "data": {
      "text/html": [
       "<div>\n",
       "<style scoped>\n",
       "    .dataframe tbody tr th:only-of-type {\n",
       "        vertical-align: middle;\n",
       "    }\n",
       "\n",
       "    .dataframe tbody tr th {\n",
       "        vertical-align: top;\n",
       "    }\n",
       "\n",
       "    .dataframe thead th {\n",
       "        text-align: right;\n",
       "    }\n",
       "</style>\n",
       "<table border=\"1\" class=\"dataframe\">\n",
       "  <thead>\n",
       "    <tr style=\"text-align: right;\">\n",
       "      <th></th>\n",
       "      <th>iso_code</th>\n",
       "      <th>location</th>\n",
       "      <th>date</th>\n",
       "      <th>total_cases</th>\n",
       "      <th>new_cases</th>\n",
       "      <th>total_deaths</th>\n",
       "      <th>new_deaths</th>\n",
       "      <th>population</th>\n",
       "    </tr>\n",
       "  </thead>\n",
       "  <tbody>\n",
       "    <tr>\n",
       "      <th>3015</th>\n",
       "      <td>ITA</td>\n",
       "      <td>Italy</td>\n",
       "      <td>2024-08-05</td>\n",
       "      <td>NaN</td>\n",
       "      <td>NaN</td>\n",
       "      <td>NaN</td>\n",
       "      <td>NaN</td>\n",
       "      <td>59037472</td>\n",
       "    </tr>\n",
       "    <tr>\n",
       "      <th>3016</th>\n",
       "      <td>ITA</td>\n",
       "      <td>Italy</td>\n",
       "      <td>2024-08-06</td>\n",
       "      <td>NaN</td>\n",
       "      <td>NaN</td>\n",
       "      <td>NaN</td>\n",
       "      <td>NaN</td>\n",
       "      <td>59037472</td>\n",
       "    </tr>\n",
       "    <tr>\n",
       "      <th>3017</th>\n",
       "      <td>ITA</td>\n",
       "      <td>Italy</td>\n",
       "      <td>2024-08-07</td>\n",
       "      <td>NaN</td>\n",
       "      <td>NaN</td>\n",
       "      <td>NaN</td>\n",
       "      <td>NaN</td>\n",
       "      <td>59037472</td>\n",
       "    </tr>\n",
       "  </tbody>\n",
       "</table>\n",
       "</div>"
      ],
      "text/plain": [
       "     iso_code location        date  total_cases  new_cases  total_deaths  \\\n",
       "3015      ITA    Italy  2024-08-05          NaN        NaN           NaN   \n",
       "3016      ITA    Italy  2024-08-06          NaN        NaN           NaN   \n",
       "3017      ITA    Italy  2024-08-07          NaN        NaN           NaN   \n",
       "\n",
       "      new_deaths  population  \n",
       "3015         NaN    59037472  \n",
       "3016         NaN    59037472  \n",
       "3017         NaN    59037472  "
      ]
     },
     "execution_count": 10,
     "metadata": {},
     "output_type": "execute_result"
    }
   ],
   "source": [
    "data.head(3)\n",
    "data.tail(3)"
   ]
  },
  {
   "cell_type": "markdown",
   "metadata": {},
   "source": [
    "#### Pandas get rows and columns\n",
    "Sometimes, you just want a few rows or columns of your DataFrame. There are different ways one can get a column in pandas. The following are the ones we recomand to use:"
   ]
  },
  {
   "cell_type": "markdown",
   "metadata": {},
   "source": [
    "##### `.loc` method\n",
    "\n",
    "**Python-Syntax:**\n",
    "\n",
    "```python\n",
    "df.loc[row_start:row_end, columns]\n",
    "``` \n",
    "\n",
    "The method lets you access the rows and columns you want to have. You need square brackets and then you specify, which rows you want by their index. If you want all rows, just make a `:`.\n",
    "\n",
    "**Attention:** It the first and second index are both included!"
   ]
  },
  {
   "cell_type": "code",
   "execution_count": 11,
   "metadata": {},
   "outputs": [
    {
     "data": {
      "text/plain": [
       "1    816962.0\n",
       "2    816962.0\n",
       "3    867682.0\n",
       "4    867682.0\n",
       "Name: total_cases, dtype: float64"
      ]
     },
     "metadata": {},
     "output_type": "display_data"
    },
    {
     "data": {
      "text/plain": [
       "'\\n'"
      ]
     },
     "metadata": {},
     "output_type": "display_data"
    },
    {
     "name": "stdout",
     "output_type": "stream",
     "text": [
      "0         816962.0\n",
      "1         816962.0\n",
      "2         816962.0\n",
      "3         867682.0\n",
      "4         867682.0\n",
      "           ...    \n",
      "3013    26774728.0\n",
      "3014    26781078.0\n",
      "3015           NaN\n",
      "3016           NaN\n",
      "3017           NaN\n",
      "Name: total_cases, Length: 3018, dtype: float64\n"
     ]
    }
   ],
   "source": [
    "display(data.loc[1:4, \"total_cases\"], \"\\n\")\n",
    "print(data.loc[:, \"total_cases\"])"
   ]
  },
  {
   "cell_type": "markdown",
   "metadata": {},
   "source": [
    "##### `df[]` method\n",
    "\n",
    "**Python-Syntax:**\n",
    "\n",
    "```python\n",
    "df[column]\n",
    "``` \n",
    "or if you want to have more than one column\n",
    "\n",
    "```python\n",
    "df[[column, column]]\n",
    "``` \n",
    "\n",
    "You can access columns in a DataFrame like in a dictionary. Just write it in square brackets.If you want to have access to more than one column, write them in a list."
   ]
  },
  {
   "cell_type": "code",
   "execution_count": 12,
   "metadata": {},
   "outputs": [
    {
     "name": "stdout",
     "output_type": "stream",
     "text": [
      "0         816962.0\n",
      "1         816962.0\n",
      "2         816962.0\n",
      "3         867682.0\n",
      "4         867682.0\n",
      "           ...    \n",
      "3013    26774728.0\n",
      "3014    26781078.0\n",
      "3015           NaN\n",
      "3016           NaN\n",
      "3017           NaN\n",
      "Name: total_cases, Length: 3018, dtype: float64\n",
      "      total_cases  new_cases\n",
      "0        816962.0        0.0\n",
      "1        816962.0        0.0\n",
      "2        816962.0        0.0\n",
      "3        867682.0    50720.0\n",
      "4        867682.0        0.0\n",
      "...           ...        ...\n",
      "3013   26774728.0        0.0\n",
      "3014   26781078.0     6350.0\n",
      "3015          NaN        NaN\n",
      "3016          NaN        NaN\n",
      "3017          NaN        NaN\n",
      "\n",
      "[3018 rows x 2 columns]\n"
     ]
    }
   ],
   "source": [
    "print(data[\"total_cases\"])\n",
    "print(data[[\"total_cases\", \"new_cases\"]])"
   ]
  },
  {
   "cell_type": "markdown",
   "metadata": {},
   "source": [
    "`df.colum` method\n",
    "\n",
    "**Python-Syntax:**\n",
    "\n",
    "```python\n",
    "df.column\n",
    "``` \n",
    "\n",
    "You can access a column in a DataFrame by calling the attribute with a dot."
   ]
  },
  {
   "cell_type": "code",
   "execution_count": 13,
   "metadata": {},
   "outputs": [
    {
     "name": "stdout",
     "output_type": "stream",
     "text": [
      "0         816962.0\n",
      "1         816962.0\n",
      "2         816962.0\n",
      "3         867682.0\n",
      "4         867682.0\n",
      "           ...    \n",
      "3013    26774728.0\n",
      "3014    26781078.0\n",
      "3015           NaN\n",
      "3016           NaN\n",
      "3017           NaN\n",
      "Name: total_cases, Length: 3018, dtype: float64\n"
     ]
    }
   ],
   "source": [
    "print(data.total_cases)"
   ]
  },
  {
   "cell_type": "code",
   "execution_count": 14,
   "metadata": {},
   "outputs": [
    {
     "name": "stdout",
     "output_type": "stream",
     "text": [
      "0         816962.0\n",
      "1         816962.0\n",
      "2         816962.0\n",
      "3         867682.0\n",
      "4         867682.0\n",
      "           ...    \n",
      "3013    26774728.0\n",
      "3014    26781078.0\n",
      "3015           NaN\n",
      "3016           NaN\n",
      "3017           NaN\n",
      "Name: total_cases, Length: 3018, dtype: float64\n"
     ]
    }
   ],
   "source": [
    "#print(data[\"total_cases\"])\n",
    "#print(display(data.total_cases))\n",
    "print(data.loc[:, \"total_cases\"])"
   ]
  },
  {
   "cell_type": "markdown",
   "metadata": {},
   "source": [
    "#### Pandas get rows by index\n",
    "There are different ways one can get a row in pandas. Therefore, you need the `df.iloc` method\n",
    "\n",
    "##### **For one column:**\n",
    "\n",
    "**Python-Syntax:**\n",
    "```python\n",
    "data.iloc[<row_index>]\n",
    "``` \n",
    "\n",
    "Be aware, that if you just want to see one row, it will be displayed like this:"
   ]
  },
  {
   "cell_type": "code",
   "execution_count": 15,
   "metadata": {},
   "outputs": [
    {
     "data": {
      "text/plain": [
       "iso_code               AUT\n",
       "location           Austria\n",
       "date            2021-11-06\n",
       "total_cases       816962.0\n",
       "new_cases              0.0\n",
       "total_deaths       13828.0\n",
       "new_deaths             0.0\n",
       "population         8939617\n",
       "Name: 2, dtype: object"
      ]
     },
     "metadata": {},
     "output_type": "display_data"
    }
   ],
   "source": [
    "display(data.iloc[2])"
   ]
  },
  {
   "cell_type": "markdown",
   "metadata": {},
   "source": [
    "##### **For more than one row:**\n",
    "\n",
    "**Python-Syntax:**\n",
    "```python\n",
    "data.iloc[[<row_index>, <row_index>]]\n",
    "```"
   ]
  },
  {
   "cell_type": "code",
   "execution_count": 16,
   "metadata": {},
   "outputs": [
    {
     "data": {
      "text/html": [
       "<div>\n",
       "<style scoped>\n",
       "    .dataframe tbody tr th:only-of-type {\n",
       "        vertical-align: middle;\n",
       "    }\n",
       "\n",
       "    .dataframe tbody tr th {\n",
       "        vertical-align: top;\n",
       "    }\n",
       "\n",
       "    .dataframe thead th {\n",
       "        text-align: right;\n",
       "    }\n",
       "</style>\n",
       "<table border=\"1\" class=\"dataframe\">\n",
       "  <thead>\n",
       "    <tr style=\"text-align: right;\">\n",
       "      <th></th>\n",
       "      <th>iso_code</th>\n",
       "      <th>location</th>\n",
       "      <th>date</th>\n",
       "      <th>total_cases</th>\n",
       "      <th>new_cases</th>\n",
       "      <th>total_deaths</th>\n",
       "      <th>new_deaths</th>\n",
       "      <th>population</th>\n",
       "    </tr>\n",
       "  </thead>\n",
       "  <tbody>\n",
       "    <tr>\n",
       "      <th>2</th>\n",
       "      <td>AUT</td>\n",
       "      <td>Austria</td>\n",
       "      <td>2021-11-06</td>\n",
       "      <td>816962.0</td>\n",
       "      <td>0.0</td>\n",
       "      <td>13828.0</td>\n",
       "      <td>0.0</td>\n",
       "      <td>8939617</td>\n",
       "    </tr>\n",
       "    <tr>\n",
       "      <th>4</th>\n",
       "      <td>AUT</td>\n",
       "      <td>Austria</td>\n",
       "      <td>2021-11-08</td>\n",
       "      <td>867682.0</td>\n",
       "      <td>0.0</td>\n",
       "      <td>14020.0</td>\n",
       "      <td>0.0</td>\n",
       "      <td>8939617</td>\n",
       "    </tr>\n",
       "  </tbody>\n",
       "</table>\n",
       "</div>"
      ],
      "text/plain": [
       "  iso_code location        date  total_cases  new_cases  total_deaths  \\\n",
       "2      AUT  Austria  2021-11-06     816962.0        0.0       13828.0   \n",
       "4      AUT  Austria  2021-11-08     867682.0        0.0       14020.0   \n",
       "\n",
       "   new_deaths  population  \n",
       "2         0.0     8939617  \n",
       "4         0.0     8939617  "
      ]
     },
     "metadata": {},
     "output_type": "display_data"
    }
   ],
   "source": [
    "display(data.iloc[[2, 4]])"
   ]
  },
  {
   "cell_type": "markdown",
   "metadata": {},
   "source": [
    "It can also be used for a better display of one row:"
   ]
  },
  {
   "cell_type": "code",
   "execution_count": 17,
   "metadata": {},
   "outputs": [
    {
     "data": {
      "text/html": [
       "<div>\n",
       "<style scoped>\n",
       "    .dataframe tbody tr th:only-of-type {\n",
       "        vertical-align: middle;\n",
       "    }\n",
       "\n",
       "    .dataframe tbody tr th {\n",
       "        vertical-align: top;\n",
       "    }\n",
       "\n",
       "    .dataframe thead th {\n",
       "        text-align: right;\n",
       "    }\n",
       "</style>\n",
       "<table border=\"1\" class=\"dataframe\">\n",
       "  <thead>\n",
       "    <tr style=\"text-align: right;\">\n",
       "      <th></th>\n",
       "      <th>iso_code</th>\n",
       "      <th>location</th>\n",
       "      <th>date</th>\n",
       "      <th>total_cases</th>\n",
       "      <th>new_cases</th>\n",
       "      <th>total_deaths</th>\n",
       "      <th>new_deaths</th>\n",
       "      <th>population</th>\n",
       "    </tr>\n",
       "  </thead>\n",
       "  <tbody>\n",
       "    <tr>\n",
       "      <th>2</th>\n",
       "      <td>AUT</td>\n",
       "      <td>Austria</td>\n",
       "      <td>2021-11-06</td>\n",
       "      <td>816962.0</td>\n",
       "      <td>0.0</td>\n",
       "      <td>13828.0</td>\n",
       "      <td>0.0</td>\n",
       "      <td>8939617</td>\n",
       "    </tr>\n",
       "  </tbody>\n",
       "</table>\n",
       "</div>"
      ],
      "text/plain": [
       "  iso_code location        date  total_cases  new_cases  total_deaths  \\\n",
       "2      AUT  Austria  2021-11-06     816962.0        0.0       13828.0   \n",
       "\n",
       "   new_deaths  population  \n",
       "2         0.0     8939617  "
      ]
     },
     "metadata": {},
     "output_type": "display_data"
    }
   ],
   "source": [
    "display(data.iloc[[2]])"
   ]
  },
  {
   "cell_type": "markdown",
   "metadata": {},
   "source": [
    "##### **For a range of rows:**\n",
    "\n",
    "**Python-Syntax:**\n",
    "```python\n",
    "data.iloc[<start_row_index> : <end_row_index>]\n",
    "```\n",
    "`<start_row_index>` is inclusive, `<end_row_index>` is exclusive."
   ]
  },
  {
   "cell_type": "code",
   "execution_count": 18,
   "metadata": {},
   "outputs": [
    {
     "data": {
      "text/html": [
       "<div>\n",
       "<style scoped>\n",
       "    .dataframe tbody tr th:only-of-type {\n",
       "        vertical-align: middle;\n",
       "    }\n",
       "\n",
       "    .dataframe tbody tr th {\n",
       "        vertical-align: top;\n",
       "    }\n",
       "\n",
       "    .dataframe thead th {\n",
       "        text-align: right;\n",
       "    }\n",
       "</style>\n",
       "<table border=\"1\" class=\"dataframe\">\n",
       "  <thead>\n",
       "    <tr style=\"text-align: right;\">\n",
       "      <th></th>\n",
       "      <th>iso_code</th>\n",
       "      <th>location</th>\n",
       "      <th>date</th>\n",
       "      <th>total_cases</th>\n",
       "      <th>new_cases</th>\n",
       "      <th>total_deaths</th>\n",
       "      <th>new_deaths</th>\n",
       "      <th>population</th>\n",
       "    </tr>\n",
       "  </thead>\n",
       "  <tbody>\n",
       "    <tr>\n",
       "      <th>0</th>\n",
       "      <td>AUT</td>\n",
       "      <td>Austria</td>\n",
       "      <td>2021-11-04</td>\n",
       "      <td>816962.0</td>\n",
       "      <td>0.0</td>\n",
       "      <td>13828.0</td>\n",
       "      <td>0.0</td>\n",
       "      <td>8939617</td>\n",
       "    </tr>\n",
       "    <tr>\n",
       "      <th>1</th>\n",
       "      <td>AUT</td>\n",
       "      <td>Austria</td>\n",
       "      <td>2021-11-05</td>\n",
       "      <td>816962.0</td>\n",
       "      <td>0.0</td>\n",
       "      <td>13828.0</td>\n",
       "      <td>0.0</td>\n",
       "      <td>8939617</td>\n",
       "    </tr>\n",
       "    <tr>\n",
       "      <th>2</th>\n",
       "      <td>AUT</td>\n",
       "      <td>Austria</td>\n",
       "      <td>2021-11-06</td>\n",
       "      <td>816962.0</td>\n",
       "      <td>0.0</td>\n",
       "      <td>13828.0</td>\n",
       "      <td>0.0</td>\n",
       "      <td>8939617</td>\n",
       "    </tr>\n",
       "    <tr>\n",
       "      <th>3</th>\n",
       "      <td>AUT</td>\n",
       "      <td>Austria</td>\n",
       "      <td>2021-11-07</td>\n",
       "      <td>867682.0</td>\n",
       "      <td>50720.0</td>\n",
       "      <td>14020.0</td>\n",
       "      <td>192.0</td>\n",
       "      <td>8939617</td>\n",
       "    </tr>\n",
       "    <tr>\n",
       "      <th>4</th>\n",
       "      <td>AUT</td>\n",
       "      <td>Austria</td>\n",
       "      <td>2021-11-08</td>\n",
       "      <td>867682.0</td>\n",
       "      <td>0.0</td>\n",
       "      <td>14020.0</td>\n",
       "      <td>0.0</td>\n",
       "      <td>8939617</td>\n",
       "    </tr>\n",
       "    <tr>\n",
       "      <th>5</th>\n",
       "      <td>AUT</td>\n",
       "      <td>Austria</td>\n",
       "      <td>2021-11-09</td>\n",
       "      <td>867682.0</td>\n",
       "      <td>0.0</td>\n",
       "      <td>14020.0</td>\n",
       "      <td>0.0</td>\n",
       "      <td>8939617</td>\n",
       "    </tr>\n",
       "    <tr>\n",
       "      <th>6</th>\n",
       "      <td>AUT</td>\n",
       "      <td>Austria</td>\n",
       "      <td>2021-11-10</td>\n",
       "      <td>867682.0</td>\n",
       "      <td>0.0</td>\n",
       "      <td>14020.0</td>\n",
       "      <td>0.0</td>\n",
       "      <td>8939617</td>\n",
       "    </tr>\n",
       "    <tr>\n",
       "      <th>7</th>\n",
       "      <td>AUT</td>\n",
       "      <td>Austria</td>\n",
       "      <td>2021-11-11</td>\n",
       "      <td>867682.0</td>\n",
       "      <td>0.0</td>\n",
       "      <td>14020.0</td>\n",
       "      <td>0.0</td>\n",
       "      <td>8939617</td>\n",
       "    </tr>\n",
       "    <tr>\n",
       "      <th>8</th>\n",
       "      <td>AUT</td>\n",
       "      <td>Austria</td>\n",
       "      <td>2021-11-12</td>\n",
       "      <td>867682.0</td>\n",
       "      <td>0.0</td>\n",
       "      <td>14020.0</td>\n",
       "      <td>0.0</td>\n",
       "      <td>8939617</td>\n",
       "    </tr>\n",
       "    <tr>\n",
       "      <th>9</th>\n",
       "      <td>AUT</td>\n",
       "      <td>Austria</td>\n",
       "      <td>2021-11-13</td>\n",
       "      <td>867682.0</td>\n",
       "      <td>0.0</td>\n",
       "      <td>14020.0</td>\n",
       "      <td>0.0</td>\n",
       "      <td>8939617</td>\n",
       "    </tr>\n",
       "  </tbody>\n",
       "</table>\n",
       "</div>"
      ],
      "text/plain": [
       "  iso_code location        date  total_cases  new_cases  total_deaths  \\\n",
       "0      AUT  Austria  2021-11-04     816962.0        0.0       13828.0   \n",
       "1      AUT  Austria  2021-11-05     816962.0        0.0       13828.0   \n",
       "2      AUT  Austria  2021-11-06     816962.0        0.0       13828.0   \n",
       "3      AUT  Austria  2021-11-07     867682.0    50720.0       14020.0   \n",
       "4      AUT  Austria  2021-11-08     867682.0        0.0       14020.0   \n",
       "5      AUT  Austria  2021-11-09     867682.0        0.0       14020.0   \n",
       "6      AUT  Austria  2021-11-10     867682.0        0.0       14020.0   \n",
       "7      AUT  Austria  2021-11-11     867682.0        0.0       14020.0   \n",
       "8      AUT  Austria  2021-11-12     867682.0        0.0       14020.0   \n",
       "9      AUT  Austria  2021-11-13     867682.0        0.0       14020.0   \n",
       "\n",
       "   new_deaths  population  \n",
       "0         0.0     8939617  \n",
       "1         0.0     8939617  \n",
       "2         0.0     8939617  \n",
       "3       192.0     8939617  \n",
       "4         0.0     8939617  \n",
       "5         0.0     8939617  \n",
       "6         0.0     8939617  \n",
       "7         0.0     8939617  \n",
       "8         0.0     8939617  \n",
       "9         0.0     8939617  "
      ]
     },
     "metadata": {},
     "output_type": "display_data"
    }
   ],
   "source": [
    "display(data.iloc[0:10])"
   ]
  },
  {
   "cell_type": "markdown",
   "metadata": {},
   "source": [
    "#### Row selection with Logic\n",
    "Like in sets, you can select multiple rows by using logical operations. For example get all rows which fulfill the criterias 1 to n:\n",
    "\n",
    "**Python-Syntax:**\n",
    "```python\n",
    "data.loc[(<creteria_1>) & (<creteria_2>) & ... & (<creteria_n>)]\n",
    "```\n",
    "Or get all rows which fulfill one of the criterias 1 to n:\n",
    "\n",
    "**Python-Syntax:**\n",
    "```python\n",
    "data.loc[(<creteria_1>) | (<creteria_2>) | ... | (<creteria_n>)]\n",
    "```\n",
    "\n",
    "You can combine also different logical operations"
   ]
  },
  {
   "cell_type": "code",
   "execution_count": 19,
   "metadata": {},
   "outputs": [
    {
     "data": {
      "text/html": [
       "<div>\n",
       "<style scoped>\n",
       "    .dataframe tbody tr th:only-of-type {\n",
       "        vertical-align: middle;\n",
       "    }\n",
       "\n",
       "    .dataframe tbody tr th {\n",
       "        vertical-align: top;\n",
       "    }\n",
       "\n",
       "    .dataframe thead th {\n",
       "        text-align: right;\n",
       "    }\n",
       "</style>\n",
       "<table border=\"1\" class=\"dataframe\">\n",
       "  <thead>\n",
       "    <tr style=\"text-align: right;\">\n",
       "      <th></th>\n",
       "      <th>iso_code</th>\n",
       "      <th>location</th>\n",
       "      <th>date</th>\n",
       "      <th>total_cases</th>\n",
       "      <th>new_cases</th>\n",
       "      <th>total_deaths</th>\n",
       "      <th>new_deaths</th>\n",
       "      <th>population</th>\n",
       "    </tr>\n",
       "  </thead>\n",
       "  <tbody>\n",
       "    <tr>\n",
       "      <th>2</th>\n",
       "      <td>AUT</td>\n",
       "      <td>Austria</td>\n",
       "      <td>2021-11-06</td>\n",
       "      <td>816962.0</td>\n",
       "      <td>0.0</td>\n",
       "      <td>13828.0</td>\n",
       "      <td>0.0</td>\n",
       "      <td>8939617</td>\n",
       "    </tr>\n",
       "    <tr>\n",
       "      <th>1007</th>\n",
       "      <td>DEU</td>\n",
       "      <td>Germany</td>\n",
       "      <td>2021-11-06</td>\n",
       "      <td>4616602.0</td>\n",
       "      <td>0.0</td>\n",
       "      <td>99272.0</td>\n",
       "      <td>0.0</td>\n",
       "      <td>83369840</td>\n",
       "    </tr>\n",
       "    <tr>\n",
       "      <th>2012</th>\n",
       "      <td>ITA</td>\n",
       "      <td>Italy</td>\n",
       "      <td>2021-11-06</td>\n",
       "      <td>4767440.0</td>\n",
       "      <td>0.0</td>\n",
       "      <td>132074.0</td>\n",
       "      <td>0.0</td>\n",
       "      <td>59037472</td>\n",
       "    </tr>\n",
       "  </tbody>\n",
       "</table>\n",
       "</div>"
      ],
      "text/plain": [
       "     iso_code location        date  total_cases  new_cases  total_deaths  \\\n",
       "2         AUT  Austria  2021-11-06     816962.0        0.0       13828.0   \n",
       "1007      DEU  Germany  2021-11-06    4616602.0        0.0       99272.0   \n",
       "2012      ITA    Italy  2021-11-06    4767440.0        0.0      132074.0   \n",
       "\n",
       "      new_deaths  population  \n",
       "2            0.0     8939617  \n",
       "1007         0.0    83369840  \n",
       "2012         0.0    59037472  "
      ]
     },
     "metadata": {},
     "output_type": "display_data"
    },
    {
     "data": {
      "text/html": [
       "<div>\n",
       "<style scoped>\n",
       "    .dataframe tbody tr th:only-of-type {\n",
       "        vertical-align: middle;\n",
       "    }\n",
       "\n",
       "    .dataframe tbody tr th {\n",
       "        vertical-align: top;\n",
       "    }\n",
       "\n",
       "    .dataframe thead th {\n",
       "        text-align: right;\n",
       "    }\n",
       "</style>\n",
       "<table border=\"1\" class=\"dataframe\">\n",
       "  <thead>\n",
       "    <tr style=\"text-align: right;\">\n",
       "      <th></th>\n",
       "      <th>iso_code</th>\n",
       "      <th>location</th>\n",
       "      <th>date</th>\n",
       "      <th>total_cases</th>\n",
       "      <th>new_cases</th>\n",
       "      <th>total_deaths</th>\n",
       "      <th>new_deaths</th>\n",
       "      <th>population</th>\n",
       "    </tr>\n",
       "  </thead>\n",
       "  <tbody>\n",
       "    <tr>\n",
       "      <th>2</th>\n",
       "      <td>AUT</td>\n",
       "      <td>Austria</td>\n",
       "      <td>2021-11-06</td>\n",
       "      <td>816962.0</td>\n",
       "      <td>0.0</td>\n",
       "      <td>13828.0</td>\n",
       "      <td>0.0</td>\n",
       "      <td>8939617</td>\n",
       "    </tr>\n",
       "  </tbody>\n",
       "</table>\n",
       "</div>"
      ],
      "text/plain": [
       "  iso_code location        date  total_cases  new_cases  total_deaths  \\\n",
       "2      AUT  Austria  2021-11-06     816962.0        0.0       13828.0   \n",
       "\n",
       "   new_deaths  population  \n",
       "2         0.0     8939617  "
      ]
     },
     "execution_count": 19,
     "metadata": {},
     "output_type": "execute_result"
    }
   ],
   "source": [
    "#Get all rows with date \"2021-11-06\"\n",
    "display(data.loc[data.date == \"2021-11-06\"])\n",
    "\n",
    "#Get the entries of \"2021-11-06\" in Austria\n",
    "data.loc[(data.date == \"2021-11-06\") & (data.location == \"Austria\")]"
   ]
  },
  {
   "cell_type": "markdown",
   "metadata": {},
   "source": [
    "#### Combine row and colum slicing\n",
    "With the `df.loc[]` method, you can combine  row and column slicing.   \n",
    "So here, we want to get the `total_cases`, `new_cases`, `total_deaths` and `new_deaths` of austria from today:"
   ]
  },
  {
   "cell_type": "code",
   "execution_count": 20,
   "metadata": {},
   "outputs": [
    {
     "data": {
      "text/html": [
       "<div>\n",
       "<style scoped>\n",
       "    .dataframe tbody tr th:only-of-type {\n",
       "        vertical-align: middle;\n",
       "    }\n",
       "\n",
       "    .dataframe tbody tr th {\n",
       "        vertical-align: top;\n",
       "    }\n",
       "\n",
       "    .dataframe thead th {\n",
       "        text-align: right;\n",
       "    }\n",
       "</style>\n",
       "<table border=\"1\" class=\"dataframe\">\n",
       "  <thead>\n",
       "    <tr style=\"text-align: right;\">\n",
       "      <th></th>\n",
       "      <th>total_cases</th>\n",
       "      <th>new_cases</th>\n",
       "      <th>total_deaths</th>\n",
       "      <th>new_deaths</th>\n",
       "    </tr>\n",
       "  </thead>\n",
       "  <tbody>\n",
       "    <tr>\n",
       "      <th>2</th>\n",
       "      <td>816962.0</td>\n",
       "      <td>0.0</td>\n",
       "      <td>13828.0</td>\n",
       "      <td>0.0</td>\n",
       "    </tr>\n",
       "  </tbody>\n",
       "</table>\n",
       "</div>"
      ],
      "text/plain": [
       "   total_cases  new_cases  total_deaths  new_deaths\n",
       "2     816962.0        0.0       13828.0         0.0"
      ]
     },
     "execution_count": 20,
     "metadata": {},
     "output_type": "execute_result"
    }
   ],
   "source": [
    "data.loc[(data.date == \"2021-11-06\") & (data.location == \"Austria\"), [\"total_cases\", \"new_cases\", \"total_deaths\", \"new_deaths\"]]"
   ]
  },
  {
   "cell_type": "markdown",
   "metadata": {},
   "source": [
    "#### Reset index of Dataframe\n",
    "If you slice different rows the index does not change. To reset the index again you can use:\n",
    "\n",
    "**Python-Syntax:**\n",
    "```python\n",
    "data.reset_index()\n",
    "```\n",
    "This will create a new column named index. To supress this you can use the keyword argument `drop` and set it to true:\n",
    "\n",
    "**Python-Syntax:**\n",
    "```python\n",
    "data.reset_index(drop = True)\n",
    "```"
   ]
  },
  {
   "cell_type": "code",
   "execution_count": 21,
   "metadata": {},
   "outputs": [
    {
     "data": {
      "text/html": [
       "<div>\n",
       "<style scoped>\n",
       "    .dataframe tbody tr th:only-of-type {\n",
       "        vertical-align: middle;\n",
       "    }\n",
       "\n",
       "    .dataframe tbody tr th {\n",
       "        vertical-align: top;\n",
       "    }\n",
       "\n",
       "    .dataframe thead th {\n",
       "        text-align: right;\n",
       "    }\n",
       "</style>\n",
       "<table border=\"1\" class=\"dataframe\">\n",
       "  <thead>\n",
       "    <tr style=\"text-align: right;\">\n",
       "      <th></th>\n",
       "      <th>iso_code</th>\n",
       "      <th>location</th>\n",
       "      <th>date</th>\n",
       "      <th>total_cases</th>\n",
       "      <th>new_cases</th>\n",
       "      <th>total_deaths</th>\n",
       "      <th>new_deaths</th>\n",
       "      <th>population</th>\n",
       "    </tr>\n",
       "  </thead>\n",
       "  <tbody>\n",
       "    <tr>\n",
       "      <th>0</th>\n",
       "      <td>AUT</td>\n",
       "      <td>Austria</td>\n",
       "      <td>2021-11-04</td>\n",
       "      <td>816962.0</td>\n",
       "      <td>0.0</td>\n",
       "      <td>13828.0</td>\n",
       "      <td>0.0</td>\n",
       "      <td>8939617</td>\n",
       "    </tr>\n",
       "    <tr>\n",
       "      <th>1</th>\n",
       "      <td>AUT</td>\n",
       "      <td>Austria</td>\n",
       "      <td>2021-11-05</td>\n",
       "      <td>816962.0</td>\n",
       "      <td>0.0</td>\n",
       "      <td>13828.0</td>\n",
       "      <td>0.0</td>\n",
       "      <td>8939617</td>\n",
       "    </tr>\n",
       "    <tr>\n",
       "      <th>2</th>\n",
       "      <td>AUT</td>\n",
       "      <td>Austria</td>\n",
       "      <td>2021-11-06</td>\n",
       "      <td>816962.0</td>\n",
       "      <td>0.0</td>\n",
       "      <td>13828.0</td>\n",
       "      <td>0.0</td>\n",
       "      <td>8939617</td>\n",
       "    </tr>\n",
       "    <tr>\n",
       "      <th>3</th>\n",
       "      <td>AUT</td>\n",
       "      <td>Austria</td>\n",
       "      <td>2021-11-07</td>\n",
       "      <td>867682.0</td>\n",
       "      <td>50720.0</td>\n",
       "      <td>14020.0</td>\n",
       "      <td>192.0</td>\n",
       "      <td>8939617</td>\n",
       "    </tr>\n",
       "    <tr>\n",
       "      <th>4</th>\n",
       "      <td>AUT</td>\n",
       "      <td>Austria</td>\n",
       "      <td>2021-11-08</td>\n",
       "      <td>867682.0</td>\n",
       "      <td>0.0</td>\n",
       "      <td>14020.0</td>\n",
       "      <td>0.0</td>\n",
       "      <td>8939617</td>\n",
       "    </tr>\n",
       "    <tr>\n",
       "      <th>...</th>\n",
       "      <td>...</td>\n",
       "      <td>...</td>\n",
       "      <td>...</td>\n",
       "      <td>...</td>\n",
       "      <td>...</td>\n",
       "      <td>...</td>\n",
       "      <td>...</td>\n",
       "      <td>...</td>\n",
       "    </tr>\n",
       "    <tr>\n",
       "      <th>2008</th>\n",
       "      <td>ITA</td>\n",
       "      <td>Italy</td>\n",
       "      <td>2024-08-03</td>\n",
       "      <td>26774728.0</td>\n",
       "      <td>0.0</td>\n",
       "      <td>197301.0</td>\n",
       "      <td>0.0</td>\n",
       "      <td>59037472</td>\n",
       "    </tr>\n",
       "    <tr>\n",
       "      <th>2009</th>\n",
       "      <td>ITA</td>\n",
       "      <td>Italy</td>\n",
       "      <td>2024-08-04</td>\n",
       "      <td>26781078.0</td>\n",
       "      <td>6350.0</td>\n",
       "      <td>197307.0</td>\n",
       "      <td>6.0</td>\n",
       "      <td>59037472</td>\n",
       "    </tr>\n",
       "    <tr>\n",
       "      <th>2010</th>\n",
       "      <td>ITA</td>\n",
       "      <td>Italy</td>\n",
       "      <td>2024-08-05</td>\n",
       "      <td>NaN</td>\n",
       "      <td>NaN</td>\n",
       "      <td>NaN</td>\n",
       "      <td>NaN</td>\n",
       "      <td>59037472</td>\n",
       "    </tr>\n",
       "    <tr>\n",
       "      <th>2011</th>\n",
       "      <td>ITA</td>\n",
       "      <td>Italy</td>\n",
       "      <td>2024-08-06</td>\n",
       "      <td>NaN</td>\n",
       "      <td>NaN</td>\n",
       "      <td>NaN</td>\n",
       "      <td>NaN</td>\n",
       "      <td>59037472</td>\n",
       "    </tr>\n",
       "    <tr>\n",
       "      <th>2012</th>\n",
       "      <td>ITA</td>\n",
       "      <td>Italy</td>\n",
       "      <td>2024-08-07</td>\n",
       "      <td>NaN</td>\n",
       "      <td>NaN</td>\n",
       "      <td>NaN</td>\n",
       "      <td>NaN</td>\n",
       "      <td>59037472</td>\n",
       "    </tr>\n",
       "  </tbody>\n",
       "</table>\n",
       "<p>2013 rows × 8 columns</p>\n",
       "</div>"
      ],
      "text/plain": [
       "     iso_code location        date  total_cases  new_cases  total_deaths  \\\n",
       "0         AUT  Austria  2021-11-04     816962.0        0.0       13828.0   \n",
       "1         AUT  Austria  2021-11-05     816962.0        0.0       13828.0   \n",
       "2         AUT  Austria  2021-11-06     816962.0        0.0       13828.0   \n",
       "3         AUT  Austria  2021-11-07     867682.0    50720.0       14020.0   \n",
       "4         AUT  Austria  2021-11-08     867682.0        0.0       14020.0   \n",
       "...       ...      ...         ...          ...        ...           ...   \n",
       "2008      ITA    Italy  2024-08-03   26774728.0        0.0      197301.0   \n",
       "2009      ITA    Italy  2024-08-04   26781078.0     6350.0      197307.0   \n",
       "2010      ITA    Italy  2024-08-05          NaN        NaN           NaN   \n",
       "2011      ITA    Italy  2024-08-06          NaN        NaN           NaN   \n",
       "2012      ITA    Italy  2024-08-07          NaN        NaN           NaN   \n",
       "\n",
       "      new_deaths  population  \n",
       "0            0.0     8939617  \n",
       "1            0.0     8939617  \n",
       "2            0.0     8939617  \n",
       "3          192.0     8939617  \n",
       "4            0.0     8939617  \n",
       "...          ...         ...  \n",
       "2008         0.0    59037472  \n",
       "2009         6.0    59037472  \n",
       "2010         NaN    59037472  \n",
       "2011         NaN    59037472  \n",
       "2012         NaN    59037472  \n",
       "\n",
       "[2013 rows x 8 columns]"
      ]
     },
     "metadata": {},
     "output_type": "display_data"
    }
   ],
   "source": [
    "data_aut_and_it = data[data.location.isin([\"Austria\", \"Italy\"])]\n",
    "\n",
    "#display(data_aut_and_it)\n",
    "#display(data_aut_and_it.reset_index())\n",
    "display(data_aut_and_it.reset_index(drop = True))"
   ]
  },
  {
   "cell_type": "markdown",
   "metadata": {},
   "source": [
    "#### Add columns to a dataframe\n",
    "\n",
    "If you want to add a new column, you can do it with the `df.loc[]` method. \n",
    "\n",
    "**Python-Syntax:**\n",
    "```python\n",
    "data.loc[index_row_start:index_row_end, new_colum] = [new_values]\n",
    "```\n",
    "\n",
    "**Attention**: You need exacly as many new values as rows. Or just one value which gets assigned each row."
   ]
  },
  {
   "cell_type": "code",
   "execution_count": 22,
   "metadata": {},
   "outputs": [
    {
     "data": {
      "text/html": [
       "<div>\n",
       "<style scoped>\n",
       "    .dataframe tbody tr th:only-of-type {\n",
       "        vertical-align: middle;\n",
       "    }\n",
       "\n",
       "    .dataframe tbody tr th {\n",
       "        vertical-align: top;\n",
       "    }\n",
       "\n",
       "    .dataframe thead th {\n",
       "        text-align: right;\n",
       "    }\n",
       "</style>\n",
       "<table border=\"1\" class=\"dataframe\">\n",
       "  <thead>\n",
       "    <tr style=\"text-align: right;\">\n",
       "      <th></th>\n",
       "      <th>iso_code</th>\n",
       "      <th>location</th>\n",
       "      <th>date</th>\n",
       "      <th>total_cases</th>\n",
       "      <th>new_cases</th>\n",
       "      <th>total_deaths</th>\n",
       "      <th>new_deaths</th>\n",
       "      <th>population</th>\n",
       "      <th>continent</th>\n",
       "    </tr>\n",
       "  </thead>\n",
       "  <tbody>\n",
       "    <tr>\n",
       "      <th>0</th>\n",
       "      <td>AUT</td>\n",
       "      <td>Austria</td>\n",
       "      <td>2021-11-04</td>\n",
       "      <td>816962.0</td>\n",
       "      <td>0.0</td>\n",
       "      <td>13828.0</td>\n",
       "      <td>0.0</td>\n",
       "      <td>8939617</td>\n",
       "      <td>Europe</td>\n",
       "    </tr>\n",
       "    <tr>\n",
       "      <th>1</th>\n",
       "      <td>AUT</td>\n",
       "      <td>Austria</td>\n",
       "      <td>2021-11-05</td>\n",
       "      <td>816962.0</td>\n",
       "      <td>0.0</td>\n",
       "      <td>13828.0</td>\n",
       "      <td>0.0</td>\n",
       "      <td>8939617</td>\n",
       "      <td>Europe</td>\n",
       "    </tr>\n",
       "    <tr>\n",
       "      <th>2</th>\n",
       "      <td>AUT</td>\n",
       "      <td>Austria</td>\n",
       "      <td>2021-11-06</td>\n",
       "      <td>816962.0</td>\n",
       "      <td>0.0</td>\n",
       "      <td>13828.0</td>\n",
       "      <td>0.0</td>\n",
       "      <td>8939617</td>\n",
       "      <td>Europe</td>\n",
       "    </tr>\n",
       "    <tr>\n",
       "      <th>3</th>\n",
       "      <td>AUT</td>\n",
       "      <td>Austria</td>\n",
       "      <td>2021-11-07</td>\n",
       "      <td>867682.0</td>\n",
       "      <td>50720.0</td>\n",
       "      <td>14020.0</td>\n",
       "      <td>192.0</td>\n",
       "      <td>8939617</td>\n",
       "      <td>Europe</td>\n",
       "    </tr>\n",
       "    <tr>\n",
       "      <th>4</th>\n",
       "      <td>AUT</td>\n",
       "      <td>Austria</td>\n",
       "      <td>2021-11-08</td>\n",
       "      <td>867682.0</td>\n",
       "      <td>0.0</td>\n",
       "      <td>14020.0</td>\n",
       "      <td>0.0</td>\n",
       "      <td>8939617</td>\n",
       "      <td>Europe</td>\n",
       "    </tr>\n",
       "    <tr>\n",
       "      <th>...</th>\n",
       "      <td>...</td>\n",
       "      <td>...</td>\n",
       "      <td>...</td>\n",
       "      <td>...</td>\n",
       "      <td>...</td>\n",
       "      <td>...</td>\n",
       "      <td>...</td>\n",
       "      <td>...</td>\n",
       "      <td>...</td>\n",
       "    </tr>\n",
       "    <tr>\n",
       "      <th>3013</th>\n",
       "      <td>ITA</td>\n",
       "      <td>Italy</td>\n",
       "      <td>2024-08-03</td>\n",
       "      <td>26774728.0</td>\n",
       "      <td>0.0</td>\n",
       "      <td>197301.0</td>\n",
       "      <td>0.0</td>\n",
       "      <td>59037472</td>\n",
       "      <td>Europe</td>\n",
       "    </tr>\n",
       "    <tr>\n",
       "      <th>3014</th>\n",
       "      <td>ITA</td>\n",
       "      <td>Italy</td>\n",
       "      <td>2024-08-04</td>\n",
       "      <td>26781078.0</td>\n",
       "      <td>6350.0</td>\n",
       "      <td>197307.0</td>\n",
       "      <td>6.0</td>\n",
       "      <td>59037472</td>\n",
       "      <td>Europe</td>\n",
       "    </tr>\n",
       "    <tr>\n",
       "      <th>3015</th>\n",
       "      <td>ITA</td>\n",
       "      <td>Italy</td>\n",
       "      <td>2024-08-05</td>\n",
       "      <td>NaN</td>\n",
       "      <td>NaN</td>\n",
       "      <td>NaN</td>\n",
       "      <td>NaN</td>\n",
       "      <td>59037472</td>\n",
       "      <td>Europe</td>\n",
       "    </tr>\n",
       "    <tr>\n",
       "      <th>3016</th>\n",
       "      <td>ITA</td>\n",
       "      <td>Italy</td>\n",
       "      <td>2024-08-06</td>\n",
       "      <td>NaN</td>\n",
       "      <td>NaN</td>\n",
       "      <td>NaN</td>\n",
       "      <td>NaN</td>\n",
       "      <td>59037472</td>\n",
       "      <td>Europe</td>\n",
       "    </tr>\n",
       "    <tr>\n",
       "      <th>3017</th>\n",
       "      <td>ITA</td>\n",
       "      <td>Italy</td>\n",
       "      <td>2024-08-07</td>\n",
       "      <td>NaN</td>\n",
       "      <td>NaN</td>\n",
       "      <td>NaN</td>\n",
       "      <td>NaN</td>\n",
       "      <td>59037472</td>\n",
       "      <td>Europe</td>\n",
       "    </tr>\n",
       "  </tbody>\n",
       "</table>\n",
       "<p>3018 rows × 9 columns</p>\n",
       "</div>"
      ],
      "text/plain": [
       "     iso_code location        date  total_cases  new_cases  total_deaths  \\\n",
       "0         AUT  Austria  2021-11-04     816962.0        0.0       13828.0   \n",
       "1         AUT  Austria  2021-11-05     816962.0        0.0       13828.0   \n",
       "2         AUT  Austria  2021-11-06     816962.0        0.0       13828.0   \n",
       "3         AUT  Austria  2021-11-07     867682.0    50720.0       14020.0   \n",
       "4         AUT  Austria  2021-11-08     867682.0        0.0       14020.0   \n",
       "...       ...      ...         ...          ...        ...           ...   \n",
       "3013      ITA    Italy  2024-08-03   26774728.0        0.0      197301.0   \n",
       "3014      ITA    Italy  2024-08-04   26781078.0     6350.0      197307.0   \n",
       "3015      ITA    Italy  2024-08-05          NaN        NaN           NaN   \n",
       "3016      ITA    Italy  2024-08-06          NaN        NaN           NaN   \n",
       "3017      ITA    Italy  2024-08-07          NaN        NaN           NaN   \n",
       "\n",
       "      new_deaths  population continent  \n",
       "0            0.0     8939617    Europe  \n",
       "1            0.0     8939617    Europe  \n",
       "2            0.0     8939617    Europe  \n",
       "3          192.0     8939617    Europe  \n",
       "4            0.0     8939617    Europe  \n",
       "...          ...         ...       ...  \n",
       "3013         0.0    59037472    Europe  \n",
       "3014         6.0    59037472    Europe  \n",
       "3015         NaN    59037472    Europe  \n",
       "3016         NaN    59037472    Europe  \n",
       "3017         NaN    59037472    Europe  \n",
       "\n",
       "[3018 rows x 9 columns]"
      ]
     },
     "metadata": {},
     "output_type": "display_data"
    }
   ],
   "source": [
    "copy_data = data.copy()\n",
    "# This will not work because we have more than 12 columns\n",
    "# copy_data.loc[:, \"continent\"] = [\"Europe\", \"Asia\", \"Europe\", \"Asia\", \"Europe\", \"Asia\", \"Europe\", \"Asia\", \"Europe\", \"Asia\", \"Europe\", \"Asia\"]\n",
    "# display(copy_data)\n",
    "# Overwrite the column \"continent\" with Europe\n",
    "copy_data.loc[:, \"continent\"] = \"Europe\"\n",
    "display(copy_data)"
   ]
  },
  {
   "cell_type": "markdown",
   "metadata": {},
   "source": [
    "#### Compute the rolling window \n",
    "Rolling window? If you want to compute mean of the last 3 days of each value in the DataFrame, you need a rolling window by using the method `rolling()`. Therefore, you can add a the parameter `min_period` to make sure, that at least 2 values are in the DataFrame to compute the mean.\n",
    "\n",
    "**Python-Syntax:**\n",
    "```python\n",
    "data.rolling(<window_size>).function() \n",
    "```"
   ]
  },
  {
   "cell_type": "code",
   "execution_count": 23,
   "metadata": {},
   "outputs": [
    {
     "data": {
      "text/html": [
       "<div>\n",
       "<style scoped>\n",
       "    .dataframe tbody tr th:only-of-type {\n",
       "        vertical-align: middle;\n",
       "    }\n",
       "\n",
       "    .dataframe tbody tr th {\n",
       "        vertical-align: top;\n",
       "    }\n",
       "\n",
       "    .dataframe thead th {\n",
       "        text-align: right;\n",
       "    }\n",
       "</style>\n",
       "<table border=\"1\" class=\"dataframe\">\n",
       "  <thead>\n",
       "    <tr style=\"text-align: right;\">\n",
       "      <th></th>\n",
       "      <th>iso_code</th>\n",
       "      <th>location</th>\n",
       "      <th>date</th>\n",
       "      <th>total_cases</th>\n",
       "      <th>new_cases</th>\n",
       "      <th>total_deaths</th>\n",
       "      <th>new_deaths</th>\n",
       "      <th>population</th>\n",
       "      <th>new_cases_max_3d</th>\n",
       "    </tr>\n",
       "  </thead>\n",
       "  <tbody>\n",
       "    <tr>\n",
       "      <th>0</th>\n",
       "      <td>AUT</td>\n",
       "      <td>Austria</td>\n",
       "      <td>2021-11-04</td>\n",
       "      <td>816962.0</td>\n",
       "      <td>0.0</td>\n",
       "      <td>13828.0</td>\n",
       "      <td>0.0</td>\n",
       "      <td>8939617</td>\n",
       "      <td>NaN</td>\n",
       "    </tr>\n",
       "    <tr>\n",
       "      <th>1</th>\n",
       "      <td>AUT</td>\n",
       "      <td>Austria</td>\n",
       "      <td>2021-11-05</td>\n",
       "      <td>816962.0</td>\n",
       "      <td>0.0</td>\n",
       "      <td>13828.0</td>\n",
       "      <td>0.0</td>\n",
       "      <td>8939617</td>\n",
       "      <td>0.0</td>\n",
       "    </tr>\n",
       "    <tr>\n",
       "      <th>2</th>\n",
       "      <td>AUT</td>\n",
       "      <td>Austria</td>\n",
       "      <td>2021-11-06</td>\n",
       "      <td>816962.0</td>\n",
       "      <td>0.0</td>\n",
       "      <td>13828.0</td>\n",
       "      <td>0.0</td>\n",
       "      <td>8939617</td>\n",
       "      <td>0.0</td>\n",
       "    </tr>\n",
       "    <tr>\n",
       "      <th>3</th>\n",
       "      <td>AUT</td>\n",
       "      <td>Austria</td>\n",
       "      <td>2021-11-07</td>\n",
       "      <td>867682.0</td>\n",
       "      <td>50720.0</td>\n",
       "      <td>14020.0</td>\n",
       "      <td>192.0</td>\n",
       "      <td>8939617</td>\n",
       "      <td>50720.0</td>\n",
       "    </tr>\n",
       "    <tr>\n",
       "      <th>4</th>\n",
       "      <td>AUT</td>\n",
       "      <td>Austria</td>\n",
       "      <td>2021-11-08</td>\n",
       "      <td>867682.0</td>\n",
       "      <td>0.0</td>\n",
       "      <td>14020.0</td>\n",
       "      <td>0.0</td>\n",
       "      <td>8939617</td>\n",
       "      <td>50720.0</td>\n",
       "    </tr>\n",
       "    <tr>\n",
       "      <th>...</th>\n",
       "      <td>...</td>\n",
       "      <td>...</td>\n",
       "      <td>...</td>\n",
       "      <td>...</td>\n",
       "      <td>...</td>\n",
       "      <td>...</td>\n",
       "      <td>...</td>\n",
       "      <td>...</td>\n",
       "      <td>...</td>\n",
       "    </tr>\n",
       "    <tr>\n",
       "      <th>3013</th>\n",
       "      <td>ITA</td>\n",
       "      <td>Italy</td>\n",
       "      <td>2024-08-03</td>\n",
       "      <td>26774728.0</td>\n",
       "      <td>0.0</td>\n",
       "      <td>197301.0</td>\n",
       "      <td>0.0</td>\n",
       "      <td>59037472</td>\n",
       "      <td>0.0</td>\n",
       "    </tr>\n",
       "    <tr>\n",
       "      <th>3014</th>\n",
       "      <td>ITA</td>\n",
       "      <td>Italy</td>\n",
       "      <td>2024-08-04</td>\n",
       "      <td>26781078.0</td>\n",
       "      <td>6350.0</td>\n",
       "      <td>197307.0</td>\n",
       "      <td>6.0</td>\n",
       "      <td>59037472</td>\n",
       "      <td>6350.0</td>\n",
       "    </tr>\n",
       "    <tr>\n",
       "      <th>3015</th>\n",
       "      <td>ITA</td>\n",
       "      <td>Italy</td>\n",
       "      <td>2024-08-05</td>\n",
       "      <td>NaN</td>\n",
       "      <td>NaN</td>\n",
       "      <td>NaN</td>\n",
       "      <td>NaN</td>\n",
       "      <td>59037472</td>\n",
       "      <td>6350.0</td>\n",
       "    </tr>\n",
       "    <tr>\n",
       "      <th>3016</th>\n",
       "      <td>ITA</td>\n",
       "      <td>Italy</td>\n",
       "      <td>2024-08-06</td>\n",
       "      <td>NaN</td>\n",
       "      <td>NaN</td>\n",
       "      <td>NaN</td>\n",
       "      <td>NaN</td>\n",
       "      <td>59037472</td>\n",
       "      <td>NaN</td>\n",
       "    </tr>\n",
       "    <tr>\n",
       "      <th>3017</th>\n",
       "      <td>ITA</td>\n",
       "      <td>Italy</td>\n",
       "      <td>2024-08-07</td>\n",
       "      <td>NaN</td>\n",
       "      <td>NaN</td>\n",
       "      <td>NaN</td>\n",
       "      <td>NaN</td>\n",
       "      <td>59037472</td>\n",
       "      <td>NaN</td>\n",
       "    </tr>\n",
       "  </tbody>\n",
       "</table>\n",
       "<p>3018 rows × 9 columns</p>\n",
       "</div>"
      ],
      "text/plain": [
       "     iso_code location        date  total_cases  new_cases  total_deaths  \\\n",
       "0         AUT  Austria  2021-11-04     816962.0        0.0       13828.0   \n",
       "1         AUT  Austria  2021-11-05     816962.0        0.0       13828.0   \n",
       "2         AUT  Austria  2021-11-06     816962.0        0.0       13828.0   \n",
       "3         AUT  Austria  2021-11-07     867682.0    50720.0       14020.0   \n",
       "4         AUT  Austria  2021-11-08     867682.0        0.0       14020.0   \n",
       "...       ...      ...         ...          ...        ...           ...   \n",
       "3013      ITA    Italy  2024-08-03   26774728.0        0.0      197301.0   \n",
       "3014      ITA    Italy  2024-08-04   26781078.0     6350.0      197307.0   \n",
       "3015      ITA    Italy  2024-08-05          NaN        NaN           NaN   \n",
       "3016      ITA    Italy  2024-08-06          NaN        NaN           NaN   \n",
       "3017      ITA    Italy  2024-08-07          NaN        NaN           NaN   \n",
       "\n",
       "      new_deaths  population  new_cases_max_3d  \n",
       "0            0.0     8939617               NaN  \n",
       "1            0.0     8939617               0.0  \n",
       "2            0.0     8939617               0.0  \n",
       "3          192.0     8939617           50720.0  \n",
       "4            0.0     8939617           50720.0  \n",
       "...          ...         ...               ...  \n",
       "3013         0.0    59037472               0.0  \n",
       "3014         6.0    59037472            6350.0  \n",
       "3015         NaN    59037472            6350.0  \n",
       "3016         NaN    59037472               NaN  \n",
       "3017         NaN    59037472               NaN  \n",
       "\n",
       "[3018 rows x 9 columns]"
      ]
     },
     "metadata": {},
     "output_type": "display_data"
    }
   ],
   "source": [
    "# Compute the max new cases of the last 3 days\n",
    "data.loc[:, \"new_cases_max_3d\"] = data.loc[:, \"new_cases\"].rolling(3, min_periods=2).max()\n",
    "display(data)"
   ]
  },
  {
   "cell_type": "markdown",
   "metadata": {
    "cell_id": "00000-3ca2cbd2-fc3a-43c0-815b-29870b5010a9",
    "deepnote_cell_type": "markdown"
   },
   "source": [
    "## Data Visualization in Python\n",
    "\n",
    "In this course we will work with real data and analyze it. To draw transparent conclusions, data visualization is key, therefore one of the most common plotting librarie in python is presented for you in this notebook. We will show how to approach creating different plot types using matplotlib.   \n",
    "\n",
    "There are also a lot of other ploting libraries a very common and easy to use library is ploty, this library lets you also easily create interactive plots.   \n",
    "\n",
    "For this unit we use covid data from the last year which is stored in a `pickle`-file (`tutorial_3_data.p`). \n",
    "What the `pickle` library is, what it really does and if one can eat it 🥒 is not really relevant right now, we will just leave it be with executing the cell. \n",
    "\n",
    "The data loaded from the pickle-file contains data of the hospital- and icu-patients for each day starting from January 1st 2020 to November 7th 2020 for three countries: Austria, Germany and Italy.\n",
    "\n",
    "Using `matplotlib`, we will show you how to plot\n",
    "* single line graphs\n",
    "* multi line graphs\n",
    "* subplots (multiple plots in one graph)\n",
    "\n",
    "If you want to visualize other plot types (like histograms, scatter plots, bar plots, ...) visit the documentations of the plotting librariy in the respective section of the notebook.\n"
   ]
  },
  {
   "cell_type": "markdown",
   "metadata": {
    "cell_id": "00001-17a3bff2-59f9-4db3-99ab-ba1c12ea35ac",
    "deepnote_cell_type": "markdown"
   },
   "source": [
    "## Matplotlib\n",
    "\n",
    "\n",
    "Matplotlib is a Python library where the syntax is similar to the plotting environment in MATLAB. While it might be one of the more \"traditional\" plotting libraries in python, it is still widely used and you should have definitely heard about it in your programming career. Just think about it like an old trusty bike from your childhood that takes a lot of convincing when riding up a steep hill and is most likely passed by its younger bike-decendants but still will never let you down. 🚲\n",
    "\n",
    "For the full documentation of `matplotlib`, visit [here](https://matplotlib.org/).\n",
    "\n",
    "[This video tutorial (1h 34min)](https://www.youtube.com/watch?v=wB9C0Mz9gSo) covers all the basics you need to know and more (we will focus on line plots, histograms, and scatter plots).\n",
    "\n",
    "Before we start working, we need to import matplotlib into our Python environment:"
   ]
  },
  {
   "cell_type": "markdown",
   "metadata": {
    "cell_id": "00002-04f435b6-69a7-4ed5-8c84-b4aea850061b",
    "deepnote_cell_type": "markdown",
    "tags": []
   },
   "source": [
    "### Installation\n",
    "\n",
    "Matplotlib is an external package which is not included in the python standard library so you have to install it using pip.\n",
    "\n",
    "If you have a windows machine, use\n",
    "```\n",
    "pip install matplotlib\n",
    "```\n",
    "\n",
    "\n",
    "If your computer runs on macOS or Linux, type\n",
    "```\n",
    "pip3 install matplotlib\n",
    "```\n",
    "\n",
    "Or you can also execute this cell:"
   ]
  },
  {
   "cell_type": "code",
   "execution_count": 24,
   "metadata": {},
   "outputs": [
    {
     "name": "stdout",
     "output_type": "stream",
     "text": [
      "Requirement already satisfied: matplotlib in c:\\users\\pavle\\anaconda3\\lib\\site-packages (3.5.2)\n",
      "Requirement already satisfied: cycler>=0.10 in c:\\users\\pavle\\anaconda3\\lib\\site-packages (from matplotlib) (0.11.0)\n",
      "Requirement already satisfied: fonttools>=4.22.0 in c:\\users\\pavle\\anaconda3\\lib\\site-packages (from matplotlib) (4.25.0)\n",
      "Requirement already satisfied: kiwisolver>=1.0.1 in c:\\users\\pavle\\anaconda3\\lib\\site-packages (from matplotlib) (1.4.2)\n",
      "Requirement already satisfied: numpy>=1.17 in c:\\users\\pavle\\anaconda3\\lib\\site-packages (from matplotlib) (1.21.5)\n",
      "Requirement already satisfied: packaging>=20.0 in c:\\users\\pavle\\anaconda3\\lib\\site-packages (from matplotlib) (21.3)\n",
      "Requirement already satisfied: pillow>=6.2.0 in c:\\users\\pavle\\anaconda3\\lib\\site-packages (from matplotlib) (9.2.0)\n",
      "Requirement already satisfied: pyparsing>=2.2.1 in c:\\users\\pavle\\anaconda3\\lib\\site-packages (from matplotlib) (3.0.9)\n",
      "Requirement already satisfied: python-dateutil>=2.7 in c:\\users\\pavle\\anaconda3\\lib\\site-packages (from matplotlib) (2.8.2)\n",
      "Requirement already satisfied: six>=1.5 in c:\\users\\pavle\\anaconda3\\lib\\site-packages (from python-dateutil>=2.7->matplotlib) (1.16.0)\n"
     ]
    },
    {
     "name": "stderr",
     "output_type": "stream",
     "text": [
      "\n",
      "[notice] A new release of pip is available: 23.1.2 -> 24.3.1\n",
      "[notice] To update, run: python.exe -m pip install --upgrade pip\n"
     ]
    }
   ],
   "source": [
    "! pip install matplotlib"
   ]
  },
  {
   "cell_type": "markdown",
   "metadata": {},
   "source": [
    "We then have to import the `matplotlib.pyplot` package into our project. It's common to use the `plt` abbrevation for that. (like `pd` for the `pandas` package or `np` for `numpy`)"
   ]
  },
  {
   "cell_type": "code",
   "execution_count": 25,
   "metadata": {
    "cell_id": "00002-b4f53f3e-1319-4923-9caa-4e34d4979365",
    "deepnote_cell_type": "code",
    "deepnote_to_be_reexecuted": false,
    "execution_millis": 493,
    "execution_start": 1637661086616,
    "source_hash": "19641f9c"
   },
   "outputs": [],
   "source": [
    "import matplotlib.pyplot as plt # or from matplotlib import pyplot as plt"
   ]
  },
  {
   "cell_type": "markdown",
   "metadata": {
    "cell_id": "00003-f67ae211-2a94-492e-81f5-86472ec68002",
    "deepnote_cell_type": "markdown"
   },
   "source": [
    "But what use has a plotting library without data? We will have to unpickle our pickle-object `tutorial_3_data.p`.\n",
    "\n",
    "Now it's the perfect time to think about a meaningful, intuitive and heartwarming variablename so that the curious reader of our notebook can already guess what the value of the variable is just by reading its name 😇. Think... Think.. Yes, we will call it `data`!\n",
    "`data` reveals itself to be just another ordinary dictionary. Sneaky!"
   ]
  },
  {
   "cell_type": "code",
   "execution_count": 26,
   "metadata": {
    "cell_id": "00004-d3141961-b962-4493-bcce-b8c9509f120a",
    "deepnote_cell_type": "code",
    "deepnote_to_be_reexecuted": false,
    "execution_millis": 4,
    "execution_start": 1637661087116,
    "source_hash": "3aea3202"
   },
   "outputs": [],
   "source": [
    "# read data for plotting from tutorial_3_data.p file (available from TC)\n",
    "import pickle \n",
    "\n",
    "with open(\"tutorial_3_data.p\", \"rb\") as p:\n",
    "    data = pickle.load(p)"
   ]
  },
  {
   "cell_type": "markdown",
   "metadata": {
    "cell_id": "00005-f25978c1-1d42-4a72-ab71-6633e7f1fcaa",
    "deepnote_cell_type": "markdown"
   },
   "source": [
    "We can also `print` our data to have a closer look at what we are going to visualize 😉"
   ]
  },
  {
   "cell_type": "code",
   "execution_count": 27,
   "metadata": {
    "cell_id": "00006-ca3c3d1f-64fa-4f2c-90ec-846270926df5",
    "deepnote_cell_type": "code",
    "deepnote_to_be_reexecuted": false,
    "execution_millis": 55,
    "execution_start": 1637661087140,
    "source_hash": "228f532"
   },
   "outputs": [
    {
     "name": "stdout",
     "output_type": "stream",
     "text": [
      "{'Austria': defaultdict(<class 'list'>, {'date': array(['2019-12-31', '2020-01-01', '2020-01-02', '2020-01-03',\n",
      "       '2020-01-04', '2020-01-05', '2020-01-06', '2020-01-07',\n",
      "       '2020-01-08', '2020-01-09', '2020-01-10', '2020-01-11',\n",
      "       '2020-01-12', '2020-01-13', '2020-01-14', '2020-01-15',\n",
      "       '2020-01-16', '2020-01-17', '2020-01-18', '2020-01-19',\n",
      "       '2020-01-20', '2020-01-21', '2020-01-22', '2020-01-23',\n",
      "       '2020-01-24', '2020-01-25', '2020-01-26', '2020-01-27',\n",
      "       '2020-01-28', '2020-01-29', '2020-01-30', '2020-01-31',\n",
      "       '2020-02-01', '2020-02-02', '2020-02-03', '2020-02-04',\n",
      "       '2020-02-05', '2020-02-06', '2020-02-07', '2020-02-08',\n",
      "       '2020-02-09', '2020-02-10', '2020-02-11', '2020-02-12',\n",
      "       '2020-02-13', '2020-02-14', '2020-02-15', '2020-02-16',\n",
      "       '2020-02-17', '2020-02-18', '2020-02-19', '2020-02-20',\n",
      "       '2020-02-21', '2020-02-22', '2020-02-23', '2020-02-24',\n",
      "       '2020-02-25', '2020-02-26', '2020-02-27', '2020-02-28',\n",
      "       '2020-02-29', '2020-03-01', '2020-03-02', '2020-03-03',\n",
      "       '2020-03-04', '2020-03-05', '2020-03-06', '2020-03-07',\n",
      "       '2020-03-08', '2020-03-09', '2020-03-10', '2020-03-11',\n",
      "       '2020-03-12', '2020-03-13', '2020-03-14', '2020-03-15',\n",
      "       '2020-03-16', '2020-03-17', '2020-03-18', '2020-03-19',\n",
      "       '2020-03-20', '2020-03-21', '2020-03-22', '2020-03-23',\n",
      "       '2020-03-24', '2020-03-25', '2020-03-26', '2020-03-27',\n",
      "       '2020-03-28', '2020-03-29', '2020-03-30', '2020-03-31',\n",
      "       '2020-04-01', '2020-04-02', '2020-04-03', '2020-04-04',\n",
      "       '2020-04-05', '2020-04-06', '2020-04-07', '2020-04-08',\n",
      "       '2020-04-09', '2020-04-10', '2020-04-11', '2020-04-12',\n",
      "       '2020-04-13', '2020-04-14', '2020-04-15', '2020-04-16',\n",
      "       '2020-04-17', '2020-04-18', '2020-04-19', '2020-04-20',\n",
      "       '2020-04-21', '2020-04-22', '2020-04-23', '2020-04-24',\n",
      "       '2020-04-25', '2020-04-26', '2020-04-27', '2020-04-28',\n",
      "       '2020-04-29', '2020-04-30', '2020-05-01', '2020-05-02',\n",
      "       '2020-05-03', '2020-05-04', '2020-05-05', '2020-05-06',\n",
      "       '2020-05-07', '2020-05-08', '2020-05-09', '2020-05-10',\n",
      "       '2020-05-11', '2020-05-12', '2020-05-13', '2020-05-14',\n",
      "       '2020-05-15', '2020-05-16', '2020-05-17', '2020-05-18',\n",
      "       '2020-05-19', '2020-05-20', '2020-05-21', '2020-05-22',\n",
      "       '2020-05-23', '2020-05-24', '2020-05-25', '2020-05-26',\n",
      "       '2020-05-27', '2020-05-28', '2020-05-29', '2020-05-30',\n",
      "       '2020-05-31', '2020-06-01', '2020-06-02', '2020-06-03',\n",
      "       '2020-06-04', '2020-06-05', '2020-06-06', '2020-06-07',\n",
      "       '2020-06-08', '2020-06-09', '2020-06-10', '2020-06-11',\n",
      "       '2020-06-12', '2020-06-13', '2020-06-14', '2020-06-15',\n",
      "       '2020-06-16', '2020-06-17', '2020-06-18', '2020-06-19',\n",
      "       '2020-06-20', '2020-06-21', '2020-06-22', '2020-06-23',\n",
      "       '2020-06-24', '2020-06-25', '2020-06-26', '2020-06-27',\n",
      "       '2020-06-28', '2020-06-29', '2020-06-30', '2020-07-01',\n",
      "       '2020-07-02', '2020-07-03', '2020-07-04', '2020-07-05',\n",
      "       '2020-07-06', '2020-07-07', '2020-07-08', '2020-07-09',\n",
      "       '2020-07-10', '2020-07-11', '2020-07-12', '2020-07-13',\n",
      "       '2020-07-14', '2020-07-15', '2020-07-16', '2020-07-17',\n",
      "       '2020-07-18', '2020-07-19', '2020-07-20', '2020-07-21',\n",
      "       '2020-07-22', '2020-07-23', '2020-07-24', '2020-07-25',\n",
      "       '2020-07-26', '2020-07-27', '2020-07-28', '2020-07-29',\n",
      "       '2020-07-30', '2020-07-31', '2020-08-01', '2020-08-02',\n",
      "       '2020-08-03', '2020-08-04', '2020-08-05', '2020-08-06',\n",
      "       '2020-08-07', '2020-08-08', '2020-08-09', '2020-08-10',\n",
      "       '2020-08-11', '2020-08-12', '2020-08-13', '2020-08-14',\n",
      "       '2020-08-15', '2020-08-16', '2020-08-17', '2020-08-18',\n",
      "       '2020-08-19', '2020-08-20', '2020-08-21', '2020-08-22',\n",
      "       '2020-08-23', '2020-08-24', '2020-08-25', '2020-08-26',\n",
      "       '2020-08-27', '2020-08-28', '2020-08-29', '2020-08-30',\n",
      "       '2020-08-31', '2020-09-01', '2020-09-02', '2020-09-03',\n",
      "       '2020-09-04', '2020-09-05', '2020-09-06', '2020-09-07',\n",
      "       '2020-09-08', '2020-09-09', '2020-09-10', '2020-09-11',\n",
      "       '2020-09-12', '2020-09-13', '2020-09-14', '2020-09-15',\n",
      "       '2020-09-16', '2020-09-17', '2020-09-18', '2020-09-19',\n",
      "       '2020-09-20', '2020-09-21', '2020-09-22', '2020-09-23',\n",
      "       '2020-09-24', '2020-09-25', '2020-09-26', '2020-09-27',\n",
      "       '2020-09-28', '2020-09-29', '2020-09-30', '2020-10-01',\n",
      "       '2020-10-02', '2020-10-03', '2020-10-04', '2020-10-05',\n",
      "       '2020-10-06', '2020-10-07', '2020-10-08', '2020-10-09',\n",
      "       '2020-10-10', '2020-10-11', '2020-10-12', '2020-10-13',\n",
      "       '2020-10-14', '2020-10-15', '2020-10-16', '2020-10-17',\n",
      "       '2020-10-18', '2020-10-19', '2020-10-20', '2020-10-21',\n",
      "       '2020-10-22', '2020-10-23', '2020-10-24', '2020-10-25',\n",
      "       '2020-10-26', '2020-10-27', '2020-10-28', '2020-10-29',\n",
      "       '2020-10-30', '2020-10-31', '2020-11-01', '2020-11-02',\n",
      "       '2020-11-03', '2020-11-04', '2020-11-05', '2020-11-06',\n",
      "       '2020-11-07'], dtype='datetime64[D]'), 'icu_patients': array([ nan,  nan,  nan,  nan,  nan,  nan,  nan,  nan,  nan,  nan,  nan,\n",
      "        nan,  nan,  nan,  nan,  nan,  nan,  nan,  nan,  nan,  nan,  nan,\n",
      "        nan,  nan,  nan,  nan,  nan,  nan,  nan,  nan,  nan,  nan,  nan,\n",
      "        nan,  nan,  nan,  nan,  nan,  nan,  nan,  nan,  nan,  nan,  nan,\n",
      "        nan,  nan,  nan,  nan,  nan,  nan,  nan,  nan,  nan,  nan,  nan,\n",
      "        nan,  nan,  nan,  nan,  nan,  nan,  nan,  nan,  nan,  nan,  nan,\n",
      "        nan,  nan,  nan,  nan,  nan,  nan,  nan,  nan,  nan,  nan,  nan,\n",
      "        nan,  nan,  nan,  nan,  nan,  nan,  nan,  nan,  nan,  nan,  nan,\n",
      "        nan,  nan,  nan,  nan, 215., 219., 245., 245., 244., 250., 243.,\n",
      "       267., 266., 261., 245., 243., 239., 243., 232., 238., 227., 208.,\n",
      "       204., 194., 196., 176., 169., 156., 148., 145., 140., 136., 131.,\n",
      "       128., 124., 114., 114., 111., 104.,  97.,  92.,  81.,  79.,  72.,\n",
      "        68.,  59.,  55.,  54.,  47.,  50.,  48.,  45.,  39.,  37.,  32.,\n",
      "        31.,  28.,  29.,  31.,  32.,  32.,  30.,  25.,  23.,  27.,  29.,\n",
      "        26.,  21.,  22.,  20.,  17.,  17.,  17.,  19.,  17.,  14.,   9.,\n",
      "        10.,  12.,  15.,  12.,  11.,   8.,   7.,   8.,   8.,  10.,  11.,\n",
      "        11.,  11.,  10.,  10.,   9.,   8.,   6.,   9.,   7.,   7.,   8.,\n",
      "        10.,  11.,  10.,  11.,  12.,   9.,   9.,  10.,   8.,   9.,  10.,\n",
      "        11.,  11.,  11.,  14.,  16.,  18.,  18.,  15.,  17.,  16.,  15.,\n",
      "        16.,  15.,  20.,  18.,  16.,  19.,  20.,  21.,  23.,  25.,  25.,\n",
      "        25.,  24.,  22.,  24.,  25.,  25.,  22.,  19.,  21.,  19.,  23.,\n",
      "        19.,  20.,  21.,  22.,  22.,  23.,  23.,  23.,  23.,  24.,  27.,\n",
      "        30.,  30.,  31.,  30.,  30.,  29.,  28.,  28.,  28.,  29.,  28.,\n",
      "        36.,  39.,  41.,  42.,  44.,  47.,  49.,  54.,  55.,  62.,  84.,\n",
      "        68.,  67.,  75.,  77.,  78.,  78.,  80.,  84.,  88.,  90.,  90.,\n",
      "        98., 100.,  97., 103., 101., 101., 100., 107., 103.,  99.,  96.,\n",
      "        97., 107., 112., 119., 122., 130., 135., 145., 145., 147., 161.,\n",
      "       158., 175., 174., 188., 203., 224., 248., 263., 265., 291.,  nan,\n",
      "        nan,  nan,  nan,  nan,  nan]), 'hosp_patients': array([  nan,   nan,   nan,   nan,   nan,   nan,   nan,   nan,   nan,\n",
      "         nan,   nan,   nan,   nan,   nan,   nan,   nan,   nan,   nan,\n",
      "         nan,   nan,   nan,   nan,   nan,   nan,   nan,   nan,   nan,\n",
      "         nan,   nan,   nan,   nan,   nan,   nan,   nan,   nan,   nan,\n",
      "         nan,   nan,   nan,   nan,   nan,   nan,   nan,   nan,   nan,\n",
      "         nan,   nan,   nan,   nan,   nan,   nan,   nan,   nan,   nan,\n",
      "         nan,   nan,   nan,   nan,   nan,   nan,   nan,   nan,   nan,\n",
      "         nan,   nan,   nan,   nan,   nan,   nan,   nan,   nan,   nan,\n",
      "         nan,   nan,   nan,   nan,   nan,   nan,   nan,   nan,   nan,\n",
      "         nan,   nan,   nan,   nan,   nan,   nan,   nan,   nan,   nan,\n",
      "         nan,   nan,  856.,  823.,  829.,  826.,  712.,  824.,  857.,\n",
      "        829.,  820.,  771.,  790.,  792.,  742.,  759.,  769.,  729.,\n",
      "        682.,  647.,  613.,  611.,  560.,  524.,  508.,  495.,  460.,\n",
      "        449.,  439.,  425.,  386.,  372.,  348.,  314.,  308.,  309.,\n",
      "        314.,  321.,  268.,  258.,  230.,  219.,  211.,  205.,  188.,\n",
      "        180.,  165.,  158.,  149.,  151.,  143.,  137.,  156.,  128.,\n",
      "        116.,  108.,  108.,   95.,   84.,   77.,   78.,   75.,   70.,\n",
      "         68.,   62.,   66.,   65.,   55.,   55.,   52.,   65.,   65.,\n",
      "         63.,   67.,   60.,   62.,   57.,   64.,   66.,   60.,   64.,\n",
      "         68.,   66.,   61.,   59.,   57.,   59.,   60.,   60.,   61.,\n",
      "         62.,   66.,   58.,   65.,   62.,   65.,   60.,   62.,   67.,\n",
      "         81.,   66.,   66.,   71.,   68.,   73.,   74.,   74.,   86.,\n",
      "         83.,   88.,   87.,   85.,   96.,   96.,   93.,   87.,   86.,\n",
      "         85.,   82.,   79.,   74.,   74.,   87.,   84.,   70.,   73.,\n",
      "         92.,   84.,   90.,   92.,   93.,   96.,   99.,   92.,   94.,\n",
      "         93.,   92.,   91.,   83.,   65.,   91.,   97.,  101.,   95.,\n",
      "         90.,   94.,   93.,  112.,  114.,  118.,  121.,  119.,  114.,\n",
      "        110.,  123.,  119.,  127.,  132.,  128.,  129.,  115.,  134.,\n",
      "        142.,  161.,  166.,  163.,  167.,  182.,  208.,  244.,  267.,\n",
      "        264.,  272.,  265.,  273.,  297.,  315.,  336.,  344.,  333.,\n",
      "        343.,  362.,  381.,  401.,  406.,  395.,  372.,  397.,  373.,\n",
      "        387.,  397.,  425.,  399.,  405.,  410.,  431.,  464.,  504.,\n",
      "        542.,  545.,  584.,  594.,  607.,  654.,  744.,  813.,  841.,\n",
      "        900., 1002., 1051., 1142., 1197., 1345., 1444., 1540., 1602.,\n",
      "       1657.,   nan,   nan,   nan,   nan,   nan,   nan])}), 'Germany': defaultdict(<class 'list'>, {'date': array(['2019-12-31', '2020-01-01', '2020-01-02', '2020-01-03',\n",
      "       '2020-01-04', '2020-01-05', '2020-01-06', '2020-01-07',\n",
      "       '2020-01-08', '2020-01-09', '2020-01-10', '2020-01-11',\n",
      "       '2020-01-12', '2020-01-13', '2020-01-14', '2020-01-15',\n",
      "       '2020-01-16', '2020-01-17', '2020-01-18', '2020-01-19',\n",
      "       '2020-01-20', '2020-01-21', '2020-01-22', '2020-01-23',\n",
      "       '2020-01-24', '2020-01-25', '2020-01-26', '2020-01-27',\n",
      "       '2020-01-28', '2020-01-29', '2020-01-30', '2020-01-31',\n",
      "       '2020-02-01', '2020-02-02', '2020-02-03', '2020-02-04',\n",
      "       '2020-02-05', '2020-02-06', '2020-02-07', '2020-02-08',\n",
      "       '2020-02-09', '2020-02-10', '2020-02-11', '2020-02-12',\n",
      "       '2020-02-13', '2020-02-14', '2020-02-15', '2020-02-16',\n",
      "       '2020-02-17', '2020-02-18', '2020-02-19', '2020-02-20',\n",
      "       '2020-02-21', '2020-02-22', '2020-02-23', '2020-02-24',\n",
      "       '2020-02-25', '2020-02-26', '2020-02-27', '2020-02-28',\n",
      "       '2020-02-29', '2020-03-01', '2020-03-02', '2020-03-03',\n",
      "       '2020-03-04', '2020-03-05', '2020-03-06', '2020-03-07',\n",
      "       '2020-03-08', '2020-03-09', '2020-03-10', '2020-03-11',\n",
      "       '2020-03-12', '2020-03-13', '2020-03-14', '2020-03-15',\n",
      "       '2020-03-16', '2020-03-17', '2020-03-18', '2020-03-19',\n",
      "       '2020-03-20', '2020-03-21', '2020-03-22', '2020-03-23',\n",
      "       '2020-03-24', '2020-03-25', '2020-03-26', '2020-03-27',\n",
      "       '2020-03-28', '2020-03-29', '2020-03-30', '2020-03-31',\n",
      "       '2020-04-01', '2020-04-02', '2020-04-03', '2020-04-04',\n",
      "       '2020-04-05', '2020-04-06', '2020-04-07', '2020-04-08',\n",
      "       '2020-04-09', '2020-04-10', '2020-04-11', '2020-04-12',\n",
      "       '2020-04-13', '2020-04-14', '2020-04-15', '2020-04-16',\n",
      "       '2020-04-17', '2020-04-18', '2020-04-19', '2020-04-20',\n",
      "       '2020-04-21', '2020-04-22', '2020-04-23', '2020-04-24',\n",
      "       '2020-04-25', '2020-04-26', '2020-04-27', '2020-04-28',\n",
      "       '2020-04-29', '2020-04-30', '2020-05-01', '2020-05-02',\n",
      "       '2020-05-03', '2020-05-04', '2020-05-05', '2020-05-06',\n",
      "       '2020-05-07', '2020-05-08', '2020-05-09', '2020-05-10',\n",
      "       '2020-05-11', '2020-05-12', '2020-05-13', '2020-05-14',\n",
      "       '2020-05-15', '2020-05-16', '2020-05-17', '2020-05-18',\n",
      "       '2020-05-19', '2020-05-20', '2020-05-21', '2020-05-22',\n",
      "       '2020-05-23', '2020-05-24', '2020-05-25', '2020-05-26',\n",
      "       '2020-05-27', '2020-05-28', '2020-05-29', '2020-05-30',\n",
      "       '2020-05-31', '2020-06-01', '2020-06-02', '2020-06-03',\n",
      "       '2020-06-04', '2020-06-05', '2020-06-06', '2020-06-07',\n",
      "       '2020-06-08', '2020-06-09', '2020-06-10', '2020-06-11',\n",
      "       '2020-06-12', '2020-06-13', '2020-06-14', '2020-06-15',\n",
      "       '2020-06-16', '2020-06-17', '2020-06-18', '2020-06-19',\n",
      "       '2020-06-20', '2020-06-21', '2020-06-22', '2020-06-23',\n",
      "       '2020-06-24', '2020-06-25', '2020-06-26', '2020-06-27',\n",
      "       '2020-06-28', '2020-06-29', '2020-06-30', '2020-07-01',\n",
      "       '2020-07-02', '2020-07-03', '2020-07-04', '2020-07-05',\n",
      "       '2020-07-06', '2020-07-07', '2020-07-08', '2020-07-09',\n",
      "       '2020-07-10', '2020-07-11', '2020-07-12', '2020-07-13',\n",
      "       '2020-07-14', '2020-07-15', '2020-07-16', '2020-07-17',\n",
      "       '2020-07-18', '2020-07-19', '2020-07-20', '2020-07-21',\n",
      "       '2020-07-22', '2020-07-23', '2020-07-24', '2020-07-25',\n",
      "       '2020-07-26', '2020-07-27', '2020-07-28', '2020-07-29',\n",
      "       '2020-07-30', '2020-07-31', '2020-08-01', '2020-08-02',\n",
      "       '2020-08-03', '2020-08-04', '2020-08-05', '2020-08-06',\n",
      "       '2020-08-07', '2020-08-08', '2020-08-09', '2020-08-10',\n",
      "       '2020-08-11', '2020-08-12', '2020-08-13', '2020-08-14',\n",
      "       '2020-08-15', '2020-08-16', '2020-08-17', '2020-08-18',\n",
      "       '2020-08-19', '2020-08-20', '2020-08-21', '2020-08-22',\n",
      "       '2020-08-23', '2020-08-24', '2020-08-25', '2020-08-26',\n",
      "       '2020-08-27', '2020-08-28', '2020-08-29', '2020-08-30',\n",
      "       '2020-08-31', '2020-09-01', '2020-09-02', '2020-09-03',\n",
      "       '2020-09-04', '2020-09-05', '2020-09-06', '2020-09-07',\n",
      "       '2020-09-08', '2020-09-09', '2020-09-10', '2020-09-11',\n",
      "       '2020-09-12', '2020-09-13', '2020-09-14', '2020-09-15',\n",
      "       '2020-09-16', '2020-09-17', '2020-09-18', '2020-09-19',\n",
      "       '2020-09-20', '2020-09-21', '2020-09-22', '2020-09-23',\n",
      "       '2020-09-24', '2020-09-25', '2020-09-26', '2020-09-27',\n",
      "       '2020-09-28', '2020-09-29', '2020-09-30', '2020-10-01',\n",
      "       '2020-10-02', '2020-10-03', '2020-10-04', '2020-10-05',\n",
      "       '2020-10-06', '2020-10-07', '2020-10-08', '2020-10-09',\n",
      "       '2020-10-10', '2020-10-11', '2020-10-12', '2020-10-13',\n",
      "       '2020-10-14', '2020-10-15', '2020-10-16', '2020-10-17',\n",
      "       '2020-10-18', '2020-10-19', '2020-10-20', '2020-10-21',\n",
      "       '2020-10-22', '2020-10-23', '2020-10-24', '2020-10-25',\n",
      "       '2020-10-26', '2020-10-27', '2020-10-28', '2020-10-29',\n",
      "       '2020-10-30', '2020-10-31', '2020-11-01', '2020-11-02',\n",
      "       '2020-11-03', '2020-11-04', '2020-11-05', '2020-11-06',\n",
      "       '2020-11-07'], dtype='datetime64[D]'), 'icu_patients': array([nan, nan, nan, nan, nan, nan, nan, nan, nan, nan, nan, nan, nan,\n",
      "       nan, nan, nan, nan, nan, nan, nan, nan, nan, nan, nan, nan, nan,\n",
      "       nan, nan, nan, nan, nan, nan, nan, nan, nan, nan, nan, nan, nan,\n",
      "       nan, nan, nan, nan, nan, nan, nan, nan, nan, nan, nan, nan, nan,\n",
      "       nan, nan, nan, nan, nan, nan, nan, nan, nan, nan, nan, nan, nan,\n",
      "       nan, nan, nan, nan, nan, nan, nan, nan, nan, nan, nan, nan, nan,\n",
      "       nan, nan, nan, nan, nan, nan, nan, nan, nan, nan, nan, nan, nan,\n",
      "       nan, nan, nan, nan, nan, nan, nan, nan, nan, nan, nan, nan, nan,\n",
      "       nan, nan, nan, nan, nan, nan, nan, nan, nan, nan, nan, nan, nan,\n",
      "       nan, nan, nan, nan, nan, nan, nan, nan, nan, nan, nan, nan, nan,\n",
      "       nan, nan, nan, nan, nan, nan, nan, nan, nan, nan, nan, nan, nan,\n",
      "       nan, nan, nan, nan, nan, nan, nan, nan, nan, nan, nan, nan, nan,\n",
      "       nan, nan, nan, nan, nan, nan, nan, nan, nan, nan, nan, nan, nan,\n",
      "       nan, nan, nan, nan, nan, nan, nan, nan, nan, nan, nan, nan, nan,\n",
      "       nan, nan, nan, nan, nan, nan, nan, nan, nan, nan, nan, nan, nan,\n",
      "       nan, nan, nan, nan, nan, nan, nan, nan, nan, nan, nan, nan, nan,\n",
      "       nan, nan, nan, nan, nan, nan, nan, nan, nan, nan, nan, nan, nan,\n",
      "       nan, nan, nan, nan, nan, nan, nan, nan, nan, nan, nan, nan, nan,\n",
      "       nan, nan, nan, nan, nan, nan, nan, nan, nan, nan, nan, nan, nan,\n",
      "       nan, nan, nan, nan, nan, nan, nan, nan, nan, nan, nan, nan, nan,\n",
      "       nan, nan, nan, nan, nan, nan, nan, nan, nan, nan, nan, nan, nan,\n",
      "       nan, nan, nan, nan, nan, nan, nan, nan, nan, nan, nan, nan, nan,\n",
      "       nan, nan, nan, nan, nan, nan, nan, nan, nan, nan, nan, nan, nan,\n",
      "       nan, nan, nan, nan, nan, nan, nan, nan, nan, nan, nan, nan, nan,\n",
      "       nan]), 'hosp_patients': array([nan, nan, nan, nan, nan, nan, nan, nan, nan, nan, nan, nan, nan,\n",
      "       nan, nan, nan, nan, nan, nan, nan, nan, nan, nan, nan, nan, nan,\n",
      "       nan, nan, nan, nan, nan, nan, nan, nan, nan, nan, nan, nan, nan,\n",
      "       nan, nan, nan, nan, nan, nan, nan, nan, nan, nan, nan, nan, nan,\n",
      "       nan, nan, nan, nan, nan, nan, nan, nan, nan, nan, nan, nan, nan,\n",
      "       nan, nan, nan, nan, nan, nan, nan, nan, nan, nan, nan, nan, nan,\n",
      "       nan, nan, nan, nan, nan, nan, nan, nan, nan, nan, nan, nan, nan,\n",
      "       nan, nan, nan, nan, nan, nan, nan, nan, nan, nan, nan, nan, nan,\n",
      "       nan, nan, nan, nan, nan, nan, nan, nan, nan, nan, nan, nan, nan,\n",
      "       nan, nan, nan, nan, nan, nan, nan, nan, nan, nan, nan, nan, nan,\n",
      "       nan, nan, nan, nan, nan, nan, nan, nan, nan, nan, nan, nan, nan,\n",
      "       nan, nan, nan, nan, nan, nan, nan, nan, nan, nan, nan, nan, nan,\n",
      "       nan, nan, nan, nan, nan, nan, nan, nan, nan, nan, nan, nan, nan,\n",
      "       nan, nan, nan, nan, nan, nan, nan, nan, nan, nan, nan, nan, nan,\n",
      "       nan, nan, nan, nan, nan, nan, nan, nan, nan, nan, nan, nan, nan,\n",
      "       nan, nan, nan, nan, nan, nan, nan, nan, nan, nan, nan, nan, nan,\n",
      "       nan, nan, nan, nan, nan, nan, nan, nan, nan, nan, nan, nan, nan,\n",
      "       nan, nan, nan, nan, nan, nan, nan, nan, nan, nan, nan, nan, nan,\n",
      "       nan, nan, nan, nan, nan, nan, nan, nan, nan, nan, nan, nan, nan,\n",
      "       nan, nan, nan, nan, nan, nan, nan, nan, nan, nan, nan, nan, nan,\n",
      "       nan, nan, nan, nan, nan, nan, nan, nan, nan, nan, nan, nan, nan,\n",
      "       nan, nan, nan, nan, nan, nan, nan, nan, nan, nan, nan, nan, nan,\n",
      "       nan, nan, nan, nan, nan, nan, nan, nan, nan, nan, nan, nan, nan,\n",
      "       nan, nan, nan, nan, nan, nan, nan, nan, nan, nan, nan, nan, nan,\n",
      "       nan])}), 'Italy': defaultdict(<class 'list'>, {'date': array(['2019-12-31', '2020-01-01', '2020-01-02', '2020-01-03',\n",
      "       '2020-01-04', '2020-01-05', '2020-01-06', '2020-01-07',\n",
      "       '2020-01-08', '2020-01-09', '2020-01-10', '2020-01-11',\n",
      "       '2020-01-12', '2020-01-13', '2020-01-14', '2020-01-15',\n",
      "       '2020-01-16', '2020-01-17', '2020-01-18', '2020-01-19',\n",
      "       '2020-01-20', '2020-01-21', '2020-01-22', '2020-01-23',\n",
      "       '2020-01-24', '2020-01-25', '2020-01-26', '2020-01-27',\n",
      "       '2020-01-28', '2020-01-29', '2020-01-30', '2020-01-31',\n",
      "       '2020-02-01', '2020-02-02', '2020-02-03', '2020-02-04',\n",
      "       '2020-02-05', '2020-02-06', '2020-02-07', '2020-02-08',\n",
      "       '2020-02-09', '2020-02-10', '2020-02-11', '2020-02-12',\n",
      "       '2020-02-13', '2020-02-14', '2020-02-15', '2020-02-16',\n",
      "       '2020-02-17', '2020-02-18', '2020-02-19', '2020-02-20',\n",
      "       '2020-02-21', '2020-02-22', '2020-02-23', '2020-02-24',\n",
      "       '2020-02-25', '2020-02-26', '2020-02-27', '2020-02-28',\n",
      "       '2020-02-29', '2020-03-01', '2020-03-02', '2020-03-03',\n",
      "       '2020-03-04', '2020-03-05', '2020-03-06', '2020-03-07',\n",
      "       '2020-03-08', '2020-03-09', '2020-03-10', '2020-03-11',\n",
      "       '2020-03-12', '2020-03-13', '2020-03-14', '2020-03-15',\n",
      "       '2020-03-16', '2020-03-17', '2020-03-18', '2020-03-19',\n",
      "       '2020-03-20', '2020-03-21', '2020-03-22', '2020-03-23',\n",
      "       '2020-03-24', '2020-03-25', '2020-03-26', '2020-03-27',\n",
      "       '2020-03-28', '2020-03-29', '2020-03-30', '2020-03-31',\n",
      "       '2020-04-01', '2020-04-02', '2020-04-03', '2020-04-04',\n",
      "       '2020-04-05', '2020-04-06', '2020-04-07', '2020-04-08',\n",
      "       '2020-04-09', '2020-04-10', '2020-04-11', '2020-04-12',\n",
      "       '2020-04-13', '2020-04-14', '2020-04-15', '2020-04-16',\n",
      "       '2020-04-17', '2020-04-18', '2020-04-19', '2020-04-20',\n",
      "       '2020-04-21', '2020-04-22', '2020-04-23', '2020-04-24',\n",
      "       '2020-04-25', '2020-04-26', '2020-04-27', '2020-04-28',\n",
      "       '2020-04-29', '2020-04-30', '2020-05-01', '2020-05-02',\n",
      "       '2020-05-03', '2020-05-04', '2020-05-05', '2020-05-06',\n",
      "       '2020-05-07', '2020-05-08', '2020-05-09', '2020-05-10',\n",
      "       '2020-05-11', '2020-05-12', '2020-05-13', '2020-05-14',\n",
      "       '2020-05-15', '2020-05-16', '2020-05-17', '2020-05-18',\n",
      "       '2020-05-19', '2020-05-20', '2020-05-21', '2020-05-22',\n",
      "       '2020-05-23', '2020-05-24', '2020-05-25', '2020-05-26',\n",
      "       '2020-05-27', '2020-05-28', '2020-05-29', '2020-05-30',\n",
      "       '2020-05-31', '2020-06-01', '2020-06-02', '2020-06-03',\n",
      "       '2020-06-04', '2020-06-05', '2020-06-06', '2020-06-07',\n",
      "       '2020-06-08', '2020-06-09', '2020-06-10', '2020-06-11',\n",
      "       '2020-06-12', '2020-06-13', '2020-06-14', '2020-06-15',\n",
      "       '2020-06-16', '2020-06-17', '2020-06-18', '2020-06-19',\n",
      "       '2020-06-20', '2020-06-21', '2020-06-22', '2020-06-23',\n",
      "       '2020-06-24', '2020-06-25', '2020-06-26', '2020-06-27',\n",
      "       '2020-06-28', '2020-06-29', '2020-06-30', '2020-07-01',\n",
      "       '2020-07-02', '2020-07-03', '2020-07-04', '2020-07-05',\n",
      "       '2020-07-06', '2020-07-07', '2020-07-08', '2020-07-09',\n",
      "       '2020-07-10', '2020-07-11', '2020-07-12', '2020-07-13',\n",
      "       '2020-07-14', '2020-07-15', '2020-07-16', '2020-07-17',\n",
      "       '2020-07-18', '2020-07-19', '2020-07-20', '2020-07-21',\n",
      "       '2020-07-22', '2020-07-23', '2020-07-24', '2020-07-25',\n",
      "       '2020-07-26', '2020-07-27', '2020-07-28', '2020-07-29',\n",
      "       '2020-07-30', '2020-07-31', '2020-08-01', '2020-08-02',\n",
      "       '2020-08-03', '2020-08-04', '2020-08-05', '2020-08-06',\n",
      "       '2020-08-07', '2020-08-08', '2020-08-09', '2020-08-10',\n",
      "       '2020-08-11', '2020-08-12', '2020-08-13', '2020-08-14',\n",
      "       '2020-08-15', '2020-08-16', '2020-08-17', '2020-08-18',\n",
      "       '2020-08-19', '2020-08-20', '2020-08-21', '2020-08-22',\n",
      "       '2020-08-23', '2020-08-24', '2020-08-25', '2020-08-26',\n",
      "       '2020-08-27', '2020-08-28', '2020-08-29', '2020-08-30',\n",
      "       '2020-08-31', '2020-09-01', '2020-09-02', '2020-09-03',\n",
      "       '2020-09-04', '2020-09-05', '2020-09-06', '2020-09-07',\n",
      "       '2020-09-08', '2020-09-09', '2020-09-10', '2020-09-11',\n",
      "       '2020-09-12', '2020-09-13', '2020-09-14', '2020-09-15',\n",
      "       '2020-09-16', '2020-09-17', '2020-09-18', '2020-09-19',\n",
      "       '2020-09-20', '2020-09-21', '2020-09-22', '2020-09-23',\n",
      "       '2020-09-24', '2020-09-25', '2020-09-26', '2020-09-27',\n",
      "       '2020-09-28', '2020-09-29', '2020-09-30', '2020-10-01',\n",
      "       '2020-10-02', '2020-10-03', '2020-10-04', '2020-10-05',\n",
      "       '2020-10-06', '2020-10-07', '2020-10-08', '2020-10-09',\n",
      "       '2020-10-10', '2020-10-11', '2020-10-12', '2020-10-13',\n",
      "       '2020-10-14', '2020-10-15', '2020-10-16', '2020-10-17',\n",
      "       '2020-10-18', '2020-10-19', '2020-10-20', '2020-10-21',\n",
      "       '2020-10-22', '2020-10-23', '2020-10-24', '2020-10-25',\n",
      "       '2020-10-26', '2020-10-27', '2020-10-28', '2020-10-29',\n",
      "       '2020-10-30', '2020-10-31', '2020-11-01', '2020-11-02',\n",
      "       '2020-11-03', '2020-11-04', '2020-11-05', '2020-11-06',\n",
      "       '2020-11-07'], dtype='datetime64[D]'), 'icu_patients': array([  nan,   nan,   nan,   nan,   nan,   nan,   nan,   nan,   nan,\n",
      "         nan,   nan,   nan,   nan,   nan,   nan,   nan,   nan,   nan,\n",
      "         nan,   nan,   nan,   nan,   nan,   nan,   nan,   nan,   nan,\n",
      "         nan,   nan,   nan,   nan,   nan,   nan,   nan,   nan,   nan,\n",
      "         nan,   nan,   nan,   nan,   nan,   nan,   nan,   nan,   nan,\n",
      "         nan,   nan,   nan,   nan,   nan,   nan,   nan,   nan,   nan,\n",
      "         nan,   26.,   35.,   36.,   56.,   64.,  105.,  140.,  166.,\n",
      "        229.,  295.,  351.,  462.,  567.,  650.,  733.,  877., 1028.,\n",
      "       1153., 1328., 1518., 1672., 1851., 2060., 2257., 2498., 2655.,\n",
      "       2857., 3009., 3204., 3396., 3489., 3612., 3732., 3856., 3906.,\n",
      "       3981., 4023., 4035., 4053., 4068., 3994., 3977., 3898., 3792.,\n",
      "       3693., 3605., 3497., 3381., 3343., 3260., 3186., 3079., 2936.,\n",
      "       2812., 2733., 2635., 2573., 2471., 2384., 2267., 2173., 2102.,\n",
      "       2009., 1956., 1863., 1795., 1694., 1578., 1539., 1501., 1479.,\n",
      "       1427., 1333., 1311., 1168., 1034., 1027.,  999.,  952.,  893.,\n",
      "        855.,  808.,  775.,  762.,  749.,  716.,  676.,  640.,  595.,\n",
      "        572.,  553.,  541.,  521.,  505.,  489.,  475.,  450.,  435.,\n",
      "        424.,  408.,  353.,  338.,  316.,  293.,  287.,  283.,  263.,\n",
      "        249.,  236.,  227.,  220.,  209.,  207.,  177.,  163.,  168.,\n",
      "        161.,  152.,  148.,  127.,  115.,  107.,  103.,  105.,   97.,\n",
      "         98.,   96.,   93.,   87.,   82.,   79.,   71.,   74.,   72.,\n",
      "         70.,   71.,   69.,   65.,   67.,   68.,   65.,   60.,   57.,\n",
      "         53.,   50.,   50.,   49.,   47.,   49.,   48.,   49.,   46.,\n",
      "         41.,   44.,   45.,   40.,   38.,   47.,   41.,   43.,   42.,\n",
      "         41.,   41.,   41.,   42.,   42.,   43.,   45.,   46.,   49.,\n",
      "         53.,   55.,   56.,   55.,   56.,   58.,   58.,   66.,   68.,\n",
      "         69.,   64.,   69.,   65.,   66.,   69.,   67.,   74.,   79.,\n",
      "         86.,   94.,  107.,  109.,  120.,  121.,  121.,  133.,  142.,\n",
      "        143.,  150.,  164.,  175.,  182.,  187.,  197.,  201.,  207.,\n",
      "        212.,  208.,  215.,  222.,  232.,  239.,  244.,  246.,  244.,\n",
      "        247.,  254.,  264.,  271.,  280.,  291.,  294.,  297.,  303.,\n",
      "        323.,  319.,  337.,  358.,  387.,  390.,  420.,  452.,  514.,\n",
      "        539.,  586.,  638.,  705.,  750.,  797.,  870.,  926.,  992.,\n",
      "       1049., 1128., 1208., 1284., 1411., 1536., 1651., 1746., 1843.,\n",
      "       1939.,   nan,   nan,   nan,   nan,   nan,   nan]), 'hosp_patients': array([   nan,    nan,    nan,    nan,    nan,    nan,    nan,    nan,\n",
      "          nan,    nan,    nan,    nan,    nan,    nan,    nan,    nan,\n",
      "          nan,    nan,    nan,    nan,    nan,    nan,    nan,    nan,\n",
      "          nan,    nan,    nan,    nan,    nan,    nan,    nan,    nan,\n",
      "          nan,    nan,    nan,    nan,    nan,    nan,    nan,    nan,\n",
      "          nan,    nan,    nan,    nan,    nan,    nan,    nan,    nan,\n",
      "          nan,    nan,    nan,    nan,    nan,    nan,    nan,   127.,\n",
      "         149.,   164.,   304.,   409.,   506.,   779.,   908.,  1263.,\n",
      "        1641.,  2141.,  2856.,  3218.,  4207.,  5049.,  5915.,  6866.,\n",
      "        7803.,  8754.,  9890., 11335., 12876., 14954., 16620., 18255.,\n",
      "       18675., 20565., 22855., 23896., 25333., 26601., 28365., 29761.,\n",
      "       30532., 31292., 31776., 32215., 32438., 32593., 32809., 33004.,\n",
      "       32926., 32874., 32510., 32178., 32004., 31739., 31525., 31190.,\n",
      "       31283., 31197., 30722., 29829., 28598., 27740., 27668., 27479.,\n",
      "       26605., 26189., 25138., 24241., 23635., 23381., 22309., 21586.,\n",
      "       21005., 19843., 19147., 18896., 18743., 18302., 17697., 17102.,\n",
      "       16485., 15804., 14868., 14645., 14538., 13817., 13065., 12308.,\n",
      "       11600., 11175., 11073., 10956., 10707., 10300.,  9909.,  9552.,\n",
      "        9267.,  9166.,  8726.,  8438.,  8234.,  7868.,  7569.,  7130.,\n",
      "        6822.,  6523.,  6324.,  6095.,  5841.,  5617.,  5295.,  5151.,\n",
      "        5012.,  4844.,  4569.,  4367.,  4120.,  3967.,  3803.,  3696.,\n",
      "        3478.,  3276.,  3035.,  2793.,  2626.,  2462.,  2165.,  1968.,\n",
      "        1717.,  1618.,  1461.,  1357.,  1258.,  1216.,  1183.,  1112.,\n",
      "        1045.,  1035.,  1011.,  1019.,  1018.,  1010.,   970.,   940.,\n",
      "         909.,   893.,   844.,   833.,   837.,   854.,   803.,   821.,\n",
      "         807.,   792.,   792.,   781.,   772.,   762.,   759.,   772.,\n",
      "         779.,   785.,   789.,   769.,   795.,   757.,   748.,   750.,\n",
      "         775.,   802.,   805.,   804.,   821.,   814.,   808.,   825.,\n",
      "         850.,   832.,   841.,   827.,   819.,   843.,   868.,   901.,\n",
      "         932.,   951.,   988.,   988.,  1040.,  1110.,  1124.,  1124.,\n",
      "        1198.,  1252.,  1247.,  1337.,  1382.,  1487.,  1546.,  1625.,\n",
      "        1728.,  1741.,  1816.,  1861.,  1903.,  1928.,  2000.,  2024.,\n",
      "        2133.,  2229.,  2319.,  2423.,  2492.,  2560.,  2595.,  2595.,\n",
      "        2587.,  2707.,  2843.,  2902.,  2977.,  2981.,  2993.,  3100.,\n",
      "        3241.,  3319.,  3327.,  3388.,  3436.,  3502.,  3590.,  3810.,\n",
      "        3944.,  4119.,  4283.,  4473.,  4726.,  4939.,  5273.,  5590.,\n",
      "        6009.,  6382.,  6816.,  7322.,  7881.,  8473.,  9324.,  9983.,\n",
      "       10686., 11598., 12415., 13214., 14281., 15366., 16517., 17615.,\n",
      "       18740., 19809., 20841.,    nan,    nan,    nan,    nan,    nan,\n",
      "          nan])})}\n"
     ]
    }
   ],
   "source": [
    "print(data)"
   ]
  },
  {
   "cell_type": "markdown",
   "metadata": {
    "cell_id": "00007-bae4bd97-5fcf-421f-ba41-98c4d455f409",
    "deepnote_cell_type": "markdown"
   },
   "source": [
    "### Single and Multiple Line Graphs\n",
    "\n",
    "Line graphs are helpful to show how a variable changes over time. They can be created by using `plt.plot(<x_values>, <y_values>)`.\n",
    "Don't forget to create a new, empty figure object before with `plt.figure()`! \n",
    "We can pass the `figsize` argument to the `.plot` to define the size of our figure object beforehand. `figsize` is a tuple in the form of `(<width>, <height>)` where the values are given in inch.\n",
    "\n",
    "We can label the x- and y- axes by using `plt.xlabel()` and `plt.ylabel()`. The plot title can be set by using `plt.title()`.\n",
    "\n",
    "Let's plot the number of total hospital patients over time in Austria."
   ]
  },
  {
   "cell_type": "code",
   "execution_count": 28,
   "metadata": {
    "cell_id": "00008-1a4ce303-c992-4b69-b1b9-5b6bfa0fde8d",
    "deepnote_cell_type": "code",
    "deepnote_output_heights": [
     530.703125
    ],
    "deepnote_to_be_reexecuted": false,
    "execution_millis": 386,
    "execution_start": 1637661087234,
    "source_hash": "fc67862d"
   },
   "outputs": [
    {
     "data": {
      "image/png": "[encoded data removed]",
      "text/plain": [
       "<Figure size 1500x1000 with 1 Axes>"
      ]
     },
     "metadata": {},
     "output_type": "display_data"
    }
   ],
   "source": [
    "# creating a single line plot\n",
    "plt.figure(figsize = (15,10)) \n",
    "plt.plot(data[\"Austria\"][\"date\"], data[\"Austria\"][\"hosp_patients\"] )\n",
    "plt.xlabel('Time')\n",
    "plt.ylabel(\"#Hospital patients\")\n",
    "plt.title('Hospital patients in Austria')\n",
    "\n",
    "plt.show()"
   ]
  },
  {
   "cell_type": "markdown",
   "metadata": {
    "cell_id": "00010-350894aa-c687-4a65-abd8-936be55e0ed3",
    "deepnote_cell_type": "markdown",
    "tags": []
   },
   "source": [
    "This looks like a proper line plot for me! 📈 \n",
    "Note that in the last line we used `plt.show()` to show our plot. In most IPython Environments (like jupyter lab or if we open the Notebook in Visual Studio Code) we don't actually need to use `plt.show()`. Try out what happens if you comment the last line. However, if you are plotting inside a \"normal\" python script (suffix `.py`) and executing it from a terminal, you need to use `plt.show()`, otherwise it won't show. \n",
    "\n",
    "\n",
    "We can add multiple line plots over each other by just calling `plt.plot()` again, this time with the y-values for the `icu_patients` entries. Two make the two lines distingishuable, we can add a legend to the plot using `plt.legend()`. But before we do that we have to give each of our lines a label: This is done inside of the `plt.plot()` function. "
   ]
  },
  {
   "cell_type": "code",
   "execution_count": 29,
   "metadata": {
    "cell_id": "00010-798b8626-5986-48e0-b537-1d2acdb54db3",
    "deepnote_cell_type": "code",
    "deepnote_output_heights": [
     530.703125
    ],
    "deepnote_to_be_reexecuted": false,
    "execution_millis": 360,
    "execution_start": 1637661087742,
    "source_hash": "b2decb77"
   },
   "outputs": [
    {
     "data": {
      "image/png": "[encoded data removed]",
      "text/plain": [
       "<Figure size 1500x1000 with 1 Axes>"
      ]
     },
     "metadata": {},
     "output_type": "display_data"
    }
   ],
   "source": [
    "# creating a plot with multiple lines\n",
    "plt.figure(figsize = (15,10))\n",
    "plt.plot(data[\"Austria\"][\"date\"], data[\"Austria\"][\"hosp_patients\"], label='non icu patients')\n",
    "plt.plot(data[\"Austria\"][\"date\"], data[\"Austria\"][\"icu_patients\"], label='icu patients')\n",
    "\n",
    "plt.xlabel('Time')\n",
    "plt.ylabel(\"#Hospital patients\")\n",
    "plt.title('Hospital patients in Austria')\n",
    "plt.legend()\n",
    "\n",
    "plt.show()"
   ]
  },
  {
   "cell_type": "markdown",
   "metadata": {
    "cell_id": "00010-9c90c48d-e5cb-4f3f-9eda-b4fa15d21538",
    "deepnote_cell_type": "markdown",
    "tags": []
   },
   "source": [
    "### Subplots\n",
    "If we want to display two lines side-by-side rather than in the same set of x- and y-axes, subplots are a good way to do that.  \n",
    "They can be designed in many different ways. A layout has rows and columns of subplots.\n",
    "This is given as follows: `plt.subplot(num_rows, num_cols, index)`\n",
    "So every time we call `plt.subplot` we have to define the number of rows and the number of columns for the plot. The last parameter is the index which defines the location of the subplot on the canvas. You might recognize this syntax from MATLAB. In the \"fancy plotting\" section we will also look at the `plt.subplots` package which is way more pythonic, so bear with us! \n",
    "\n",
    "The following figure has two subplots split into 1 row and 2 columns.  "
   ]
  },
  {
   "cell_type": "code",
   "execution_count": 30,
   "metadata": {
    "cell_id": "00011-a64a12e4-2b00-4a81-971b-3ba0f803e4ef",
    "deepnote_cell_type": "code",
    "deepnote_output_heights": [
     387.59375
    ],
    "deepnote_to_be_reexecuted": false,
    "execution_millis": 532,
    "execution_start": 1637661088151,
    "source_hash": "a00dbf29",
    "tags": []
   },
   "outputs": [
    {
     "data": {
      "image/png": "[encoded data removed]",
      "text/plain": [
       "<Figure size 1700x800 with 2 Axes>"
      ]
     },
     "metadata": {},
     "output_type": "display_data"
    }
   ],
   "source": [
    "plt.figure(figsize = (17,8))\n",
    "\n",
    "plt.subplot(1,2,1)\n",
    "plt.plot(data[\"Austria\"][\"date\"], data[\"Austria\"][\"hosp_patients\"], color='DarkCyan')\n",
    "plt.xlabel('Time')\n",
    "plt.ylabel(\"#Hospital patients\")\n",
    "plt.ylim([0, 1700]) # if you use subplots, defining a y-limit makes them more comparable\n",
    "plt.title('non icu patients in Austria')\n",
    "\n",
    "plt.subplot(1,2,2)\n",
    "plt.plot(data[\"Austria\"][\"date\"], data[\"Austria\"][\"icu_patients\"], color='#DC143C')\n",
    "plt.xlabel('Time')\n",
    "plt.ylabel(\"#ICU patients\")\n",
    "plt.ylim([0, 1700])\n",
    "plt.title('icu patients in Austria')\n",
    "\n",
    "plt.show()"
   ]
  },
  {
   "cell_type": "markdown",
   "metadata": {
    "cell_id": "00010-75de2652-187b-4b85-b17d-ebbb22031108",
    "deepnote_cell_type": "markdown",
    "tags": []
   },
   "source": [
    "### Linedesigns\n",
    "\n",
    "To modify lines, matplotlib offers many different Linestyles.   \n",
    "The `plot()` function can accept parameters to set the color(`color`), linestyle(`linestyle`), width(`linewidth`) and marker(`marker`). \n",
    "\n",
    "##### `color`\n",
    "Color  values can be [HTML color names](https://www.w3schools.com/colors/colors_names.asp) or [HEX codes](https://www.w3schools.com/colors/colors_picker.asp) . Also, matplotlib has it's own list of named colors, which can be seen below. "
   ]
  },
  {
   "cell_type": "markdown",
   "metadata": {
    "cell_id": "00015-ce664f09-f788-496e-8e99-9e56ef3f937f",
    "deepnote_cell_type": "markdown",
    "tags": []
   },
   "source": [
    "![Matplotlib Base Colors](https://matplotlib.org/stable/_images/sphx_glr_named_colors_001.png)\n",
    "![Matplotlib CSS Colors](https://matplotlib.org/stable/_images/sphx_glr_named_colors_003.png)"
   ]
  },
  {
   "cell_type": "markdown",
   "metadata": {
    "cell_id": "00016-c142a800-3a1b-481b-b2f8-17a7c29ff74d",
    "deepnote_cell_type": "markdown",
    "tags": []
   },
   "source": [
    "##### `linewidth`\n",
    "\n",
    "Linewidth sets the line width in points. By default, the `linewidth` is 1. The ´linewidth´ can be any float number smaller and bigger than 1, e.g. 7 or 0.25.\n",
    "\n",
    "\n",
    "##### `linestyle`\n",
    "Line styles can be dashed(`'--'`) or dotted(`':'`). You can also set `linewidth` to `\"solid\"`, `\"dashed\"` or `\"dotted\"`. Those linestyles are named, possible values are strings. \n",
    "\n",
    "\n",
    "|linestyle  | description |\n",
    "| ------ | ------ |\n",
    "| `'-'` or `'solid'` | solid line |\n",
    "|`'--'` or  `'dashed'`| dashed line |\n",
    "|`'-.'` or  `'dashdot'` |  dash-dotted line |\n",
    "|`':'` or `'dotted'` | dotted line |\n",
    "|`'none'`, `'None'`, `' '`, or `''` |  draw nothing |\n"
   ]
  },
  {
   "cell_type": "markdown",
   "metadata": {
    "cell_id": "00017-d192033c-a4e9-4047-83b2-70c537434cc3",
    "deepnote_cell_type": "markdown",
    "tags": []
   },
   "source": [
    "Also, a [dash tuple](https://matplotlib.org/stable/gallery/lines_bars_and_markers/linestyles.html) of the following form can be provided: (offset, onoffseq)\n",
    "where `onoffseq` is an even length tuple of on and off in points. \n",
    "\n",
    "##### `marker`\n",
    "Markers can be circles(`'o'`), squares(`'s'`), stars(`'*'`) [and maaaaany mooore .. ](https://matplotlib.org/stable/api/markers_api.html). ⭐️"
   ]
  },
  {
   "cell_type": "markdown",
   "metadata": {
    "cell_id": "00014-762c7597-419e-4ff2-80a5-1f599a249b3e",
    "deepnote_cell_type": "markdown",
    "tags": []
   },
   "source": [
    "### Plotting with pandas\n",
    "\n",
    "Pandas has built-in plotting functions that makes use of matplotlib! 🥳🐼"
   ]
  },
  {
   "cell_type": "code",
   "execution_count": 31,
   "metadata": {
    "cell_id": "00015-bd80c3f5-6202-44c1-b054-64830d81227b",
    "deepnote_cell_type": "code",
    "deepnote_to_be_reexecuted": false,
    "execution_millis": 5,
    "execution_start": 1637661090246,
    "source_hash": "9b82ee11",
    "tags": []
   },
   "outputs": [],
   "source": [
    "import pandas as pd"
   ]
  },
  {
   "cell_type": "markdown",
   "metadata": {
    "cell_id": "00021-25fec517-85b5-4530-bcbe-1ddf4a5dd31d",
    "deepnote_cell_type": "markdown",
    "tags": []
   },
   "source": [
    "This time, we will read the data directly from the web using pandas."
   ]
  },
  {
   "cell_type": "code",
   "execution_count": 32,
   "metadata": {
    "cell_id": "00015-1fba37e7-e554-451a-9252-171fc1a43a39",
    "deepnote_cell_type": "code",
    "deepnote_to_be_reexecuted": false,
    "execution_millis": 877,
    "execution_start": 1637661090302,
    "source_hash": "ede968e",
    "tags": []
   },
   "outputs": [
    {
     "name": "stdout",
     "output_type": "stream",
     "text": [
      "<class 'pandas.core.frame.DataFrame'>\n",
      "RangeIndex: 429435 entries, 0 to 429434\n",
      "Data columns (total 67 columns):\n",
      " #   Column                                      Non-Null Count   Dtype  \n",
      "---  ------                                      --------------   -----  \n",
      " 0   iso_code                                    429435 non-null  object \n",
      " 1   continent                                   402910 non-null  object \n",
      " 2   location                                    429435 non-null  object \n",
      " 3   date                                        429435 non-null  object \n",
      " 4   total_cases                                 411804 non-null  float64\n",
      " 5   new_cases                                   410159 non-null  float64\n",
      " 6   new_cases_smoothed                          408929 non-null  float64\n",
      " 7   total_deaths                                411804 non-null  float64\n",
      " 8   new_deaths                                  410608 non-null  float64\n",
      " 9   new_deaths_smoothed                         409378 non-null  float64\n",
      " 10  total_cases_per_million                     411804 non-null  float64\n",
      " 11  new_cases_per_million                       410159 non-null  float64\n",
      " 12  new_cases_smoothed_per_million              408929 non-null  float64\n",
      " 13  total_deaths_per_million                    411804 non-null  float64\n",
      " 14  new_deaths_per_million                      410608 non-null  float64\n",
      " 15  new_deaths_smoothed_per_million             409378 non-null  float64\n",
      " 16  reproduction_rate                           184817 non-null  float64\n",
      " 17  icu_patients                                39116 non-null   float64\n",
      " 18  icu_patients_per_million                    39116 non-null   float64\n",
      " 19  hosp_patients                               40656 non-null   float64\n",
      " 20  hosp_patients_per_million                   40656 non-null   float64\n",
      " 21  weekly_icu_admissions                       10993 non-null   float64\n",
      " 22  weekly_icu_admissions_per_million           10993 non-null   float64\n",
      " 23  weekly_hosp_admissions                      24497 non-null   float64\n",
      " 24  weekly_hosp_admissions_per_million          24497 non-null   float64\n",
      " 25  total_tests                                 79387 non-null   float64\n",
      " 26  new_tests                                   75403 non-null   float64\n",
      " 27  total_tests_per_thousand                    79387 non-null   float64\n",
      " 28  new_tests_per_thousand                      75403 non-null   float64\n",
      " 29  new_tests_smoothed                          103965 non-null  float64\n",
      " 30  new_tests_smoothed_per_thousand             103965 non-null  float64\n",
      " 31  positive_rate                               95927 non-null   float64\n",
      " 32  tests_per_case                              94348 non-null   float64\n",
      " 33  tests_units                                 106788 non-null  object \n",
      " 34  total_vaccinations                          85417 non-null   float64\n",
      " 35  people_vaccinated                           81132 non-null   float64\n",
      " 36  people_fully_vaccinated                     78061 non-null   float64\n",
      " 37  total_boosters                              53600 non-null   float64\n",
      " 38  new_vaccinations                            70971 non-null   float64\n",
      " 39  new_vaccinations_smoothed                   195029 non-null  float64\n",
      " 40  total_vaccinations_per_hundred              85417 non-null   float64\n",
      " 41  people_vaccinated_per_hundred               81132 non-null   float64\n",
      " 42  people_fully_vaccinated_per_hundred         78061 non-null   float64\n",
      " 43  total_boosters_per_hundred                  53600 non-null   float64\n",
      " 44  new_vaccinations_smoothed_per_million       195029 non-null  float64\n",
      " 45  new_people_vaccinated_smoothed              192177 non-null  float64\n",
      " 46  new_people_vaccinated_smoothed_per_hundred  192177 non-null  float64\n",
      " 47  stringency_index                            196190 non-null  float64\n",
      " 48  population_density                          360492 non-null  float64\n",
      " 49  median_age                                  334663 non-null  float64\n",
      " 50  aged_65_older                               323270 non-null  float64\n",
      " 51  aged_70_older                               331315 non-null  float64\n",
      " 52  gdp_per_capita                              328292 non-null  float64\n",
      " 53  extreme_poverty                             211996 non-null  float64\n",
      " 54  cardiovasc_death_rate                       328865 non-null  float64\n",
      " 55  diabetes_prevalence                         345911 non-null  float64\n",
      " 56  female_smokers                              247165 non-null  float64\n",
      " 57  male_smokers                                243817 non-null  float64\n",
      " 58  handwashing_facilities                      161741 non-null  float64\n",
      " 59  hospital_beds_per_thousand                  290689 non-null  float64\n",
      " 60  life_expectancy                             390299 non-null  float64\n",
      " 61  human_development_index                     319127 non-null  float64\n",
      " 62  population                                  429435 non-null  int64  \n",
      " 63  excess_mortality_cumulative_absolute        13411 non-null   float64\n",
      " 64  excess_mortality_cumulative                 13411 non-null   float64\n",
      " 65  excess_mortality                            13411 non-null   float64\n",
      " 66  excess_mortality_cumulative_per_million     13411 non-null   float64\n",
      "dtypes: float64(61), int64(1), object(5)\n",
      "memory usage: 219.5+ MB\n"
     ]
    }
   ],
   "source": [
    "df = pd.read_csv(\"https://raw.githubusercontent.com/owid/covid-19-data/master/public/data/owid-covid-data.csv\")\n",
    "df.info()"
   ]
  },
  {
   "cell_type": "markdown",
   "metadata": {
    "cell_id": "00017-ddd84349-f19a-4cb9-90a8-3ecb083f9cfd",
    "deepnote_cell_type": "markdown",
    "tags": []
   },
   "source": [
    "Now we will plot data directly from our DataFrame `df`:"
   ]
  },
  {
   "cell_type": "code",
   "execution_count": 33,
   "metadata": {
    "cell_id": "00018-435e99ab-3b6d-427c-b076-b69d56d18e9c",
    "deepnote_cell_type": "code",
    "deepnote_output_heights": [
     21.109375,
     539.09375
    ],
    "deepnote_to_be_reexecuted": false,
    "execution_millis": 418,
    "execution_start": 1637661091199,
    "source_hash": "eb9f0b94",
    "tags": []
   },
   "outputs": [
    {
     "data": {
      "text/plain": [
       "<AxesSubplot:title={'center':'Hospital Cases in Austria over time'}, xlabel='date'>"
      ]
     },
     "execution_count": 33,
     "metadata": {},
     "output_type": "execute_result"
    },
    {
     "data": {
      "image/png": "[encoded data removed]",
      "text/plain": [
       "<Figure size 1500x1000 with 1 Axes>"
      ]
     },
     "metadata": {},
     "output_type": "display_data"
    }
   ],
   "source": [
    "data_AT = df.loc[df.location == 'Austria']\n",
    "data_AT.plot('date', ['hosp_patients', 'icu_patients'], color=['DarkCyan', '#DC143C'],\n",
    "             figsize=(15, 10), grid=True, title=\"Hospital Cases in Austria over time\")"
   ]
  },
  {
   "cell_type": "code",
   "execution_count": 34,
   "metadata": {
    "cell_id": "00019-f090a1b1-c9de-48ae-a9cd-df1604f37328",
    "deepnote_cell_type": "code",
    "deepnote_output_heights": [
     564.84375
    ],
    "deepnote_to_be_reexecuted": false,
    "execution_millis": 773,
    "execution_start": 1637661091682,
    "source_hash": "a7d4a1bd",
    "tags": []
   },
   "outputs": [
    {
     "data": {
      "image/png": "[encoded data removed]",
      "text/plain": [
       "<Figure size 1500x1000 with 1 Axes>"
      ]
     },
     "metadata": {},
     "output_type": "display_data"
    }
   ],
   "source": [
    "import matplotlib.dates as mdates # we use this to space our date-xticks\n",
    "\n",
    "plt.figure(figsize = (15,10))\n",
    "\n",
    "time_axis = df.loc[df.location == \"Austria\", \"date\"]\n",
    "hosp_patients = df.loc[df.location == \"Austria\", \"hosp_patients\"]\n",
    "icu_patients = df.loc[df.location == \"Austria\", \"icu_patients\"]\n",
    "\n",
    "plt.plot(time_axis, hosp_patients, color = 'DarkCyan', linewidth = 2)\n",
    "plt.plot(time_axis, icu_patients, color= '#DC143C')\n",
    "\n",
    "plt.gca().xaxis.set_major_locator(mdates.MonthLocator(interval=1))\n",
    "plt.xlabel('Time')\n",
    "plt.xticks(rotation=45)\n",
    "\n",
    "plt.ylabel(\"#Hospital patients\")\n",
    "plt.title('Hospital patients in Austria')\n",
    "plt.legend(['non icu patients', 'icu patients'])\n",
    "plt.grid()\n",
    "plt.show()"
   ]
  },
  {
   "cell_type": "markdown",
   "metadata": {
    "cell_id": "00012-91901421-5c99-4f9f-b846-bac52c6c6702",
    "deepnote_cell_type": "markdown",
    "tags": []
   },
   "source": [
    "### Some fancy plotting \n",
    "\n",
    "If you want to try many other features of matplotlib and you want to get inspired, just click here:\n",
    "\n",
    "https://matplotlib.org/gallery/index.html \n",
    "\n",
    "In this example we want to look at the histogram of two-dimensional data that follows a gaussian distribution. To get the gaussian data we will import the package `numpy`."
   ]
  },
  {
   "cell_type": "code",
   "execution_count": 35,
   "metadata": {
    "cell_id": "00023-0363be1e-ab6c-46c7-a083-b7e88d4aa268",
    "deepnote_cell_type": "code",
    "deepnote_to_be_reexecuted": false,
    "execution_millis": 2,
    "execution_start": 1637661092462,
    "source_hash": "d19146ce",
    "tags": []
   },
   "outputs": [
    {
     "name": "stdout",
     "output_type": "stream",
     "text": [
      "<class 'numpy.ndarray'>\n"
     ]
    }
   ],
   "source": [
    "import numpy as np\n",
    "\n",
    "np.random.seed(42)\n",
    "\n",
    "data_2 = np.random.randn(2, 1000)\n",
    "print(type(data_2))\n",
    "\n",
    "x_4 = data_2[0]\n",
    "y_4 = data_2[1]"
   ]
  },
  {
   "cell_type": "markdown",
   "metadata": {
    "cell_id": "00028-ffbc3066-ff61-4c17-9be0-e6619ea4061f",
    "deepnote_cell_type": "markdown",
    "tags": []
   },
   "source": [
    "Note that instead of the subplot-example above where we used the `plt.subplot` function, we now use `plt.subplots`. \n",
    "We pass the number of rows and the number of columns as positional arguments to the function and can also define the `figsize`. It then returns a figure object and a tuple containing \"axis-objects\" that we can access like in a matrix. Note that the syntax for axis-objects (for example for setting the x-label, title, ...) is a little different to the normal `plt` environment."
   ]
  },
  {
   "cell_type": "code",
   "execution_count": 36,
   "metadata": {
    "cell_id": "00023-0b359cbc-eed5-4c6b-b2dd-02093ad4e8e0",
    "deepnote_cell_type": "code",
    "deepnote_output_heights": [
     605.984375
    ],
    "deepnote_to_be_reexecuted": false,
    "execution_millis": 698,
    "execution_start": 1637661092594,
    "source_hash": "80afef98",
    "tags": []
   },
   "outputs": [
    {
     "data": {
      "image/png": "[encoded data removed]",
      "text/plain": [
       "<Figure size 1000x1000 with 4 Axes>"
      ]
     },
     "metadata": {},
     "output_type": "display_data"
    }
   ],
   "source": [
    "fig, axes = plt.subplots(2, 2, figsize=(10, 10))\n",
    "\n",
    "# 2D gaussian distributed data\n",
    "axes[1, 0].scatter(x_4, y_4, color=\"orange\", s=20) # scatter plot\n",
    "axes[1, 0].set_xlabel(\"x\") \n",
    "axes[1, 0].set_ylabel(\"y\")\n",
    "axes[1, 0].set_title(\"Gaussian distributed data\")\n",
    "axes[1, 0].set_axisbelow(True) # set grid behind the data points\n",
    "axes[1, 0].grid()\n",
    "\n",
    "axes[0, 0].hist(x_4, bins=15, edgecolor=\"black\", color='red')\n",
    "axes[0, 0].set_ylabel(\"Frequency\")\n",
    "axes[0, 0].set_title(\"Histogram for x-values\")\n",
    "axes[0, 0].set_axisbelow(True) # set grid behind the data points\n",
    "axes[0, 0].grid()\n",
    "\n",
    "axes[0, 1].axis('off') # this deletes the second subplot\n",
    "\n",
    "axes[1, 1].hist(y_4, bins=15, edgecolor=\"black\", color='violet', orientation='horizontal')\n",
    "axes[1, 1].set_xlabel(\"Frequency\")\n",
    "axes[1, 1].set_title(\"Histogram for y-values\")\n",
    "axes[1, 1].set_axisbelow(True) # set grid behind the data points\n",
    "axes[1, 1].grid()\n",
    "\n",
    "plt.show()"
   ]
  },
  {
   "cell_type": "markdown",
   "metadata": {},
   "source": [
    "# NetworkX\n",
    "NetworkX is a Python package for the creation, manipulation, and study of the structure, dynamics, and functions of complex networks. [Here](https://networkx.org/documentation/stable/tutorial.html) is a written tutorial of the basics of the library.  \n",
    "[This video tutorial (8min)](https://www.youtube.com/watch?v=flwcAf1_1RU) covers the basic usage of networkx.\n"
   ]
  },
  {
   "cell_type": "markdown",
   "metadata": {
    "cell_id": "00002-04f435b6-69a7-4ed5-8c84-b4aea850061b",
    "deepnote_cell_type": "markdown",
    "tags": []
   },
   "source": [
    "### Installation\n",
    "\n",
    "NetworkX is an external package which is not included in the python standard library so you have to install it using pip.\n",
    "\n",
    "If you have a windows machine, use\n",
    "```\n",
    "pip install networkx\n",
    "```\n",
    "\n",
    "\n",
    "If your computer runs on macOS or Linux, type\n",
    "```\n",
    "pip3 install networkx\n",
    "```\n",
    "\n",
    "Or you can execute this cell:"
   ]
  },
  {
   "cell_type": "code",
   "execution_count": 37,
   "metadata": {},
   "outputs": [
    {
     "name": "stdout",
     "output_type": "stream",
     "text": [
      "Requirement already satisfied: networkx in c:\\users\\pavle\\anaconda3\\lib\\site-packages (2.8.4)\n"
     ]
    },
    {
     "name": "stderr",
     "output_type": "stream",
     "text": [
      "\n",
      "[notice] A new release of pip is available: 23.1.2 -> 24.3.1\n",
      "[notice] To update, run: python.exe -m pip install --upgrade pip\n"
     ]
    }
   ],
   "source": [
    "! pip install networkx"
   ]
  },
  {
   "cell_type": "markdown",
   "metadata": {},
   "source": [
    "Now we need to import the package like this:"
   ]
  },
  {
   "cell_type": "code",
   "execution_count": 38,
   "metadata": {},
   "outputs": [],
   "source": [
    "import networkx as nx"
   ]
  },
  {
   "cell_type": "markdown",
   "metadata": {},
   "source": [
    "Now lets start with networkx, we first create an emty graph. By definition, a Graph is a collection of nodes (vertices) along with identified pairs of nodes (called edges, links, etc). In NetworkX, nodes can be any hashable object e.g., a text string, an image, an XML object, another Graph, a customized node object, etc."
   ]
  },
  {
   "cell_type": "code",
   "execution_count": 39,
   "metadata": {},
   "outputs": [],
   "source": [
    "G = nx.Graph()"
   ]
  },
  {
   "cell_type": "markdown",
   "metadata": {},
   "source": [
    "The graph G can be grown in several ways. You can add one node at a time:"
   ]
  },
  {
   "cell_type": "code",
   "execution_count": 40,
   "metadata": {},
   "outputs": [],
   "source": [
    "G.add_node(1)"
   ]
  },
  {
   "cell_type": "markdown",
   "metadata": {},
   "source": [
    "or add nodes from any iterable container, such as a list"
   ]
  },
  {
   "cell_type": "code",
   "execution_count": 41,
   "metadata": {},
   "outputs": [],
   "source": [
    "G.add_nodes_from([2, 3])"
   ]
  },
  {
   "cell_type": "markdown",
   "metadata": {},
   "source": [
    "You can also add nodes along with node attributes if your container yields 2-tuples of the form (node, node_attribute_dict):"
   ]
  },
  {
   "cell_type": "code",
   "execution_count": 42,
   "metadata": {},
   "outputs": [],
   "source": [
    "G.add_nodes_from([\n",
    "    (4, {\"color\": \"red\"}),\n",
    "    (5, {\"color\": \"green\"}),\n",
    "])"
   ]
  },
  {
   "cell_type": "markdown",
   "metadata": {},
   "source": [
    "You can also add node attributes by using `add_node`, `add_nodes_from` or `G.nodes`"
   ]
  },
  {
   "cell_type": "code",
   "execution_count": 43,
   "metadata": {},
   "outputs": [
    {
     "data": {
      "text/plain": [
       "NodeDataView({1: {'time': '5pm', 'room': 714}, 2: {}, 3: {'time': '2pm'}, 4: {'color': 'red'}, 5: {'color': 'green'}})"
      ]
     },
     "execution_count": 43,
     "metadata": {},
     "output_type": "execute_result"
    }
   ],
   "source": [
    "G.add_node(1, time='5pm')\n",
    "G.add_nodes_from([3], time='2pm')\n",
    "G.nodes[1]\n",
    "{'time': '5pm'}\n",
    "G.nodes[1]['room'] = 714\n",
    "G.nodes.data()"
   ]
  },
  {
   "cell_type": "markdown",
   "metadata": {},
   "source": [
    "Note that adding a node to G.nodes does not add it to the graph, use `G.add_node()` to add new nodes."
   ]
  },
  {
   "cell_type": "markdown",
   "metadata": {},
   "source": [
    "The Graph can also be grown by adding edges. You can one edge at a time:"
   ]
  },
  {
   "cell_type": "code",
   "execution_count": 44,
   "metadata": {},
   "outputs": [],
   "source": [
    "G.add_edge(1, 2)\n",
    "e = (2, 3)\n",
    "G.add_edge(*e)  # unpack edge tuple*"
   ]
  },
  {
   "cell_type": "markdown",
   "metadata": {},
   "source": [
    "or you can add many adges by a list of edges. Note that the adges are always defined by a tuple of the nodes which should be connected by the edge:\n"
   ]
  },
  {
   "cell_type": "code",
   "execution_count": 45,
   "metadata": {},
   "outputs": [],
   "source": [
    "G.add_edges_from([(1, 2), (1, 3)])"
   ]
  },
  {
   "cell_type": "markdown",
   "metadata": {},
   "source": [
    "You can also add edge attributes with `add_edge` and `add_edges_from` as follows:"
   ]
  },
  {
   "cell_type": "code",
   "execution_count": 46,
   "metadata": {},
   "outputs": [],
   "source": [
    "G.add_edge(1, 2, weight=4.7 )\n",
    "G.add_edges_from([(3, 4), (4, 5)], color='red')\n",
    "G.add_edges_from([(1, 2, {'color': 'blue'}), (2, 3, {'weight': 8})])"
   ]
  },
  {
   "cell_type": "markdown",
   "metadata": {},
   "source": [
    "You can look at the number of edges and number of nodes as following:"
   ]
  },
  {
   "cell_type": "code",
   "execution_count": 47,
   "metadata": {},
   "outputs": [
    {
     "name": "stdout",
     "output_type": "stream",
     "text": [
      "5\n",
      "5\n"
     ]
    }
   ],
   "source": [
    "print(G.number_of_edges())\n",
    "print(G.number_of_nodes())"
   ]
  },
  {
   "cell_type": "markdown",
   "metadata": {},
   "source": [
    "Now lets do some ploting and visualizing a graph. First we create a new graph from a predefined dataset ([petersen graph](https://de.wikipedia.org/wiki/Petersen-Graph#:~:text=Der%20Petersen%2DGraph%20(benannt%20nach,3%2C3%2C3).)). For this we use the networkx drawing module. There are different ways to draw a graph and networkx already defines a lot of them. See [here](https://networkx.org/documentation/stable/reference/drawing.html) for more information."
   ]
  },
  {
   "cell_type": "code",
   "execution_count": 48,
   "metadata": {},
   "outputs": [
    {
     "data": {
      "image/png": "[encoded data removed]",
      "text/plain": [
       "<Figure size 640x480 with 2 Axes>"
      ]
     },
     "metadata": {},
     "output_type": "display_data"
    }
   ],
   "source": [
    "import matplotlib.pyplot as plt # we also need matplotlib for plotting\n",
    "G = nx.petersen_graph()\n",
    "subax1 = plt.subplot(121)\n",
    "nx.draw(G, with_labels=True, font_weight='bold')\n",
    "subax2 = plt.subplot(122)\n",
    "nx.draw_shell(G, nlist=[range(5, 10), range(5)], with_labels=True, font_weight='bold')"
   ]
  },
  {
   "cell_type": "markdown",
   "metadata": {},
   "source": [
    "For more information there is a great Tutorial [here](https://networkx.org/nx-guides/content/exploratory_notebooks/facebook_notebook.html) which goes in more detail with analyzing the graph."
   ]
  },
  {
   "cell_type": "markdown",
   "metadata": {},
   "source": [
    "# twarc\n",
    "twarc is a Python package for using the twitter API. [Here](https://twarc-project.readthedocs.io/en/latest/twarc2_en_us/) is more information about the library.\n",
    "\n",
    "For using twarc you need a twitter account. [Here](https://scholarslab.github.io/learn-twarc/02-twitter-setup.html) is a Tutorial how to setup your twitter account for using twarc with it.\n"
   ]
  },
  {
   "cell_type": "markdown",
   "metadata": {
    "cell_id": "00002-04f435b6-69a7-4ed5-8c84-b4aea850061b",
    "deepnote_cell_type": "markdown",
    "tags": []
   },
   "source": [
    "### Installation\n",
    "\n",
    "twarc is an external package which is not included in the python standard library so you have to install it using pip.\n",
    "\n",
    "If you have a windows machine, use\n",
    "```\n",
    "pip install twarc\n",
    "```\n",
    "\n",
    "\n",
    "If your computer runs on macOS or Linux, type\n",
    "```\n",
    "pip3 install twarc\n",
    "```\n",
    "\n",
    "Or you can execute this cell:"
   ]
  },
  {
   "cell_type": "code",
   "execution_count": 49,
   "metadata": {},
   "outputs": [
    {
     "name": "stdout",
     "output_type": "stream",
     "text": [
      "Requirement already satisfied: twarc in c:\\users\\pavle\\anaconda3\\lib\\site-packages (2.14.0)\n",
      "Requirement already satisfied: click<9,>=7 in c:\\users\\pavle\\anaconda3\\lib\\site-packages (from twarc) (8.0.4)\n",
      "Requirement already satisfied: click-config-file>=0.6 in c:\\users\\pavle\\anaconda3\\lib\\site-packages (from twarc) (0.6.0)\n",
      "Requirement already satisfied: click-plugins>=1 in c:\\users\\pavle\\anaconda3\\lib\\site-packages (from twarc) (1.1.1)\n",
      "Requirement already satisfied: humanize>=3.9 in c:\\users\\pavle\\anaconda3\\lib\\site-packages (from twarc) (4.9.0)\n",
      "Requirement already satisfied: python-dateutil>=2.8 in c:\\users\\pavle\\anaconda3\\lib\\site-packages (from twarc) (2.8.2)\n",
      "Requirement already satisfied: requests-oauthlib>=1.3 in c:\\users\\pavle\\anaconda3\\lib\\site-packages (from twarc) (2.0.0)\n",
      "Requirement already satisfied: tqdm>=4.62 in c:\\users\\pavle\\anaconda3\\lib\\site-packages (from twarc) (4.64.1)\n",
      "Requirement already satisfied: colorama in c:\\users\\pavle\\anaconda3\\lib\\site-packages (from click<9,>=7->twarc) (0.4.5)\n",
      "Requirement already satisfied: configobj>=5.0.6 in c:\\users\\pavle\\anaconda3\\lib\\site-packages (from click-config-file>=0.6->twarc) (5.0.9)\n",
      "Requirement already satisfied: six>=1.5 in c:\\users\\pavle\\anaconda3\\lib\\site-packages (from python-dateutil>=2.8->twarc) (1.16.0)\n",
      "Requirement already satisfied: oauthlib>=3.0.0 in c:\\users\\pavle\\anaconda3\\lib\\site-packages (from requests-oauthlib>=1.3->twarc) (3.2.2)\n",
      "Requirement already satisfied: requests>=2.0.0 in c:\\users\\pavle\\anaconda3\\lib\\site-packages (from requests-oauthlib>=1.3->twarc) (2.28.1)\n",
      "Requirement already satisfied: charset-normalizer<3,>=2 in c:\\users\\pavle\\anaconda3\\lib\\site-packages (from requests>=2.0.0->requests-oauthlib>=1.3->twarc) (2.0.4)\n",
      "Requirement already satisfied: idna<4,>=2.5 in c:\\users\\pavle\\anaconda3\\lib\\site-packages (from requests>=2.0.0->requests-oauthlib>=1.3->twarc) (3.3)\n",
      "Requirement already satisfied: urllib3<1.27,>=1.21.1 in c:\\users\\pavle\\anaconda3\\lib\\site-packages (from requests>=2.0.0->requests-oauthlib>=1.3->twarc) (1.26.11)\n",
      "Requirement already satisfied: certifi>=2017.4.17 in c:\\users\\pavle\\anaconda3\\lib\\site-packages (from requests>=2.0.0->requests-oauthlib>=1.3->twarc) (2022.9.14)\n"
     ]
    },
    {
     "name": "stderr",
     "output_type": "stream",
     "text": [
      "\n",
      "[notice] A new release of pip is available: 23.1.2 -> 24.3.1\n",
      "[notice] To update, run: python.exe -m pip install --upgrade pip\n",
      "ERROR: Invalid requirement: '#'\n",
      "\n",
      "[notice] A new release of pip is available: 23.1.2 -> 24.3.1\n",
      "[notice] To update, run: python.exe -m pip install --upgrade pip\n"
     ]
    }
   ],
   "source": [
    "! pip install twarc\n",
    "! pip install tqdm # needed later for some nice progress bars"
   ]
  },
  {
   "cell_type": "markdown",
   "metadata": {},
   "source": [
    "Now we need to import the package like this:"
   ]
  },
  {
   "cell_type": "code",
   "execution_count": 50,
   "metadata": {},
   "outputs": [],
   "source": [
    "from twarc import Twarc2"
   ]
  },
  {
   "cell_type": "markdown",
   "metadata": {},
   "source": [
    "First of all you need to create a `Twarc2` instance with your credentials. See [here](https://scholarslab.github.io/learn-twarc/02-twitter-setup.html#accessing-keys-and-tokens) how to get your bearer token (You can generate one in the Key and Tokens section of your app). After that you will be able to access the Twitter API with `twarc`."
   ]
  },
  {
   "cell_type": "code",
   "execution_count": 51,
   "metadata": {},
   "outputs": [],
   "source": [
    "bearer_token = \"XXX\" # replace the XXX with your bearer token\n",
    "twarc_client = Twarc2(bearer_token=bearer_token)"
   ]
  },
  {
   "cell_type": "markdown",
   "metadata": {},
   "source": [
    " Now lets use the twitter API. For example, we can get basic information on the Twitter account of the New York Times:"
   ]
  },
  {
   "cell_type": "code",
   "execution_count": 52,
   "metadata": {},
   "outputs": [],
   "source": [
    "#print(next(twarc_client.user_lookup([\"nytimes\"], usernames=True)))"
   ]
  },
  {
   "cell_type": "markdown",
   "metadata": {},
   "source": [
    "This returns a `dictionary` with two keys. One is the `__twarc` key where the value is some information about the `twarc` call. The second and more important key is the `data` key. The value here is a list of dictionaries, where each dictionary contains the data for one user. This contains for example, the username, the id, location and other information, just look through the dictionary."
   ]
  },
  {
   "cell_type": "markdown",
   "metadata": {},
   "source": [
    "You can also get a list of users by a twitter user list id. For example when using following users id (34179516) we can use the method [`list_members`](https://twarc-project.readthedocs.io/en/latest/api/client2/#twarc.client2.Twarc2.list_members) of `twarc` to get all user information in the list.  \n",
    "Pandas method [`json_normalize`](https://pandas.pydata.org/docs/reference/api/pandas.json_normalize.html) will help you to save the json results from twarc in a flat table, since the data may not be flat, it is returned as a json from the twitter API."
   ]
  },
  {
   "cell_type": "code",
   "execution_count": 53,
   "metadata": {},
   "outputs": [],
   "source": [
    "# users = []\n",
    "# for user in twarc_client.list_members(list_id = 34179516):\n",
    "#     users.append(user)\n",
    "# users = pd.json_normalize(users, record_path=['data'])\n",
    "# users"
   ]
  },
  {
   "cell_type": "markdown",
   "metadata": {},
   "source": [
    "Next we want to get the timeline of the users, more specific we want to get the last 100 tweets of each user and the information about the tweets. For this we can use `twarc`'s [`timeline`](https://twarc-project.readthedocs.io/en/latest/api/client2/#twarc.client2.Twarc2.timeline) method. This returns a generator where each element contains all the tweets on one page. The twitter API contains a maximum of 100 tweets per page. If you want to extract the last >100 tweets you need to extract the tweets from the first and following pages (or the first and following elements in the timeline generator).  \n",
    "For this you iterate over all users and then call the `timeline` method (make sure you set `max_results` to 100). Now you can use pythons [`next`](https://docs.python.org/3/library/functions.html#next) function to get the next element in the iterator (The first 100 tweets). To get the second 100 tweets (100 - 200 tweets) you just have to call `next` again and so on.   "
   ]
  },
  {
   "cell_type": "code",
   "execution_count": 54,
   "metadata": {},
   "outputs": [],
   "source": [
    "# import tqdm # we use tqdm for some nice progress bars\n",
    "# timeline = []\n",
    "# # iterate with tqdm to show progress\n",
    "# for userID in tqdm.tqdm(users.id.values[:20]): # Only geting data from the first 10 users so it does not take too long\n",
    "#     data = twarc_client.timeline(user=userID, max_results=100)\n",
    "#     timeline.append(next(data))\n",
    "#     # if you want to get more tweets, you can use the next function call here\n",
    "# timeline"
   ]
  },
  {
   "cell_type": "markdown",
   "metadata": {},
   "source": [
    "Notice you you may run into the [rate limit](https://developer.twitter.com/en/docs/twitter-api/rate-limits) of the Twitter API, you might have to wait up to 15 min to retrieve more tweets. Twarc will wait and resume the request automatically and print a warning. So normally you would save the data to a csv file at the end, for example with pandas."
   ]
  },
  {
   "cell_type": "markdown",
   "id": "ea4c634d",
   "metadata": {},
   "source": [
    "## Best practices"
   ]
  },
  {
   "cell_type": "markdown",
   "metadata": {},
   "source": [
    "For third party modules don't exist really a best practice since there are a lot of different convensions. Most common convesions are with importing the modules, there is in most cases a common abbrevation for the module for example pandas gets imported as `pd`, while matplotlib gets imported as `plt`. We reccomend this but it is not needed to do.   \n",
    "\n",
    "Therefore we do not include any best practices for these specific libraries but keep in mind the best practices from the basic python functionality and try to keep and use it here too (e.g. choose meaningfull variable names, watch indentation and so on)"
   ]
  }
 ],
 "metadata": {
  "kernelspec": {
   "display_name": "Python 3 (ipykernel)",
   "language": "python",
   "name": "python3"
  },
  "language_info": {
   "codemirror_mode": {
    "name": "ipython",
    "version": 3
   },
   "file_extension": ".py",
   "mimetype": "text/x-python",
   "name": "python",
   "nbconvert_exporter": "python",
   "pygments_lexer": "ipython3",
   "version": "3.9.13"
  },
  "vscode": {
   "interpreter": {
    "hash": "46e2835a142a16ae115bce5fddf19f27ce13b17a4ab8ded638c88ab5ce5171d2"
   }
  }
 },
 "nbformat": 4,
 "nbformat_minor": 2
}
